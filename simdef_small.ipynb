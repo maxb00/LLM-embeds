{
 "cells": [
  {
   "cell_type": "markdown",
   "metadata": {},
   "source": [
    "# Conceptual Analysis Workbook for (relatively) small LLMs.\n",
    "### Plan:\n",
    "* Load all three models from text + define new embed getters\n",
    "* Update helper methods to include all three models\n",
    "* Conduct angle tests w/ GPT, OPT, and T5\n",
    "* Define + discuss complexity tests\n",
    "* Conduct complexity tests w/ OPT and T5"
   ]
  },
  {
   "cell_type": "code",
   "execution_count": 13,
   "metadata": {},
   "outputs": [],
   "source": [
    "import os\n",
    "import torch\n",
    "import openai\n",
    "import numpy as np\n",
    "\n",
    "import sentencepiece    # necessary for proper t5 init.\n",
    "from transformers import T5Tokenizer, T5EncoderModel, GPT2Tokenizer, OPTModel\n",
    "\n",
    "from sklearn.metrics.pairwise import cosine_similarity\n",
    "\n",
    "# api key set in conda env.\n",
    "openai.api_key = os.getenv('OPENAI_API_KEY')"
   ]
  },
  {
   "cell_type": "markdown",
   "metadata": {},
   "source": [
    "## Load Models"
   ]
  },
  {
   "cell_type": "markdown",
   "metadata": {},
   "source": [
    "### Vocab"
   ]
  },
  {
   "cell_type": "code",
   "execution_count": 14,
   "metadata": {},
   "outputs": [
    {
     "data": {
      "text/plain": [
       "5124"
      ]
     },
     "execution_count": 14,
     "metadata": {},
     "output_type": "execute_result"
    }
   ],
   "source": [
    "vocab = []\n",
    "with open('./expanded_vocab.txt', 'r') as f:\n",
    "    for line in f:\n",
    "        vocab.append(line.strip())\n",
    "\n",
    "len(vocab)"
   ]
  },
  {
   "cell_type": "markdown",
   "metadata": {},
   "source": [
    "### GPT-3"
   ]
  },
  {
   "cell_type": "code",
   "execution_count": 15,
   "metadata": {},
   "outputs": [],
   "source": [
    "# Loading saved embeddings from GPT-3 Ada\n",
    "# Ada embeds: 1024 dims\n",
    "# Babbage load included below as comment.\n",
    "\"\"\"\n",
    "# Babbage embeds: 2048 dims\n",
    "bab_embeds = []\n",
    "with open(u'/gpfs/fs1/home/mbarlow6/Desktop/Conceptual-Analysis/barlow/gpt/gpt_babbage.txt', 'r') as f:\n",
    "    for line in f:\n",
    "        bab_embeds.append([float(x) for x in line.strip().split()])\n",
    "\n",
    "model_bab = dict(zip(vocab, bab_embeds))\n",
    "\"\"\"\n",
    "ada_embeds = []\n",
    "with open(u'./gpt/gpt_ada.txt', 'r') as f:\n",
    "    for line in f:\n",
    "        ada_embeds.append([float(x) for x in line.strip().split()])\n",
    "\n",
    "model_gpt = dict(zip(vocab, ada_embeds))"
   ]
  },
  {
   "cell_type": "code",
   "execution_count": 16,
   "metadata": {},
   "outputs": [],
   "source": [
    "# for getting new embeddings from OpenAI\n",
    "def gpt_embed(text, engine='text-similarity-ada-001'):\n",
    "    text = text.replace('\\n', ' ')\n",
    "    return openai.Embedding.create(input=[text], engine=engine)['data'][0]['embedding']"
   ]
  },
  {
   "cell_type": "markdown",
   "metadata": {},
   "source": [
    "### OPT"
   ]
  },
  {
   "cell_type": "code",
   "execution_count": null,
   "metadata": {},
   "outputs": [],
   "source": [
    "# Loding OPT with HuggingFace Transformers. Paramenter size can be changed- ['125m', '350m', '1.3b', '2.7b', '6.7b', '13b', '30b']\n",
    "# NOTE: 1.3b uses 2.6G of .cache space.\n",
    "\n",
    "# NOTE: The documentation recommends using the GPT2Tokenizer here.\n",
    "gpt2_tokenizer = GPT2Tokenizer.from_pretrained('facebook/opt-1.3b', cache_dir='/scratch/mbarlow6/cache')\n",
    "model_opt_raw = OPTModel.from_pretrained('facebook/opt-1.3b', cache_dir='/scratch/mbarlow6/cache')"
   ]
  },
  {
   "cell_type": "code",
   "execution_count": 18,
   "metadata": {},
   "outputs": [],
   "source": [
    "opt_embeds = []\n",
    "with open(u'./opt/1_3B.txt', 'r') as f:\n",
    "    for line in f:\n",
    "        opt_embeds.append([float(x) for x in line.strip().split()])\n",
    "model_opt = dict(zip(vocab, opt_embeds))"
   ]
  },
  {
   "cell_type": "code",
   "execution_count": 19,
   "metadata": {},
   "outputs": [],
   "source": [
    "# This is how I'm getting the embedding from OPT.\n",
    "def opt_embed(word, tokenizer=gpt2_tokenizer, model=model_opt_raw, debug=False):\n",
    "    # prepare inputs and model\n",
    "    inputs = tokenizer(word, return_tensors=\"pt\") # return pytorch tensors\n",
    "    if debug:\n",
    "        print('Tokens Requested:')\n",
    "        print(tokenizer.batch_decode(inputs.input_ids[0]))\n",
    "    with torch.no_grad():\n",
    "        outputs = model(**inputs)\n",
    "\n",
    "    # get embedding from final layer\n",
    "    last_hidden_states = outputs.last_hidden_state # I have confirmed this is the same\n",
    "                                                   # As the strategy from Tianyi\n",
    "\n",
    "    # remove unnecessary dimension\n",
    "    embeddings = torch.squeeze(last_hidden_states, dim=0)\n",
    "\n",
    "    # add all of the vectors together\n",
    "    final_embed = np.array(embeddings[1])\n",
    "    if embeddings.shape[0] > 2:\n",
    "        for next_emb in embeddings[2:]:\n",
    "            final_embed += np.array(next_emb)\n",
    "        final_embed /= embeddings.shape[0] - 1\n",
    "    return final_embed\n",
    "    # same outcome as strategy in negatives.ipynb"
   ]
  },
  {
   "cell_type": "markdown",
   "metadata": {},
   "source": [
    "### T5\n",
    "Encoder-only mean pooling embeddings most likely replicate the behavior we want - see negatives.ipynb loading section for full comment."
   ]
  },
  {
   "cell_type": "code",
   "execution_count": null,
   "metadata": {},
   "outputs": [],
   "source": [
    "t5_tokenizer = T5Tokenizer.from_pretrained('t5-large', cache_dir='/scratch/mbarlow6/cache')\n",
    "model_t5_raw = T5EncoderModel.from_pretrained('t5-large', cache_dir='/scratch/mbarlow6/cache')"
   ]
  },
  {
   "cell_type": "code",
   "execution_count": 21,
   "metadata": {},
   "outputs": [],
   "source": [
    "t5_embeds = []\n",
    "with open('./t5/t5large.txt', 'r') as f:\n",
    "    for line in f:\n",
    "        t5_embeds.append([float(x) for x in line.strip().split()])\n",
    "model_t5 = dict(zip(vocab, t5_embeds))"
   ]
  },
  {
   "cell_type": "code",
   "execution_count": 22,
   "metadata": {},
   "outputs": [],
   "source": [
    "def t5_embed(text, tokenizer=t5_tokenizer, model=model_t5_raw, debug=False):\n",
    "    inputs = tokenizer(text, return_tensors='pt')\n",
    "    if debug:\n",
    "        print('Tokens Requested:')\n",
    "        print(tokenizer.batch_decode(inputs.input_ids[0]))\n",
    "    with torch.no_grad():\n",
    "        outputs = model(**inputs)\n",
    "    # get final hidden state, remove extra dim\n",
    "    embeddings = torch.squeeze(outputs.last_hidden_state, dim=0)\n",
    "    # average the embedding of each token by dimension, return.\n",
    "    return np.array(torch.mean(embeddings, dim=0))"
   ]
  },
  {
   "cell_type": "code",
   "execution_count": 23,
   "metadata": {},
   "outputs": [],
   "source": [
    "# from tqdm.notebook import tqdm\n",
    "# for i in tqdm(range(len(vocab))):\n",
    "#     word = vocab[i]\n",
    "#     em = t5_embed(word)\n",
    "#     with open('./t5/t5large.txt', 'a') as f:\n",
    "#         for p in em:\n",
    "#             f.write(str(p) + ' ')\n",
    "#         f.write('\\n')"
   ]
  },
  {
   "cell_type": "markdown",
   "metadata": {},
   "source": [
    "## Define Helpers (for angle)"
   ]
  },
  {
   "cell_type": "code",
   "execution_count": 24,
   "metadata": {},
   "outputs": [],
   "source": [
    "def positive(words, model='gpt'):\n",
    "    \"\"\"\n",
    "    Args:\n",
    "        words: iterable\n",
    "        model: 'gpt', 'opt', or 't5'\n",
    "    Returns:\n",
    "        Positive (summed vectors) of word embeddings of a given list of words from the specified model. Defaults to GPT-3.\n",
    "    \"\"\"\n",
    "    if isinstance(words, str):\n",
    "        print(f\"You requested the positive of the string \\\"{words}\\\". Did you mean [\\\"{words}\\\"]?\")\n",
    "\n",
    "    out = 0\n",
    "    for token in words:\n",
    "        # convert token to string\n",
    "        word = str(token)\n",
    "        flag = word in vocab\n",
    "        # do model check - least intensive operation to repeat\n",
    "        if model.lower() == 'gpt':\n",
    "            # look for token in cached GPT embeds\n",
    "            if flag:\n",
    "                ex = model_gpt[word]  # ex for \"extracted\"\n",
    "            # if not found, query API\n",
    "            else:\n",
    "                ex = gpt_embed(word)\n",
    "                model_gpt[word] = ex\n",
    "        elif model.lower() == 'opt':\n",
    "            if flag:\n",
    "                ex = model_opt[word]\n",
    "            else:\n",
    "                ex = opt_embed(word)\n",
    "                model_opt[word] = ex\n",
    "        elif model.lower() == 't5':\n",
    "            if flag:\n",
    "                ex = model_t5[word]\n",
    "            else:\n",
    "                ex = t5_embed(word)\n",
    "                model_t5[word] = ex\n",
    "        else:\n",
    "            raise ValueError('Please provide either gpt, opt, or t5 as a model choice.')\n",
    "\n",
    "        # construct positive\n",
    "        if isinstance(out, int):\n",
    "            out = np.array(ex).reshape(1, -1)\n",
    "        else:\n",
    "            out += np.array(ex).reshape(1, -1)\n",
    "            \n",
    "    return out if not isinstance(out, int) else np.array([])"
   ]
  },
  {
   "cell_type": "code",
   "execution_count": 25,
   "metadata": {},
   "outputs": [],
   "source": [
    "def most_similar(target, phrase=False, topn=10, model='gpt'):\n",
    "    \"\"\"\n",
    "    Args:\n",
    "        target: str or list[float] (if phrase)\n",
    "        phrase: bool    -> True if target is vector. Default False.\n",
    "        topn: int       -> Number of results to keep [0:2+topn]\n",
    "        model: str      -> 'gpt', 'opt', or 't5'\n",
    "    Returns:\n",
    "        Top n most similar words in common vocab to the target vector in the specified model.\n",
    "    \"\"\"\n",
    "    # holder for all similarity scores\n",
    "    sims = {}\n",
    "\n",
    "    # initialize starting point\n",
    "    a = target\n",
    "\n",
    "    # if no phrase, must convert to embed.\n",
    "    if not phrase:\n",
    "        a = positive([a], model)\n",
    "\n",
    "    # now, we check every B in our vocab\n",
    "    for term in vocab:\n",
    "        b = positive([term], model)\n",
    "        if isinstance(target, str):\n",
    "            if term != target:\n",
    "                sims[term] = cosine_similarity(a, b)[0][0]\n",
    "        elif b.any():\n",
    "            sims[term] = cosine_similarity(a, b)[0][0]\n",
    "    \n",
    "    return list({k: v for k, v in sorted(sims.items(), key=lambda x: x[1], reverse=True)}.items())[:2+topn]"
   ]
  },
  {
   "cell_type": "code",
   "execution_count": 26,
   "metadata": {},
   "outputs": [],
   "source": [
    "def definition(words, topn=10, model='gpt'):\n",
    "    \"\"\"\n",
    "    Args:\n",
    "        words: iterable -> Items to be combined into a positive and defined\n",
    "        topn: int       -> number of words to keep in definiton\n",
    "        model: str      -> 'gpt', 'opt', or 't5'\n",
    "    Returns:\n",
    "        Top N most similar words in the specified model to a positive of the string representations\n",
    "        of any provided interable, if it's members can be cast to strings. \n",
    "    \"\"\"\n",
    "    # get phrase\n",
    "    if isinstance(words, str):\n",
    "        words = [words]\n",
    "    phrase = positive(words, model)\n",
    "\n",
    "    # get definition\n",
    "    def_of_positive = most_similar(phrase, True, topn, model)\n",
    "\n",
    "    return def_of_positive"
   ]
  },
  {
   "cell_type": "code",
   "execution_count": 27,
   "metadata": {},
   "outputs": [],
   "source": [
    "def define(words, topn=10):\n",
    "    \"\"\"\n",
    "    Args:\n",
    "        words: string or iterable -> Items to be combined into a positive and defined\n",
    "        topn: int                 -> number of words to keep in definiton\n",
    "    Returns:\n",
    "        None. Formats and prints definition from both models.\n",
    "    \"\"\"\n",
    "    print(*words, sep=', ')\n",
    "    print('GPT-3:')\n",
    "    print(definition(words, topn, 'gpt'))\n",
    "    print('------------------------------------------------------')\n",
    "    print('OPT:')\n",
    "    print(definition(words, topn, 'opt'))\n",
    "    print('------------------------------------------------------')\n",
    "    print('T5:')\n",
    "    print(definition(words, topn, 't5'))\n",
    "    print('------------------------------------------------------')\n"
   ]
  },
  {
   "cell_type": "code",
   "execution_count": 28,
   "metadata": {},
   "outputs": [],
   "source": [
    "def calculate_similarity(words, target, vec=False, model='gpt'):\n",
    "    \"\"\"\n",
    "    Args:\n",
    "        words: iterable or vector   -> Items to be combined into a positive and compared,\n",
    "                                       or already constructed vector of matching dimensions.\n",
    "        target: str     -> single term to calulate similarity to.\n",
    "        vec: bool       -> true if 'words' is a vector\n",
    "        model: str      -> 'gpt', 'opt', or 't5'\n",
    "    Returns:\n",
    "        The cosine similarity of the words vector and target term in specified model.\n",
    "    \"\"\"\n",
    "    # get phrase\n",
    "    phrase = words\n",
    "    if not vec:\n",
    "        if isinstance(words, str):\n",
    "            phrase = positive([words], model)\n",
    "        else:\n",
    "            phrase = positive(words, model)\n",
    "    \n",
    "    # get target\n",
    "    target = positive([target], model)\n",
    "\n",
    "    return cosine_similarity(phrase, target)[0][0]\n"
   ]
  },
  {
   "cell_type": "code",
   "execution_count": 29,
   "metadata": {},
   "outputs": [],
   "source": [
    "def sim_test(words, target):\n",
    "    \"\"\"\n",
    "    Args:\n",
    "        words: iterable, str, or vector -> Items to be combined into a positive and compared,\n",
    "                                            or already constructed vector of matching dimensions.\n",
    "        target: str                     -> single term to calulate similarity to.\n",
    "    Returns:\n",
    "        None. Formats and prints similarity from both models.\n",
    "    \"\"\"\n",
    "    print(*words, sep=', ', end='')\n",
    "    print(f' -> {target}')\n",
    "    print('GPT-3:')\n",
    "    print(calculate_similarity(words, target, model='gpt'))\n",
    "    print('------------------------------------------------------')\n",
    "    print('OPT:')\n",
    "    print(calculate_similarity(words, target, model='opt'))\n",
    "    print('------------------------------------------------------')\n",
    "    print('T5:')\n",
    "    print(calculate_similarity(words, target, model='t5'))\n",
    "    print('------------------------------------------------------')"
   ]
  },
  {
   "cell_type": "markdown",
   "metadata": {},
   "source": [
    "I'm choosing to leave out a function where both A and B are vectors, as that is mostly helpful for phrase vectors we're not constucting ourselves - so I'll include it later if needed."
   ]
  },
  {
   "cell_type": "markdown",
   "metadata": {},
   "source": [
    "## Conduct Angle tests"
   ]
  },
  {
   "cell_type": "markdown",
   "metadata": {},
   "source": [
    "### A - Bachelors, Husbands, and Wives\n",
    "Words describing spousal relations."
   ]
  },
  {
   "cell_type": "code",
   "execution_count": 30,
   "metadata": {},
   "outputs": [
    {
     "name": "stdout",
     "output_type": "stream",
     "text": [
      "man, unmarried\n",
      "GPT-3:\n",
      "[('man', 0.9574393871008093), ('unmarried', 0.9574393842477984), ('person', 0.9282141375654523), ('human', 0.9260773583481672), ('married', 0.925716217524681), ('husband', 0.9238631624971028), ('manifest', 0.923207222251275), ('male', 0.9227498746941889), ('couple', 0.9194728139414444), ('what', 0.9178848665087231), ('single', 0.91564771604982), ('one', 0.915483735529741)]\n",
      "------------------------------------------------------\n",
      "OPT:\n",
      "[('man', 0.885996842881478), ('manner', 0.8487586505974158), ('manifest', 0.8305222722582827), ('manage', 0.8198653589266234), ('manuscript', 0.8179447952184589), ('manipulation', 0.7761658724673628), ('manipulate', 0.7733485935553648), ('unmarried', 0.7626662919261634), ('unfortunately', 0.7327823689854197), ('unemployed', 0.731421729052413), ('boyfriend', 0.7143500324551498), ('unlikely', 0.7067586208467709)]\n",
      "------------------------------------------------------\n",
      "T5:\n",
      "[('man', 0.8413566970505227), ('unmarried', 0.8314060001451469), ('him', 0.7315989178180178), ('born', 0.6950887852792279), ('victim', 0.6890975157550119), ('woman', 0.68846121397689), ('human', 0.6838687586958941), ('unkind', 0.683314103240078), ('unemployed', 0.6821583133769016), ('car', 0.6820463870905459), ('unimportant', 0.6812422451374838), ('person', 0.6751725335794594)]\n",
      "------------------------------------------------------\n"
     ]
    }
   ],
   "source": [
    "define(['man', 'unmarried'])"
   ]
  },
  {
   "cell_type": "code",
   "execution_count": 31,
   "metadata": {},
   "outputs": [
    {
     "name": "stdout",
     "output_type": "stream",
     "text": [
      "man, married\n",
      "GPT-3:\n",
      "[('man', 0.9614419224507509), ('married', 0.9614419219173929), ('husband', 0.9484450418023361), ('marry', 0.9404309015085552), ('marriage', 0.9382387494957314), ('couple', 0.934796971530077), ('spouse', 0.9318137079053036), ('person', 0.9290811125868605), ('human', 0.9233877537015611), ('you', 0.922936509299525), ('manifest', 0.9213617356108426), ('him', 0.9211363475663665)]\n",
      "------------------------------------------------------\n",
      "OPT:\n",
      "[('man', 0.8663384449606284), ('manner', 0.8316395110979301), ('manifest', 0.8252928694287786), ('manuscript', 0.8148737054854491), ('manage', 0.8141060592979465), ('married', 0.7982615376954943), ('manipulate', 0.7798194649556903), ('manipulation', 0.7614170008717042), ('boyfriend', 0.7450165191295177), ('mate', 0.718733994661042), ('meantime', 0.7012631976096041), ('yesterday', 0.6999955894352266)]\n",
      "------------------------------------------------------\n",
      "T5:\n",
      "[('man', 0.8969295782758443), ('married', 0.8912107968059642), ('marry', 0.8086179956841419), ('woman', 0.7998920458029831), ('him', 0.7987805284011071), ('victim', 0.7953358015214838), ('born', 0.7875810343144116), ('husband', 0.7833614103896772), ('foreign', 0.774127701085858), ('car', 0.7684521369251927), ('worker', 0.7624142042407811), ('dealer', 0.7624091352506099)]\n",
      "------------------------------------------------------\n"
     ]
    }
   ],
   "source": [
    "define(['man', 'married'])"
   ]
  },
  {
   "cell_type": "code",
   "execution_count": 32,
   "metadata": {},
   "outputs": [
    {
     "name": "stdout",
     "output_type": "stream",
     "text": [
      "man, unmarried -> bachelor\n",
      "GPT-3:\n",
      "0.903310712489814\n",
      "------------------------------------------------------\n",
      "OPT:\n",
      "0.416106034230743\n",
      "------------------------------------------------------\n",
      "T5:\n",
      "0.6297230350407689\n",
      "------------------------------------------------------\n"
     ]
    }
   ],
   "source": [
    "sim_test(['man', 'unmarried'], 'bachelor')"
   ]
  },
  {
   "cell_type": "code",
   "execution_count": 33,
   "metadata": {},
   "outputs": [
    {
     "name": "stdout",
     "output_type": "stream",
     "text": [
      "man, married -> husband\n",
      "GPT-3:\n",
      "0.9484450418023361\n",
      "------------------------------------------------------\n",
      "OPT:\n",
      "0.6647823970515117\n",
      "------------------------------------------------------\n",
      "T5:\n",
      "0.7833614103896772\n",
      "------------------------------------------------------\n"
     ]
    }
   ],
   "source": [
    "sim_test(['man', 'married'], 'husband')"
   ]
  },
  {
   "cell_type": "code",
   "execution_count": 34,
   "metadata": {},
   "outputs": [
    {
     "name": "stdout",
     "output_type": "stream",
     "text": [
      "woman, married\n",
      "GPT-3:\n",
      "[('married', 0.964631336834191), ('woman', 0.9646313364435788), ('wife', 0.9568923973033583), ('spouse', 0.9433161765505673), ('marriage', 0.9425896983373434), ('female', 0.9396147160196819), ('marry', 0.9388715585659668), ('husband', 0.936670166774265), ('couple', 0.936052402761764), ('she', 0.9326070856151396), ('wives', 0.929861649926939), ('lady', 0.9248636675201433)]\n",
      "------------------------------------------------------\n",
      "OPT:\n",
      "[('woman', 0.8858763608258227), ('married', 0.8238625714337076), ('daughter', 0.7797461991340747), ('boyfriend', 0.7657742136832786), ('girlfriend', 0.747518990301832), ('girl', 0.7370161736159565), ('wife', 0.7348894394239303), ('husband', 0.7330106170944921), ('manuscript', 0.7066314937987579), ('grandmother', 0.6871470186954577), ('granddaughter', 0.6830161321535737), ('youngster', 0.6815322787998708)]\n",
      "------------------------------------------------------\n",
      "T5:\n",
      "[('woman', 0.9075679596067301), ('married', 0.9050173807842091), ('marry', 0.8249522547525627), ('lady', 0.8100301804138915), ('victim', 0.7872759152718638), ('girl', 0.7793825180471416), ('pregnant', 0.7694089590522826), ('man', 0.7645390318613645), ('injured', 0.7642561702257231), ('child', 0.7620007352061441), ('foreign', 0.7609321012488854), ('ashamed', 0.7600762542551978)]\n",
      "------------------------------------------------------\n"
     ]
    }
   ],
   "source": [
    "define(['woman', 'married'])"
   ]
  },
  {
   "cell_type": "code",
   "execution_count": 35,
   "metadata": {},
   "outputs": [
    {
     "name": "stdout",
     "output_type": "stream",
     "text": [
      "woman, married -> wife\n",
      "GPT-3:\n",
      "0.9568923973033583\n",
      "------------------------------------------------------\n",
      "OPT:\n",
      "0.7348894394239303\n",
      "------------------------------------------------------\n",
      "T5:\n",
      "0.7078476354479186\n",
      "------------------------------------------------------\n"
     ]
    }
   ],
   "source": [
    "sim_test(['woman', 'married'], 'wife')"
   ]
  },
  {
   "cell_type": "code",
   "execution_count": 36,
   "metadata": {},
   "outputs": [
    {
     "name": "stdout",
     "output_type": "stream",
     "text": [
      "woman, spouse\n",
      "GPT-3:\n",
      "[('woman', 0.9693675955226067), ('spouse', 0.9693675949195859), ('wife', 0.9583028946210856), ('female', 0.9382857953373832), ('spouses', 0.9360382550097874), ('husband', 0.9339551354635074), ('couple', 0.9332387684111279), ('she', 0.9309995678243246), ('married', 0.9292578268401397), ('person', 0.9289279426727296), ('wives', 0.9280040650514648), ('lady', 0.9267049168586852)]\n",
      "------------------------------------------------------\n",
      "OPT:\n",
      "[('woman', 0.9122844414270574), ('spouse', 0.7890891090037166), ('boyfriend', 0.7755293045644811), ('spouses', 0.7722972938983756), ('daughter', 0.7696403298943281), ('husband', 0.7688547074091923), ('wife', 0.7541077180663601), ('girlfriend', 0.7450312881001115), ('girl', 0.7420200925794256), ('manipulation', 0.7103418845215251), ('spokeswoman', 0.7095966258520794), ('spokesperson', 0.7075331434493506)]\n",
      "------------------------------------------------------\n",
      "T5:\n",
      "[('spouse', 0.8869849958872391), ('woman', 0.8795312624215301), ('husband', 0.8079900195673944), ('officer', 0.7818734220285795), ('girlfriend', 0.7713880173338958), ('child', 0.7709336213655333), ('lady', 0.768980278705429), ('wife', 0.768315428322647), ('person', 0.7678763728653525), ('fellow', 0.7607081418372831), ('girl', 0.7604216086696519), ('singer', 0.7595739507872705)]\n",
      "------------------------------------------------------\n"
     ]
    }
   ],
   "source": [
    "define(['woman', 'spouse'])"
   ]
  },
  {
   "cell_type": "code",
   "execution_count": 37,
   "metadata": {},
   "outputs": [
    {
     "name": "stdout",
     "output_type": "stream",
     "text": [
      "women, spouses\n",
      "GPT-3:\n",
      "[('wives', 0.9678768625462946), ('spouses', 0.9670318160416622), ('spouse', 0.9532600180422997), ('wife', 0.9466426543882364), ('couple', 0.9365391692912451), ('husbands', 0.9345357850323417), ('marriage', 0.9336396632195183), ('married', 0.9307641795242254), ('husband', 0.9303849939766571), ('woman', 0.9292538039789786), ('female', 0.9260824595388291), ('family', 0.922073326447916)]\n",
      "------------------------------------------------------\n",
      "OPT:\n",
      "[('spouses', 0.8378829501747723), ('children', 0.7960743236439928), ('girls', 0.7891043930421603), ('wives', 0.7843908691965316), ('husbands', 0.7337424823483121), ('woman', 0.7321836867679454), ('boys', 0.73120158590451), ('people', 0.7132028237948403), ('spouse', 0.702309046308607), ('daughter', 0.6974442735139585), ('sheep', 0.6903888936584397), ('himself', 0.6838380788687537)]\n",
      "------------------------------------------------------\n",
      "T5:\n",
      "[('spouses', 0.797555026956622), ('girls', 0.6487775654259706), ('woman', 0.6332407285649269), ('employer', 0.6207279918157977), ('arms', 0.6177547891158878), ('youth', 0.6064980705133309), ('sisters', 0.6051389521715701), ('partnership', 0.5924629917801544), ('husbands', 0.5853473875927466), ('branch', 0.5848235462484304), ('editor', 0.5833975155419369), ('prevention', 0.5826611495342955)]\n",
      "------------------------------------------------------\n"
     ]
    }
   ],
   "source": [
    "define(['women', 'spouses'])"
   ]
  },
  {
   "cell_type": "code",
   "execution_count": 38,
   "metadata": {},
   "outputs": [
    {
     "name": "stdout",
     "output_type": "stream",
     "text": [
      "woman, spouse -> wife\n",
      "GPT-3:\n",
      "0.9583028946210856\n",
      "------------------------------------------------------\n",
      "OPT:\n",
      "0.7541077180663601\n",
      "------------------------------------------------------\n",
      "T5:\n",
      "0.768315428322647\n",
      "------------------------------------------------------\n"
     ]
    }
   ],
   "source": [
    "sim_test(['woman', 'spouse'], 'wife')"
   ]
  },
  {
   "cell_type": "code",
   "execution_count": 39,
   "metadata": {},
   "outputs": [
    {
     "name": "stdout",
     "output_type": "stream",
     "text": [
      "women, spouses -> wives\n",
      "GPT-3:\n",
      "0.9678768625462946\n",
      "------------------------------------------------------\n",
      "OPT:\n",
      "0.7843908691965316\n",
      "------------------------------------------------------\n",
      "T5:\n",
      "0.5515538879521509\n",
      "------------------------------------------------------\n"
     ]
    }
   ],
   "source": [
    "sim_test(['women', 'spouses'], 'wives')"
   ]
  },
  {
   "cell_type": "code",
   "execution_count": null,
   "metadata": {},
   "outputs": [],
   "source": [
    "define(['female', 'spouse'])"
   ]
  },
  {
   "cell_type": "code",
   "execution_count": null,
   "metadata": {},
   "outputs": [],
   "source": [
    "sim_test(['female', 'spouse'], 'wife')"
   ]
  },
  {
   "cell_type": "code",
   "execution_count": 40,
   "metadata": {},
   "outputs": [
    {
     "name": "stdout",
     "output_type": "stream",
     "text": [
      "man, spouse\n",
      "GPT-3:\n",
      "[('man', 0.962084172364732), ('spouse', 0.9620841706718597), ('husband', 0.9496874597051836), ('person', 0.9409165214048233), ('couple', 0.9359461095366195), ('spouses', 0.9350059048616294), ('married', 0.9299075956420162), ('human', 0.9283761067489947), ('wife', 0.9260494730406059), ('him', 0.9234024671581352), ('sum', 0.9232893187721536), ('father', 0.922784008432849)]\n",
      "------------------------------------------------------\n",
      "OPT:\n",
      "[('man', 0.8994232336052005), ('manifest', 0.8631178062918794), ('manner', 0.8577256424381958), ('manipulation', 0.8229738037612163), ('manuscript', 0.8183365195446253), ('manage', 0.816225735024274), ('manipulate', 0.7883471711448886), ('spouse', 0.7624252520480261), ('boyfriend', 0.7482258282753127), ('spouses', 0.7385119915625636), ('mate', 0.7081036290860419), ('spokesman', 0.7070451879937989)]\n",
      "------------------------------------------------------\n",
      "T5:\n",
      "[('spouse', 0.8670936489734951), ('man', 0.8620094423423793), ('husband', 0.8448111636091383), ('officer', 0.799525340440408), ('him', 0.7860731020819742), ('singer', 0.7807420433637543), ('tenant', 0.7804848629706757), ('person', 0.7803581770012591), ('president', 0.7799823118894353), ('union', 0.7779006330652033), ('woman', 0.7773965531540157), ('employee', 0.7754474055607782)]\n",
      "------------------------------------------------------\n"
     ]
    }
   ],
   "source": [
    "define(['man', 'spouse'])"
   ]
  },
  {
   "cell_type": "code",
   "execution_count": 41,
   "metadata": {},
   "outputs": [
    {
     "name": "stdout",
     "output_type": "stream",
     "text": [
      "men, spouses\n",
      "GPT-3:\n",
      "[('spouses', 0.9632354267890622), ('husbands', 0.9502174456654946), ('spouse', 0.9408705691171747), ('husband', 0.9379355106158141), ('couple', 0.9344770546948105), ('wives', 0.9268565274462921), ('married', 0.9248361318444289), ('marriage', 0.9241547935439827), ('family', 0.9200518284058132), ('people', 0.9182769860781621), ('they', 0.9153267610273681), ('father', 0.9150406784851493)]\n",
      "------------------------------------------------------\n",
      "OPT:\n",
      "[('spouses', 0.8466080582742529), ('spouse', 0.7456312086417818), ('husbands', 0.7359921769477056), ('boys', 0.7318386411986559), ('wives', 0.7100812747422823), ('girls', 0.7089302302097362), ('teens', 0.6869850909792079), ('manipulation', 0.6827339202935186), ('children', 0.6817313736404076), ('spokesman', 0.6797241741504711), ('spokesperson', 0.678176076395433), ('siblings', 0.6730379879023307)]\n",
      "------------------------------------------------------\n",
      "T5:\n",
      "[('spouses', 0.7703073652693275), ('husbands', 0.7571537894770407), ('woman', 0.7289194441672938), ('man', 0.7252140702493156), ('wives', 0.7004223469516822), ('boys', 0.6946802140310471), ('daughters', 0.6924809351292163), ('husband', 0.6917556909331039), ('personnel', 0.6862929501817685), ('fellow', 0.6830567843734858), ('fool', 0.6765718708782151), ('gentleman', 0.6757332787045084)]\n",
      "------------------------------------------------------\n"
     ]
    }
   ],
   "source": [
    "define(['men', 'spouses'])"
   ]
  },
  {
   "cell_type": "code",
   "execution_count": 42,
   "metadata": {},
   "outputs": [
    {
     "name": "stdout",
     "output_type": "stream",
     "text": [
      "male, spouse\n",
      "GPT-3:\n",
      "[('male', 0.9623219204673592), ('spouse', 0.9623219190362389), ('husband', 0.9475313396332239), ('couple', 0.9394179702979454), ('spouses', 0.9339890746748664), ('married', 0.9330896147854479), ('person', 0.9280096291952866), ('gender', 0.9267599042731943), ('husbands', 0.9237886381161453), ('female', 0.9237204541199127), ('partner', 0.9236599895812495), ('human', 0.9218679288082892)]\n",
      "------------------------------------------------------\n",
      "OPT:\n",
      "[('male', 0.8732633833191408), ('female', 0.8001403537352472), ('spouse', 0.7735667864111877), ('spouses', 0.7372964706319469), ('boyfriend', 0.6764440225656366), ('spokesperson', 0.6690374961475587), ('spokesman', 0.6614587010296803), ('wife', 0.6584279653989359), ('husband', 0.6539461379697912), ('spokeswoman', 0.6538185643389719), ('daughter', 0.6533869213532835), ('woman', 0.6446877385911055)]\n",
      "------------------------------------------------------\n",
      "T5:\n",
      "[('spouse', 0.8762307891884773), ('husband', 0.7028997578998908), ('wife', 0.6955873309260223), ('male', 0.6802239570686979), ('singer', 0.6801179652996372), ('sister', 0.6786748585458493), ('bachelor', 0.6544871374722074), ('fellow', 0.6534950075360465), ('wives', 0.6513784924005858), ('niece', 0.6493417269576529), ('officer', 0.6474487578846069), ('granddaughter', 0.6432322985606109)]\n",
      "------------------------------------------------------\n"
     ]
    }
   ],
   "source": [
    "define(['male', 'spouse'])"
   ]
  },
  {
   "cell_type": "code",
   "execution_count": 43,
   "metadata": {},
   "outputs": [
    {
     "name": "stdout",
     "output_type": "stream",
     "text": [
      "male, spouses\n",
      "GPT-3:\n",
      "[('male', 0.9558336643759909), ('spouses', 0.955833657892458), ('spouse', 0.9533496092933855), ('husband', 0.9481375445396195), ('husbands', 0.9427816858036653), ('couple', 0.9390864083595996), ('married', 0.9333003909696297), ('marriage', 0.9278369231760236), ('father', 0.9229110567683492), ('gender', 0.9211675776031061), ('human', 0.9189393222001251), ('house', 0.9172186945240626)]\n",
      "------------------------------------------------------\n",
      "OPT:\n",
      "[('male', 0.8633301696589903), ('spouses', 0.79540061618441), ('female', 0.7933920742821607), ('spouse', 0.7383700694602912), ('husbands', 0.685926507865421), ('boyfriend', 0.6843965207987109), ('spokesperson', 0.6785417931869093), ('daughter', 0.672519954291948), ('wives', 0.670862085449726), ('spokesman', 0.6696620449964078), ('spokeswoman', 0.6633012696520003), ('woman', 0.6586169214626504)]\n",
      "------------------------------------------------------\n",
      "T5:\n",
      "[('male', 0.7867614497901925), ('spouses', 0.7684940079638206), ('arms', 0.6443154775818299), ('navy', 0.620665597785109), ('cheek', 0.6033435030313149), ('purple', 0.6022195820264074), ('naval', 0.5998546584784051), ('vehicle', 0.5957475495365208), ('chair', 0.5927020551770883), ('ceiling', 0.5908906517812843), ('present', 0.5885169319406517), ('spider', 0.5885110646688905)]\n",
      "------------------------------------------------------\n"
     ]
    }
   ],
   "source": [
    "define(['male', 'spouses'])"
   ]
  },
  {
   "cell_type": "code",
   "execution_count": 44,
   "metadata": {},
   "outputs": [
    {
     "name": "stdout",
     "output_type": "stream",
     "text": [
      "male, spouse -> husband\n",
      "GPT-3:\n",
      "0.9475313396332239\n",
      "------------------------------------------------------\n",
      "OPT:\n",
      "0.6539461379697912\n",
      "------------------------------------------------------\n",
      "T5:\n",
      "0.7028997578998908\n",
      "------------------------------------------------------\n"
     ]
    }
   ],
   "source": [
    "sim_test(['male', 'spouse'], 'husband')"
   ]
  },
  {
   "cell_type": "code",
   "execution_count": 45,
   "metadata": {},
   "outputs": [
    {
     "name": "stdout",
     "output_type": "stream",
     "text": [
      "male, spouses -> husbands\n",
      "GPT-3:\n",
      "0.9427816858036653\n",
      "------------------------------------------------------\n",
      "OPT:\n",
      "0.685926507865421\n",
      "------------------------------------------------------\n",
      "T5:\n",
      "0.5320250988109181\n",
      "------------------------------------------------------\n"
     ]
    }
   ],
   "source": [
    "sim_test(['male', 'spouses'], 'husbands')"
   ]
  },
  {
   "cell_type": "code",
   "execution_count": 46,
   "metadata": {},
   "outputs": [
    {
     "name": "stdout",
     "output_type": "stream",
     "text": [
      "man, spouse -> husband\n",
      "GPT-3:\n",
      "0.9496874597051836\n",
      "------------------------------------------------------\n",
      "OPT:\n",
      "0.6912702391360005\n",
      "------------------------------------------------------\n",
      "T5:\n",
      "0.8448111636091383\n",
      "------------------------------------------------------\n"
     ]
    }
   ],
   "source": [
    "sim_test(['man', 'spouse'], 'husband')"
   ]
  },
  {
   "cell_type": "code",
   "execution_count": 47,
   "metadata": {},
   "outputs": [
    {
     "name": "stdout",
     "output_type": "stream",
     "text": [
      "men, spouses -> husbands\n",
      "GPT-3:\n",
      "0.9502174456654946\n",
      "------------------------------------------------------\n",
      "OPT:\n",
      "0.7359921769477056\n",
      "------------------------------------------------------\n",
      "T5:\n",
      "0.7571537894770407\n",
      "------------------------------------------------------\n"
     ]
    }
   ],
   "source": [
    "sim_test(['men', 'spouses'], 'husbands')"
   ]
  },
  {
   "cell_type": "markdown",
   "metadata": {},
   "source": [
    "### B - Brothers, sisters, and daughters\n",
    "Family words related to children."
   ]
  },
  {
   "cell_type": "markdown",
   "metadata": {},
   "source": [
    "* Male, sibling, brother."
   ]
  },
  {
   "cell_type": "code",
   "execution_count": 48,
   "metadata": {},
   "outputs": [
    {
     "name": "stdout",
     "output_type": "stream",
     "text": [
      "man, sibling\n",
      "GPT-3:\n",
      "[('man', 0.9573662782650898), ('sibling', 0.9573662770783836), ('brother', 0.9538425559346113), ('person', 0.9347231068272143), ('son', 0.9346143206523212), ('siblings', 0.9335061869293211), ('him', 0.9306810103625845), ('brothers', 0.9303117262337444), ('human', 0.928581883454251), ('you', 0.9276267681419719), ('sum', 0.9270019403201195), ('father', 0.9268902569625375)]\n",
      "------------------------------------------------------\n",
      "OPT:\n",
      "[('man', 0.8941992083753505), ('manner', 0.851686937977097), ('manifest', 0.8498415091924564), ('manuscript', 0.8039399428131107), ('manage', 0.8037715939882866), ('manipulation', 0.7879926790175358), ('manipulate', 0.7583808915679665), ('siblings', 0.7428458467877597), ('sibling', 0.7268027234415497), ('suspect', 0.725408006755357), ('sister', 0.7188946097566331), ('boyfriend', 0.7121058877946541)]\n",
      "------------------------------------------------------\n",
      "T5:\n",
      "[('man', 0.8804988788068665), ('person', 0.7649095639552994), ('woman', 0.7630939440341592), ('sibling', 0.7555282106006764), ('him', 0.7522653606439172), ('member', 0.7493089856767654), ('officer', 0.7290877261779173), ('human', 0.7144237513525508), ('car', 0.7137579182664886), ('she', 0.7123885468198161), ('beneficiary', 0.7120489650922652), ('fellow', 0.7120150027868005)]\n",
      "------------------------------------------------------\n"
     ]
    }
   ],
   "source": [
    "define(['man', 'sibling'])"
   ]
  },
  {
   "cell_type": "code",
   "execution_count": 49,
   "metadata": {},
   "outputs": [
    {
     "name": "stdout",
     "output_type": "stream",
     "text": [
      "man, sibling -> brother\n",
      "GPT-3:\n",
      "0.9538425559346113\n",
      "------------------------------------------------------\n",
      "OPT:\n",
      "0.6679592841726274\n",
      "------------------------------------------------------\n",
      "T5:\n",
      "0.6809753929994926\n",
      "------------------------------------------------------\n"
     ]
    }
   ],
   "source": [
    "sim_test(['man', 'sibling'], 'brother')"
   ]
  },
  {
   "cell_type": "code",
   "execution_count": 50,
   "metadata": {},
   "outputs": [
    {
     "name": "stdout",
     "output_type": "stream",
     "text": [
      "men, siblings -> brothers\n",
      "GPT-3:\n",
      "0.9507396126173475\n",
      "------------------------------------------------------\n",
      "OPT:\n",
      "0.6497953959006818\n",
      "------------------------------------------------------\n",
      "T5:\n",
      "0.4651496301025052\n",
      "------------------------------------------------------\n"
     ]
    }
   ],
   "source": [
    "sim_test(['men', 'siblings'], 'brothers')"
   ]
  },
  {
   "cell_type": "code",
   "execution_count": 51,
   "metadata": {},
   "outputs": [
    {
     "name": "stdout",
     "output_type": "stream",
     "text": [
      "boys, siblings\n",
      "GPT-3:\n",
      "[('boys', 0.968080190192264), ('siblings', 0.9680801895977976), ('brothers', 0.9611713297118251), ('sibling', 0.9448565655612772), ('brother', 0.9429287819891876), ('children', 0.9333956376419), ('boy', 0.9258704273176603), ('sisters', 0.923539076000806), ('family', 0.9167276049799848), ('teens', 0.9126933459395592), ('girls', 0.9120033230050758), ('they', 0.9074711223363339)]\n",
      "------------------------------------------------------\n",
      "OPT:\n",
      "[('boys', 0.9144994939179069), ('siblings', 0.8706582398889535), ('girls', 0.8395861740698718), ('sisters', 0.8247531872082055), ('boyfriend', 0.7480487319587138), ('brothers', 0.7373118781751464), ('children', 0.7250318055332488), ('wives', 0.7217291294532366), ('husbands', 0.7206251499438823), ('sometime', 0.7077753150837706), ('sister', 0.7067407336420318), ('daughters', 0.7042429418992611)]\n",
      "------------------------------------------------------\n",
      "T5:\n",
      "[('boys', 0.9073906531223963), ('siblings', 0.8932794121414583), ('boy', 0.7603509174210645), ('girl', 0.7548972299821268), ('daughters', 0.7494871333904056), ('sister', 0.7478135972217466), ('dad', 0.7469323514054611), ('niece', 0.7425058607134725), ('idiot', 0.7337190273701777), ('soldier', 0.7306367795977335), ('wives', 0.7290418869336965), ('boyfriend', 0.7231964748550479)]\n",
      "------------------------------------------------------\n"
     ]
    }
   ],
   "source": [
    "define(['boys', 'siblings'])"
   ]
  },
  {
   "cell_type": "code",
   "execution_count": 52,
   "metadata": {},
   "outputs": [
    {
     "name": "stdout",
     "output_type": "stream",
     "text": [
      "boy, sibling -> brother\n",
      "GPT-3:\n",
      "0.9566508382237244\n",
      "------------------------------------------------------\n",
      "OPT:\n",
      "0.6601419070564094\n",
      "------------------------------------------------------\n",
      "T5:\n",
      "0.6939939170037881\n",
      "------------------------------------------------------\n"
     ]
    }
   ],
   "source": [
    "sim_test(['boy', 'sibling'], 'brother')"
   ]
  },
  {
   "cell_type": "code",
   "execution_count": 53,
   "metadata": {},
   "outputs": [
    {
     "name": "stdout",
     "output_type": "stream",
     "text": [
      "boys, siblings -> brothers\n",
      "GPT-3:\n",
      "0.9611713297118251\n",
      "------------------------------------------------------\n",
      "OPT:\n",
      "0.7373118781751464\n",
      "------------------------------------------------------\n",
      "T5:\n",
      "0.4459633838939217\n",
      "------------------------------------------------------\n"
     ]
    }
   ],
   "source": [
    "sim_test(['boys', 'siblings'], 'brothers')"
   ]
  },
  {
   "cell_type": "code",
   "execution_count": 54,
   "metadata": {},
   "outputs": [
    {
     "name": "stdout",
     "output_type": "stream",
     "text": [
      "male, sibling\n",
      "GPT-3:\n",
      "[('male', 0.9612182788942357), ('sibling', 0.9612182780753862), ('brother', 0.9478799468180388), ('siblings', 0.9398927757177307), ('brothers', 0.9322481096293992), ('gender', 0.9267300048126865), ('sister', 0.9243294190465867), ('son', 0.923130031331001), ('father', 0.9215559164206671), ('name', 0.9202169095758258), ('human', 0.9185746448511343), ('female', 0.9185088692026457)]\n",
      "------------------------------------------------------\n",
      "OPT:\n",
      "[('male', 0.8719845533989214), ('female', 0.7951852137356272), ('sibling', 0.7514147799072636), ('siblings', 0.7050779337174915), ('sister', 0.6732514443077753), ('suspect', 0.6713579501679824), ('sisters', 0.6662066310651582), ('lesbian', 0.6406996030535843), ('silly', 0.6405271918141169), ('sometime', 0.6338078159615725), ('sadly', 0.6284851268867193), ('sensible', 0.6282936513068036)]\n",
      "------------------------------------------------------\n",
      "T5:\n",
      "[('sibling', 0.8052782460260731), ('male', 0.7672658986331969), ('active', 0.6423306972488276), ('present', 0.6393251586830975), ('prime', 0.6343399282103575), ('purple', 0.6275919371421091), ('branch', 0.6191026359180201), ('host', 0.6166454937058965), ('indoor', 0.6081333261631192), ('horse', 0.6076776897837244), ('cheek', 0.6062192925588521), ('prominent', 0.6023870243054035)]\n",
      "------------------------------------------------------\n"
     ]
    }
   ],
   "source": [
    "define(['male', 'sibling'])"
   ]
  },
  {
   "cell_type": "code",
   "execution_count": 55,
   "metadata": {},
   "outputs": [
    {
     "name": "stdout",
     "output_type": "stream",
     "text": [
      "male, sibling -> brother\n",
      "GPT-3:\n",
      "0.9478799468180388\n",
      "------------------------------------------------------\n",
      "OPT:\n",
      "0.5604806113866312\n",
      "------------------------------------------------------\n",
      "T5:\n",
      "0.48306048355691833\n",
      "------------------------------------------------------\n"
     ]
    }
   ],
   "source": [
    "sim_test(['male', 'sibling'], 'brother')"
   ]
  },
  {
   "cell_type": "code",
   "execution_count": 56,
   "metadata": {},
   "outputs": [
    {
     "name": "stdout",
     "output_type": "stream",
     "text": [
      "male, siblings -> brothers\n",
      "GPT-3:\n",
      "0.9429295025476534\n",
      "------------------------------------------------------\n",
      "OPT:\n",
      "0.6768129424215222\n",
      "------------------------------------------------------\n",
      "T5:\n",
      "0.575975806929338\n",
      "------------------------------------------------------\n"
     ]
    }
   ],
   "source": [
    "sim_test(['male', 'siblings'], 'brothers')"
   ]
  },
  {
   "cell_type": "markdown",
   "metadata": {},
   "source": [
    "* Female, sibling, sister"
   ]
  },
  {
   "cell_type": "code",
   "execution_count": 57,
   "metadata": {},
   "outputs": [
    {
     "name": "stdout",
     "output_type": "stream",
     "text": [
      "female, sibling\n",
      "GPT-3:\n",
      "[('female', 0.964887082218451), ('sibling', 0.964887081033464), ('sister', 0.956936532291368), ('siblings', 0.9451279462614018), ('sisters', 0.9382796236972685), ('brother', 0.9290062437797563), ('gender', 0.9282455319375151), ('daughter', 0.9261136272829396), ('she', 0.9248209659036907), ('family', 0.9239645695494294), ('girl', 0.9231883889006374), ('mother', 0.9229718334320807)]\n",
      "------------------------------------------------------\n",
      "OPT:\n",
      "[('female', 0.8696045077568799), ('male', 0.8372985080823494), ('sibling', 0.7229800878253165), ('siblings', 0.6856967103113658), ('sister', 0.6618879203167848), ('youngster', 0.6505109408284765), ('sisters', 0.6465228603250284), ('lesbian', 0.6431180149693336), ('silly', 0.6421215123937166), ('suspect', 0.6380382167563743), ('sadly', 0.6345134049908934), ('foreigner', 0.6261013167175813)]\n",
      "------------------------------------------------------\n",
      "T5:\n",
      "[('female', 0.8586028572826583), ('sibling', 0.7602449340258428), ('lady', 0.7177632556265632), ('woman', 0.7089630114255681), ('sister', 0.6980081900570132), ('colleague', 0.6869477344941465), ('fellow', 0.6784632996869312), ('individual', 0.6732083909540203), ('passenger', 0.66515389636314), ('relative', 0.6623863896060918), ('false', 0.6512533258686211), ('intimate', 0.6503650145580802)]\n",
      "------------------------------------------------------\n"
     ]
    }
   ],
   "source": [
    "define(['female', 'sibling'])"
   ]
  },
  {
   "cell_type": "code",
   "execution_count": 58,
   "metadata": {},
   "outputs": [
    {
     "name": "stdout",
     "output_type": "stream",
     "text": [
      "female, siblings\n",
      "GPT-3:\n",
      "[('female', 0.9622297205723549), ('siblings', 0.9622297178143397), ('sisters', 0.9534547034794214), ('sibling', 0.9530601423356931), ('sister', 0.951755276521169), ('family', 0.9329862795208205), ('daughters', 0.932109676294921), ('couple', 0.9275009377329169), ('gender', 0.924877409346208), ('mother', 0.9242968227078404), ('brother', 0.9231534454879253), ('daughter', 0.922408025139366)]\n",
      "------------------------------------------------------\n",
      "OPT:\n",
      "[('female', 0.8499515266097886), ('male', 0.8177872672584631), ('siblings', 0.7787026433679691), ('sisters', 0.7099030217016422), ('daughter', 0.7055796050116034), ('girls', 0.6888966168355036), ('youngster', 0.6859696240395714), ('boyfriend', 0.6858264685439205), ('brothers', 0.6847739208352482), ('sadly', 0.6773859083342159), ('sibling', 0.6750882649447635), ('herself', 0.6721058709569063)]\n",
      "------------------------------------------------------\n",
      "T5:\n",
      "[('siblings', 0.8942914209405428), ('female', 0.8747180161593393), ('sister', 0.7881359101772155), ('elderly', 0.7578887826604527), ('indigenous', 0.7503977875548675), ('lady', 0.7477305428860561), ('daughter', 0.7351419460909565), ('married', 0.7349027134133828), ('fellow', 0.7340075846122177), ('ethnic', 0.7281626131053436), ('niece', 0.7239105151413092), ('minority', 0.7221969035121378)]\n",
      "------------------------------------------------------\n"
     ]
    }
   ],
   "source": [
    "define(['female', 'siblings'])"
   ]
  },
  {
   "cell_type": "code",
   "execution_count": 59,
   "metadata": {},
   "outputs": [
    {
     "name": "stdout",
     "output_type": "stream",
     "text": [
      "female, sibling -> sister\n",
      "GPT-3:\n",
      "0.956936532291368\n",
      "------------------------------------------------------\n",
      "OPT:\n",
      "0.6618879203167848\n",
      "------------------------------------------------------\n",
      "T5:\n",
      "0.6980081900570132\n",
      "------------------------------------------------------\n"
     ]
    }
   ],
   "source": [
    "sim_test(['female', 'sibling'], 'sister')"
   ]
  },
  {
   "cell_type": "code",
   "execution_count": 60,
   "metadata": {},
   "outputs": [
    {
     "name": "stdout",
     "output_type": "stream",
     "text": [
      "female, siblings -> sisters\n",
      "GPT-3:\n",
      "0.9534547034794214\n",
      "------------------------------------------------------\n",
      "OPT:\n",
      "0.7099030217016422\n",
      "------------------------------------------------------\n",
      "T5:\n",
      "0.4265280378763746\n",
      "------------------------------------------------------\n"
     ]
    }
   ],
   "source": [
    "sim_test(['female', 'siblings'], 'sisters')"
   ]
  },
  {
   "cell_type": "code",
   "execution_count": 61,
   "metadata": {},
   "outputs": [
    {
     "name": "stdout",
     "output_type": "stream",
     "text": [
      "woman, sibling\n",
      "GPT-3:\n",
      "[('woman', 0.9562168078353658), ('sibling', 0.9562168077089461), ('sister', 0.9543894620766744), ('female', 0.944884999830079), ('she', 0.9384035070686124), ('mother', 0.9349334016365657), ('siblings', 0.9344449467503059), ('person', 0.9308601648886747), ('family', 0.9267309702592055), ('daughter', 0.9263824643135565), ('wife', 0.9259257874888888), ('name', 0.9249448859425277)]\n",
      "------------------------------------------------------\n",
      "OPT:\n",
      "[('woman', 0.8958763030025035), ('boyfriend', 0.7584730878497212), ('siblings', 0.7576682801851895), ('daughter', 0.7573547102196272), ('girl', 0.7479769177044813), ('sibling', 0.7232207947677805), ('husband', 0.7106162721473408), ('sisters', 0.7062485701845543), ('sister', 0.7058624718911608), ('girlfriend', 0.7051111502295615), ('manuscript', 0.7043571973832932), ('manner', 0.7004203690211133)]\n",
      "------------------------------------------------------\n",
      "T5:\n",
      "[('woman', 0.891207215700693), ('sibling', 0.7853631993800381), ('lady', 0.7562689600114374), ('person', 0.7528954652938866), ('member', 0.7414572749459393), ('girl', 0.7293487932492776), ('resident', 0.7158371442007115), ('man', 0.7129715887111057), ('officer', 0.7116299856512718), ('fellow', 0.707862550042035), ('owner', 0.7077163514502538), ('colleague', 0.707521472497171)]\n",
      "------------------------------------------------------\n"
     ]
    }
   ],
   "source": [
    "define(['woman', 'sibling'])"
   ]
  },
  {
   "cell_type": "code",
   "execution_count": 62,
   "metadata": {},
   "outputs": [
    {
     "name": "stdout",
     "output_type": "stream",
     "text": [
      "women, siblings\n",
      "GPT-3:\n",
      "[('siblings', 0.9619979945075989), ('sisters', 0.9599318755112884), ('sister', 0.9432754459692267), ('sibling', 0.9413745631830571), ('wives', 0.940524318925006), ('daughters', 0.939222904991416), ('family', 0.9373784123568716), ('female', 0.9363404073457315), ('couple', 0.9295472009544037), ('mother', 0.9251329542577214), ('girls', 0.9224008122922516), ('they', 0.9219652680137902)]\n",
      "------------------------------------------------------\n",
      "OPT:\n",
      "[('siblings', 0.8298052352349449), ('girls', 0.8135327652560369), ('children', 0.8004344606539677), ('boys', 0.7607111822446999), ('wives', 0.754630948575732), ('sisters', 0.7535171269794181), ('woman', 0.7243996525257794), ('daughter', 0.720206164736396), ('husbands', 0.7161681132128597), ('people', 0.6991381676260968), ('boyfriend', 0.6924575700787523), ('spouses', 0.6918388261203707)]\n",
      "------------------------------------------------------\n",
      "T5:\n",
      "[('siblings', 0.8901336925604141), ('sister', 0.7387278719395665), ('daughters', 0.7096509079715918), ('fellow', 0.6879370046774478), ('indigenous', 0.6855777104999563), ('niece', 0.6759673525927734), ('elderly', 0.675210734273084), ('woman', 0.6706926025178892), ('stranger', 0.6673443641277292), ('lady', 0.6648246627340824), ('assistant', 0.6626127643346209), ('minority', 0.6620325734706342)]\n",
      "------------------------------------------------------\n"
     ]
    }
   ],
   "source": [
    "define(['women', 'siblings'])"
   ]
  },
  {
   "cell_type": "code",
   "execution_count": 63,
   "metadata": {},
   "outputs": [
    {
     "name": "stdout",
     "output_type": "stream",
     "text": [
      "woman, sibling -> sister\n",
      "GPT-3:\n",
      "0.9543894620766744\n",
      "------------------------------------------------------\n",
      "OPT:\n",
      "0.7058624718911608\n",
      "------------------------------------------------------\n",
      "T5:\n",
      "0.6800730624736109\n",
      "------------------------------------------------------\n"
     ]
    }
   ],
   "source": [
    "sim_test(['woman', 'sibling'], 'sister')"
   ]
  },
  {
   "cell_type": "code",
   "execution_count": 64,
   "metadata": {},
   "outputs": [
    {
     "name": "stdout",
     "output_type": "stream",
     "text": [
      "women, siblings -> sisters\n",
      "GPT-3:\n",
      "0.9599318755112884\n",
      "------------------------------------------------------\n",
      "OPT:\n",
      "0.7535171269794181\n",
      "------------------------------------------------------\n",
      "T5:\n",
      "0.6404114406172997\n",
      "------------------------------------------------------\n"
     ]
    }
   ],
   "source": [
    "sim_test(['women', 'siblings'], 'sisters')"
   ]
  },
  {
   "cell_type": "code",
   "execution_count": 65,
   "metadata": {},
   "outputs": [
    {
     "name": "stdout",
     "output_type": "stream",
     "text": [
      "girl, sibling\n",
      "GPT-3:\n",
      "[('sibling', 0.9628090714279097), ('girl', 0.9628090711754012), ('sister', 0.9510075633557207), ('siblings', 0.9394049758598502), ('girls', 0.9342970357455234), ('female', 0.9293413919504111), ('sisters', 0.9282140637681622), ('daughter', 0.927431616367755), ('brother', 0.9261779259254909), ('she', 0.925852188974991), ('child', 0.924836644897143), ('kid', 0.9206238275706947)]\n",
      "------------------------------------------------------\n",
      "OPT:\n",
      "[('girl', 0.8891954581372763), ('boyfriend', 0.7888656153245834), ('sibling', 0.7615359350726484), ('siblings', 0.759710049950925), ('sister', 0.7565864825285684), ('boy', 0.7464539570267237), ('sisters', 0.7389243647844022), ('boys', 0.7305695617249894), ('girls', 0.7168829176652383), ('guy', 0.71393722609625), ('woman', 0.7107001788609899), ('daughter', 0.7090099845882787)]\n",
      "------------------------------------------------------\n",
      "T5:\n",
      "[('girl', 0.8936250389387532), ('child', 0.7721686339085962), ('woman', 0.7675035896219979), ('sibling', 0.7523592252216775), ('girlfriend', 0.7433706440701544), ('secretary', 0.7371908431812475), ('officer', 0.7330826414168264), ('soldier', 0.7308623147294943), ('creature', 0.729515824055479), ('worker', 0.7228111678688414), ('buyer', 0.721736393583661), ('insect', 0.7214709364605942)]\n",
      "------------------------------------------------------\n"
     ]
    }
   ],
   "source": [
    "define(['girl', 'sibling'])"
   ]
  },
  {
   "cell_type": "code",
   "execution_count": 66,
   "metadata": {},
   "outputs": [
    {
     "name": "stdout",
     "output_type": "stream",
     "text": [
      "girl, siblings\n",
      "GPT-3:\n",
      "[('girl', 0.9583381030397391), ('siblings', 0.9583381016856872), ('sibling', 0.9527504112494598), ('girls', 0.9490887353743767), ('sister', 0.9475885608757655), ('sisters', 0.9451794541147139), ('female', 0.9283334064237518), ('daughter', 0.9254697386302507), ('child', 0.9243535324049073), ('children', 0.9237093756167394), ('brother', 0.9220462628667201), ('she', 0.9217013368789512)]\n",
      "------------------------------------------------------\n",
      "OPT:\n",
      "[('girl', 0.8852668023139248), ('siblings', 0.8280236059086299), ('boyfriend', 0.8244876625043984), ('boys', 0.7879193350336722), ('girls', 0.7797924247550605), ('sisters', 0.7782721232883294), ('daughter', 0.7667879952091907), ('boy', 0.7501939017752398), ('sister', 0.7434614046810059), ('woman', 0.7418679750988437), ('girlfriend', 0.7392181606907489), ('brothers', 0.73762836536465)]\n",
      "------------------------------------------------------\n",
      "T5:\n",
      "[('girl', 0.8908435183584397), ('siblings', 0.874032446422924), ('boys', 0.805054469291754), ('sister', 0.7901517916767915), ('girlfriend', 0.787007848931228), ('child', 0.7850502419477597), ('soldier', 0.7834004362437621), ('niece', 0.7802125958971382), ('daughter', 0.7780260437041484), ('idiot', 0.7714881656747073), ('officer', 0.7702375119288563), ('secretary', 0.765544780373911)]\n",
      "------------------------------------------------------\n"
     ]
    }
   ],
   "source": [
    "define(['girl', 'siblings'])"
   ]
  },
  {
   "cell_type": "code",
   "execution_count": 67,
   "metadata": {},
   "outputs": [
    {
     "name": "stdout",
     "output_type": "stream",
     "text": [
      "girl, sibling -> sister\n",
      "GPT-3:\n",
      "0.9510075633557207\n",
      "------------------------------------------------------\n",
      "OPT:\n",
      "0.7565864825285684\n",
      "------------------------------------------------------\n",
      "T5:\n",
      "0.692912661643289\n",
      "------------------------------------------------------\n"
     ]
    }
   ],
   "source": [
    "sim_test(['girl', 'sibling'], 'sister')"
   ]
  },
  {
   "cell_type": "code",
   "execution_count": 68,
   "metadata": {},
   "outputs": [
    {
     "name": "stdout",
     "output_type": "stream",
     "text": [
      "girls, siblings -> sisters\n",
      "GPT-3:\n",
      "0.9599722957779924\n",
      "------------------------------------------------------\n",
      "OPT:\n",
      "0.8193700584900423\n",
      "------------------------------------------------------\n",
      "T5:\n",
      "0.6547863397406923\n",
      "------------------------------------------------------\n"
     ]
    }
   ],
   "source": [
    "sim_test(['girls', 'siblings'], 'sisters')"
   ]
  },
  {
   "cell_type": "markdown",
   "metadata": {},
   "source": [
    "* Female, children, daughter"
   ]
  },
  {
   "cell_type": "code",
   "execution_count": 69,
   "metadata": {},
   "outputs": [
    {
     "name": "stdout",
     "output_type": "stream",
     "text": [
      "girl, children\n",
      "GPT-3:\n",
      "[('children', 0.9666316410283714), ('girl', 0.9666316396109573), ('child', 0.9578169941510852), ('girls', 0.9569423579634053), ('kid', 0.9365856002011393), ('female', 0.9236825190408627), ('baby', 0.9213930709488336), ('boy', 0.9209232812562047), ('daughter', 0.9199574343996691), ('gender', 0.913294091740371), ('she', 0.9126891563825096), ('around', 0.9118148010487241)]\n",
      "------------------------------------------------------\n",
      "OPT:\n",
      "[('children', 0.9053640669466504), ('girl', 0.8778833794471848), ('girls', 0.8251191996684122), ('boyfriend', 0.8250804372135493), ('boys', 0.814604193565465), ('daughter', 0.8110034651073659), ('woman', 0.7987131979337789), ('girlfriend', 0.7501947455845457), ('boy', 0.7380573775247147), ('guy', 0.7102404416086349), ('brothers', 0.7064979339185524), ('himself', 0.6864513418809611)]\n",
      "------------------------------------------------------\n",
      "T5:\n",
      "[('girl', 0.9033216759333804), ('child', 0.7944891108769521), ('woman', 0.7841803155316929), ('teacher', 0.7569382396528481), ('children', 0.7541455159526582), ('worker', 0.7511568124219302), ('patient', 0.7506192300144479), ('officer', 0.7480059296812598), ('secretary', 0.7436675207832627), ('boys', 0.7433620066951958), ('civilian', 0.7416925249065625), ('girlfriend', 0.7368673205985163)]\n",
      "------------------------------------------------------\n"
     ]
    }
   ],
   "source": [
    "define(['girl', 'children'])"
   ]
  },
  {
   "cell_type": "code",
   "execution_count": 70,
   "metadata": {},
   "outputs": [
    {
     "name": "stdout",
     "output_type": "stream",
     "text": [
      "woman, children\n",
      "GPT-3:\n",
      "[('children', 0.957642681126684), ('woman', 0.9576426797294372), ('child', 0.9515767830687498), ('female', 0.9414757326639832), ('mother', 0.9357109423368348), ('human', 0.9285243405290786), ('she', 0.9274153649989352), ('girl', 0.9271802905074749), ('baby', 0.9241854350831853), ('person', 0.923791908376834), ('people', 0.9233478156446084), ('daughter', 0.9211607747746374)]\n",
      "------------------------------------------------------\n",
      "OPT:\n",
      "[('children', 0.913372382690083), ('woman', 0.9082524255337142), ('daughter', 0.8188720872690616), ('boyfriend', 0.7766664384562973), ('girl', 0.7477719081366265), ('girls', 0.747217379888995), ('girlfriend', 0.7354828996571111), ('boys', 0.7302004975179266), ('sheep', 0.7116746386052021), ('himself', 0.7001488257379618), ('people', 0.6982470111105588), ('manuscript', 0.6969570680612884)]\n",
      "------------------------------------------------------\n",
      "T5:\n",
      "[('woman', 0.9046562330251027), ('children', 0.7950145448191855), ('person', 0.7514659448225443), ('lady', 0.7355482029853516), ('girl', 0.734294288566278), ('civilian', 0.728535101418075), ('man', 0.7256024494279306), ('officer', 0.7231092135482996), ('people', 0.7203909853520711), ('child', 0.7190630470813064), ('injured', 0.7132461164610355), ('resident', 0.707722908883722)]\n",
      "------------------------------------------------------\n"
     ]
    }
   ],
   "source": [
    "define(['woman', 'children'])"
   ]
  },
  {
   "cell_type": "code",
   "execution_count": 71,
   "metadata": {},
   "outputs": [
    {
     "name": "stdout",
     "output_type": "stream",
     "text": [
      "female, children\n",
      "GPT-3:\n",
      "[('children', 0.9638928917024139), ('female', 0.9638928916306357), ('child', 0.9527661609897715), ('girls', 0.9368583525631906), ('girl', 0.9317922956893646), ('gender', 0.9289898622560189), ('baby', 0.927764937723071), ('mother', 0.9260793482843631), ('daughter', 0.9232514041705409), ('woman', 0.922910988319164), ('around', 0.9201858770467675), ('human', 0.9199507596804941)]\n",
      "------------------------------------------------------\n",
      "OPT:\n",
      "[('children', 0.8799609994360587), ('female', 0.8401436416326484), ('male', 0.8012360839969532), ('daughter', 0.7587765194909271), ('girls', 0.7486668693776524), ('woman', 0.722630964934138), ('youngster', 0.71279625477869), ('boys', 0.7112860404487247), ('boyfriend', 0.7075633678329626), ('ourselves', 0.7073289805859501), ('themselves', 0.7052157425537731), ('herself', 0.6893832831595582)]\n",
      "------------------------------------------------------\n",
      "T5:\n",
      "[('female', 0.8646245181214878), ('children', 0.7476650419415389), ('woman', 0.7354243393770762), ('lady', 0.7071102786164278), ('girls', 0.6661814016678478), ('girl', 0.6597264389416042), ('civilian', 0.6594638344410299), ('fellow', 0.6455071985261975), ('personnel', 0.6450284525098587), ('young', 0.6402513008962596), ('indigenous', 0.6401496273094855), ('officer', 0.6390328542249668)]\n",
      "------------------------------------------------------\n"
     ]
    }
   ],
   "source": [
    "define(['female', 'children'])"
   ]
  },
  {
   "cell_type": "code",
   "execution_count": 72,
   "metadata": {},
   "outputs": [
    {
     "name": "stdout",
     "output_type": "stream",
     "text": [
      "girl, children -> daughter\n",
      "GPT-3:\n",
      "0.9199574343996691\n",
      "------------------------------------------------------\n",
      "OPT:\n",
      "0.8110034651073659\n",
      "------------------------------------------------------\n",
      "T5:\n",
      "0.6570462354136002\n",
      "------------------------------------------------------\n"
     ]
    }
   ],
   "source": [
    "sim_test(['girl', 'children'], 'daughter')"
   ]
  },
  {
   "cell_type": "code",
   "execution_count": 73,
   "metadata": {},
   "outputs": [
    {
     "name": "stdout",
     "output_type": "stream",
     "text": [
      "woman, children -> daughter\n",
      "GPT-3:\n",
      "0.9211607747746374\n",
      "------------------------------------------------------\n",
      "OPT:\n",
      "0.8188720872690616\n",
      "------------------------------------------------------\n",
      "T5:\n",
      "0.6018252137782943\n",
      "------------------------------------------------------\n"
     ]
    }
   ],
   "source": [
    "sim_test(['woman', 'children'], 'daughter')"
   ]
  },
  {
   "cell_type": "code",
   "execution_count": 74,
   "metadata": {},
   "outputs": [
    {
     "name": "stdout",
     "output_type": "stream",
     "text": [
      "female, children -> daughter\n",
      "GPT-3:\n",
      "0.9232514041705409\n",
      "------------------------------------------------------\n",
      "OPT:\n",
      "0.7587765194909271\n",
      "------------------------------------------------------\n",
      "T5:\n",
      "0.6139559882019199\n",
      "------------------------------------------------------\n"
     ]
    }
   ],
   "source": [
    "sim_test(['female', 'children'], 'daughter')"
   ]
  },
  {
   "cell_type": "code",
   "execution_count": 75,
   "metadata": {},
   "outputs": [
    {
     "name": "stdout",
     "output_type": "stream",
     "text": [
      "female, offspring\n",
      "GPT-3:\n",
      "[('female', 0.9617593386910952), ('offspring', 0.9617593339015695), ('mother', 0.9245037755057686), ('gender', 0.9229292130021383), ('birth', 0.9225665466305328), ('baby', 0.9220181296016174), ('daughter', 0.9184087667062377), ('sister', 0.9163182226148394), ('pregnant', 0.9158022556661689), ('pregnancy', 0.9148222167086872), ('daughters', 0.9132635458354439), ('woman', 0.9130242113229747)]\n",
      "------------------------------------------------------\n",
      "OPT:\n",
      "[('female', 0.8769243737971986), ('male', 0.8406021341719185), ('offspring', 0.8110480389199101), ('youngster', 0.71397201377457), ('offence', 0.7051981837937658), ('offense', 0.7004268606032557), ('offender', 0.6960786842775357), ('yourself', 0.6897723616817422), ('engineer', 0.6889762449984507), ('herself', 0.6880334124183309), ('foreigner', 0.6852204350086004), ('offsprings', 0.6803824325122294)]\n",
      "------------------------------------------------------\n",
      "T5:\n",
      "[('offspring', 0.8272454102135459), ('female', 0.8225446480787737), ('daughter', 0.7008428263911035), ('indigenous', 0.6869864307279765), ('offender', 0.6867167790945712), ('offsprings', 0.6844323619827717), ('household', 0.6842265999731678), ('victim', 0.6841547187304766), ('lady', 0.683242348423902), ('individual', 0.6785563548172433), ('passenger', 0.6781750888897927), ('elderly', 0.6777597384673445)]\n",
      "------------------------------------------------------\n"
     ]
    }
   ],
   "source": [
    "define(['female', 'offspring'])"
   ]
  },
  {
   "cell_type": "code",
   "execution_count": 76,
   "metadata": {},
   "outputs": [
    {
     "name": "stdout",
     "output_type": "stream",
     "text": [
      "female, offsprings\n",
      "GPT-3:\n",
      "[('female', 0.9566181267454683), ('offsprings', 0.9566181255520363), ('gender', 0.9208111712737939), ('woman', 0.9180429001943269), ('there', 0.9164066635673761), ('feat', 0.9155374657535539), ('upside', 0.9144139582381805), ('she', 0.9143867855900403), ('offspring', 0.9142626523138018), ('around', 0.9118652489696568), ('favour', 0.9115125734769677), ('character', 0.9097998756791102)]\n",
      "------------------------------------------------------\n",
      "OPT:\n",
      "[('female', 0.8772582372879161), ('male', 0.8370685412484005), ('offspring', 0.7531183595094475), ('offsprings', 0.7402139265515815), ('youngster', 0.6830849579913467), ('yourself', 0.6784673821278959), ('herself', 0.6731134827492391), ('offence', 0.6699710875778577), ('engineer', 0.6676104471682449), ('offense', 0.6669715456644898), ('supportive', 0.6617256093925503), ('straightforward', 0.6610580412400582)]\n",
      "------------------------------------------------------\n",
      "T5:\n",
      "[('female', 0.8447598044448621), ('offsprings', 0.7707239266313041), ('offspring', 0.7012293062816304), ('daughter', 0.6682850762275991), ('elderly', 0.66705857684414), ('lady', 0.666204142174537), ('indigenous', 0.656549244550776), ('married', 0.6558182753062811), ('defensive', 0.6554739944262349), ('household', 0.6489012498443654), ('passenger', 0.6476242695835156), ('parental', 0.6450564121698483)]\n",
      "------------------------------------------------------\n"
     ]
    }
   ],
   "source": [
    "define(['female', 'offsprings'])"
   ]
  },
  {
   "cell_type": "code",
   "execution_count": 77,
   "metadata": {},
   "outputs": [
    {
     "name": "stdout",
     "output_type": "stream",
     "text": [
      "female, offspring -> daughter\n",
      "GPT-3:\n",
      "0.9184087667062377\n",
      "------------------------------------------------------\n",
      "OPT:\n",
      "0.6788833297252161\n",
      "------------------------------------------------------\n",
      "T5:\n",
      "0.7008428263911035\n",
      "------------------------------------------------------\n"
     ]
    }
   ],
   "source": [
    "sim_test(['female', 'offspring'], 'daughter')"
   ]
  },
  {
   "cell_type": "code",
   "execution_count": 78,
   "metadata": {},
   "outputs": [
    {
     "name": "stdout",
     "output_type": "stream",
     "text": [
      "female, offsprings -> daughters\n",
      "GPT-3:\n",
      "0.8889128974904628\n",
      "------------------------------------------------------\n",
      "OPT:\n",
      "0.5291346478567805\n",
      "------------------------------------------------------\n",
      "T5:\n",
      "0.5803639840018378\n",
      "------------------------------------------------------\n"
     ]
    }
   ],
   "source": [
    "sim_test(['female', 'offsprings'], 'daughters')"
   ]
  },
  {
   "cell_type": "code",
   "execution_count": 79,
   "metadata": {},
   "outputs": [
    {
     "name": "stdout",
     "output_type": "stream",
     "text": [
      "woman, offspring\n",
      "GPT-3:\n",
      "[('woman', 0.9516310860223764), ('offspring', 0.9516310814353685), ('female', 0.9431058687854854), ('mother', 0.9379533591020421), ('birth', 0.9255613899788676), ('pregnancy', 0.9229231222942266), ('pregnant', 0.9222948567290469), ('baby', 0.9221356339607663), ('she', 0.9204704371650523), ('daughter', 0.9200157795940154), ('person', 0.9190676130286912), ('wife', 0.9187500914861754)]\n",
      "------------------------------------------------------\n",
      "OPT:\n",
      "[('woman', 0.9104500575109127), ('offspring', 0.8290045102749302), ('daughter', 0.7846604236132395), ('boyfriend', 0.7802775058304452), ('girl', 0.7464745356607179), ('manuscript', 0.7420490542659202), ('sheep', 0.7340152699860227), ('momentum', 0.7329296141695185), ('girlfriend', 0.7327031348155478), ('manipulation', 0.73173477833268), ('manner', 0.7308870343913914), ('children', 0.7296359741056448)]\n",
      "------------------------------------------------------\n",
      "T5:\n",
      "[('woman', 0.8352342958176003), ('offspring', 0.8109926276676026), ('victim', 0.768001646391956), ('person', 0.7571823681502038), ('lady', 0.7450475233091944), ('owner', 0.7433223829895276), ('him', 0.7432996138813447), ('child', 0.7421056958755505), ('beneficiary', 0.7421010903920071), ('man', 0.7378751164836965), ('worker', 0.737303556255058), ('girl', 0.7371697062459598)]\n",
      "------------------------------------------------------\n"
     ]
    }
   ],
   "source": [
    "define(['woman', 'offspring'])"
   ]
  },
  {
   "cell_type": "code",
   "execution_count": 80,
   "metadata": {},
   "outputs": [
    {
     "name": "stdout",
     "output_type": "stream",
     "text": [
      "woman, offsprings\n",
      "GPT-3:\n",
      "[('offsprings', 0.9516872599172511), ('woman', 0.9516872597477257), ('female', 0.9326867287420209), ('she', 0.9243460677763029), ('person', 0.9185539059416321), ('mother', 0.9163916371967352), ('there', 0.9135744541701708), ('upside', 0.913292680929158), ('human', 0.9118822696383855), ('character', 0.9100892780419656), ('gender', 0.9098402065036402), ('round', 0.9090756255173522)]\n",
      "------------------------------------------------------\n",
      "OPT:\n",
      "[('woman', 0.9082012586585125), ('offspring', 0.7803676534173442), ('boyfriend', 0.7601899909483891), ('daughter', 0.7601110805149499), ('offsprings', 0.7588610343422737), ('girl', 0.7354418825263992), ('manipulation', 0.7313596702673792), ('manuscript', 0.7305601752874594), ('manner', 0.7216257628257177), ('momentum', 0.7196760437900349), ('girlfriend', 0.7121228157695152), ('sheep', 0.7104152890763034)]\n",
      "------------------------------------------------------\n",
      "T5:\n",
      "[('woman', 0.8521660358380811), ('offsprings', 0.741490500478805), ('lady', 0.7411210526382453), ('victim', 0.7356544918246686), ('girl', 0.7226942643722847), ('person', 0.7199479284109412), ('man', 0.7101208195828363), ('him', 0.7092611600849502), ('resident', 0.7071052163967896), ('child', 0.7062866247274155), ('officer', 0.7055213013406207), ('owner', 0.7030416260821467)]\n",
      "------------------------------------------------------\n"
     ]
    }
   ],
   "source": [
    "define(['woman', 'offsprings'])"
   ]
  },
  {
   "cell_type": "code",
   "execution_count": 81,
   "metadata": {},
   "outputs": [
    {
     "name": "stdout",
     "output_type": "stream",
     "text": [
      "woman, offspring -> daughter\n",
      "GPT-3:\n",
      "0.9200157795940154\n",
      "------------------------------------------------------\n",
      "OPT:\n",
      "0.7846604236132395\n",
      "------------------------------------------------------\n",
      "T5:\n",
      "0.7169954828922823\n",
      "------------------------------------------------------\n"
     ]
    }
   ],
   "source": [
    "sim_test(['woman', 'offspring'], 'daughter')"
   ]
  },
  {
   "cell_type": "code",
   "execution_count": 82,
   "metadata": {},
   "outputs": [
    {
     "name": "stdout",
     "output_type": "stream",
     "text": [
      "women, offsprings -> daughters\n",
      "GPT-3:\n",
      "0.8964918869907845\n",
      "------------------------------------------------------\n",
      "OPT:\n",
      "0.6137859137416883\n",
      "------------------------------------------------------\n",
      "T5:\n",
      "0.5420116275092903\n",
      "------------------------------------------------------\n"
     ]
    }
   ],
   "source": [
    "sim_test(['women', 'offsprings'], 'daughters')"
   ]
  },
  {
   "cell_type": "code",
   "execution_count": null,
   "metadata": {},
   "outputs": [],
   "source": [
    "define(['female', 'child'])"
   ]
  },
  {
   "cell_type": "code",
   "execution_count": null,
   "metadata": {},
   "outputs": [],
   "source": [
    "sim_test(['female', 'child'], 'girl')"
   ]
  },
  {
   "cell_type": "code",
   "execution_count": null,
   "metadata": {},
   "outputs": [],
   "source": [
    "# plural; removal?\n",
    "sim_test(['female', 'children'], 'girls')"
   ]
  },
  {
   "cell_type": "code",
   "execution_count": null,
   "metadata": {},
   "outputs": [],
   "source": [
    "define(['male', 'child'])"
   ]
  },
  {
   "cell_type": "code",
   "execution_count": null,
   "metadata": {},
   "outputs": [],
   "source": [
    "sim_test(['male', 'child'], 'boy')"
   ]
  },
  {
   "cell_type": "code",
   "execution_count": null,
   "metadata": {},
   "outputs": [],
   "source": [
    "define(['male', 'offspring'])"
   ]
  },
  {
   "cell_type": "code",
   "execution_count": null,
   "metadata": {},
   "outputs": [],
   "source": [
    "sim_test(['male', 'offspring'], 'son')"
   ]
  },
  {
   "cell_type": "markdown",
   "metadata": {},
   "source": [
    "### C - Animals, diminutives, and augmentatives!\n",
    "Is a baby duck a duckling?"
   ]
  },
  {
   "cell_type": "code",
   "execution_count": 83,
   "metadata": {},
   "outputs": [
    {
     "name": "stdout",
     "output_type": "stream",
     "text": [
      "baby, duck\n",
      "GPT-3:\n",
      "[('baby', 0.9630496707306292), ('duck', 0.9630496693485963), ('duckling', 0.9483280181669149), ('child', 0.9249847872533217), ('infant', 0.924552270748521), ('birth', 0.9244885536809033), ('there', 0.9204207683220613), ('down', 0.9191436793566761), ('rid', 0.9173116624512383), ('buck', 0.9173000798493369), ('egg', 0.9172971903822483), ('puppy', 0.9154902777645133)]\n",
      "------------------------------------------------------\n",
      "OPT:\n",
      "[('baby', 0.894463465190662), ('duckling', 0.8207083691540811), ('duck', 0.7332403900324568), ('dull', 0.6367049743060318), ('kidney', 0.6322666215893379), ('boyfriend', 0.6314013484135944), ('dog', 0.6271043618752745), ('duo', 0.6156070181484683), ('grandchild', 0.6055716003551901), ('brother', 0.6046235959348372), ('youngster', 0.599783569491756), ('manner', 0.5986339110729503)]\n",
      "------------------------------------------------------\n",
      "T5:\n",
      "[('duck', 0.8111561428227232), ('baby', 0.7458023491115191), ('box', 0.6649496712444745), ('cupboard', 0.6407380353571333), ('song', 0.6350021672585496), ('cabin', 0.6303038712262212), ('feather', 0.6216914635776993), ('shed', 0.6209192778883912), ('children', 0.616708996570551), ('creep', 0.6163592057597155), ('cheerful', 0.6153744189665811), ('rocket', 0.6141461572502247)]\n",
      "------------------------------------------------------\n"
     ]
    }
   ],
   "source": [
    "define(['baby', 'duck'])"
   ]
  },
  {
   "cell_type": "code",
   "execution_count": 84,
   "metadata": {},
   "outputs": [
    {
     "name": "stdout",
     "output_type": "stream",
     "text": [
      "baby, duck -> duckling\n",
      "GPT-3:\n",
      "0.9483280181669149\n",
      "------------------------------------------------------\n",
      "OPT:\n",
      "0.8207083691540811\n",
      "------------------------------------------------------\n",
      "T5:\n",
      "0.5437253039963204\n",
      "------------------------------------------------------\n"
     ]
    }
   ],
   "source": [
    "sim_test(['baby', 'duck'], 'duckling')"
   ]
  },
  {
   "cell_type": "code",
   "execution_count": 85,
   "metadata": {},
   "outputs": [
    {
     "name": "stdout",
     "output_type": "stream",
     "text": [
      "small, duck\n",
      "GPT-3:\n",
      "[('duck', 0.9543271657518128), ('small', 0.9543271626389949), ('down', 0.9320061022676656), ('duckling', 0.9271576660268376), ('tiny', 0.9267853939058065), ('low', 0.9214774760050461), ('there', 0.9210601246884299), ('under', 0.9199454199913306), ('rid', 0.9169712462895157), ('close', 0.9164451871271608), ('round', 0.9147054674391402), ('list', 0.9140228197673019)]\n",
      "------------------------------------------------------\n",
      "OPT:\n",
      "[('small', 0.8804568409421278), ('tiny', 0.7546449621021287), ('large', 0.7411797068168522), ('duckling', 0.7401965527093617), ('large-scale', 0.6976518352442993), ('duck', 0.6783245829968988), ('dull', 0.6762745283195434), ('big', 0.6621896810968525), ('medium', 0.6452811926645569), ('huge', 0.6409633443508636), ('largely', 0.6406186402187972), ('massive', 0.6255351577277019)]\n",
      "------------------------------------------------------\n",
      "T5:\n",
      "[('duck', 0.884120588913419), ('small', 0.859916244928304), ('tiny', 0.7831339706434157), ('bright', 0.757182010139819), ('green', 0.75674645753866), ('modest', 0.7563704236087503), ('sharp', 0.7520026127998078), ('cheerful', 0.7501482696822346), ('naked', 0.7487682809974635), ('eager', 0.7485635690271625), ('sensible', 0.7447777783147412), ('cupboard', 0.7429714549221363)]\n",
      "------------------------------------------------------\n"
     ]
    }
   ],
   "source": [
    "define(['small', 'duck'])"
   ]
  },
  {
   "cell_type": "code",
   "execution_count": 86,
   "metadata": {},
   "outputs": [
    {
     "name": "stdout",
     "output_type": "stream",
     "text": [
      "small, duck -> duckling\n",
      "GPT-3:\n",
      "0.9271576660268376\n",
      "------------------------------------------------------\n",
      "OPT:\n",
      "0.7401965527093617\n",
      "------------------------------------------------------\n",
      "T5:\n",
      "0.6661620265520534\n",
      "------------------------------------------------------\n"
     ]
    }
   ],
   "source": [
    "sim_test(['small', 'duck'], 'duckling')"
   ]
  },
  {
   "cell_type": "code",
   "execution_count": 87,
   "metadata": {},
   "outputs": [
    {
     "name": "stdout",
     "output_type": "stream",
     "text": [
      "little, duck\n",
      "GPT-3:\n",
      "[('little', 0.9521555373314179), ('duck', 0.9521555363689829), ('duckling', 0.9395635829634439), ('down', 0.9279849477068647), ('small', 0.9202107087210366), ('tiny', 0.916057438976834), ('under', 0.9155946329380066), ('there', 0.9146095198153161), ('child', 0.9117369602096537), ('bottom', 0.9111347295486614), ('how', 0.9092549796062958), ('baby', 0.9089653964032308)]\n",
      "------------------------------------------------------\n",
      "OPT:\n",
      "[('little', 0.8787631575597559), ('duckling', 0.729711828186326), ('duck', 0.6831783235210029), ('tiny', 0.6809824543845104), ('dull', 0.6374447970144536), ('small', 0.5929536173148897), ('duo', 0.5858706356484976), ('big', 0.585502698709921), ('dual', 0.5760246230614768), ('cheerful', 0.5613517980893158), ('youngster', 0.5467270868598595), ('supermarket', 0.5446819952661517)]\n",
      "------------------------------------------------------\n",
      "T5:\n",
      "[('little', 0.874713191121589), ('duck', 0.8692010332432655), ('tiny', 0.7915835197535177), ('eager', 0.7677635629004951), ('silly', 0.7621258421994609), ('nasty', 0.75685626334327), ('cheerful', 0.7548699505520304), ('feather', 0.7535879673566641), ('small', 0.7509488322844964), ('shed', 0.7473305575153756), ('cupboard', 0.7467470721974501), ('young', 0.7423224889831205)]\n",
      "------------------------------------------------------\n"
     ]
    }
   ],
   "source": [
    "define(['little', 'duck'])"
   ]
  },
  {
   "cell_type": "code",
   "execution_count": 88,
   "metadata": {},
   "outputs": [
    {
     "name": "stdout",
     "output_type": "stream",
     "text": [
      "little, duck -> duckling\n",
      "GPT-3:\n",
      "0.9395635829634439\n",
      "------------------------------------------------------\n",
      "OPT:\n",
      "0.729711828186326\n",
      "------------------------------------------------------\n",
      "T5:\n",
      "0.663642908682794\n",
      "------------------------------------------------------\n"
     ]
    }
   ],
   "source": [
    "sim_test(['little', 'duck'], 'duckling')"
   ]
  },
  {
   "cell_type": "code",
   "execution_count": 89,
   "metadata": {},
   "outputs": [
    {
     "name": "stdout",
     "output_type": "stream",
     "text": [
      "child, duck\n",
      "GPT-3:\n",
      "[('child', 0.959754151486522), ('duck', 0.9597541496963414), ('duckling', 0.9485760597022014), ('children', 0.937577897269021), ('baby', 0.9347632734939539), ('kid', 0.926786706823965), ('there', 0.9245866126576519), ('down', 0.9240708844710344), ('rid', 0.9202206251274159), ('how', 0.9188377608548518), ('boy', 0.917994337957256), ('bird', 0.917424905347453)]\n",
      "------------------------------------------------------\n",
      "OPT:\n",
      "[('child', 0.8811302382355695), ('duckling', 0.765976836763266), ('duck', 0.7302206881660855), ('grandchild', 0.6646453329599453), ('kidney', 0.6604081791855867), ('dog', 0.644023947462187), ('kid', 0.628099113653354), ('kidnap', 0.6142059816594493), ('dull', 0.6141397437151076), ('children', 0.6009777261839939), ('horse', 0.6006685471427268), ('bird', 0.595389977089855)]\n",
      "------------------------------------------------------\n",
      "T5:\n",
      "[('child', 0.8959581469187533), ('duck', 0.8380033188288087), ('insect', 0.7968319674066293), ('tree', 0.7941288855727333), ('hair', 0.7922143015160799), ('union', 0.7919122262490098), ('awake', 0.7895580690490837), ('victim', 0.787517664496524), ('stupid', 0.7838286096742413), ('car', 0.782746062888903), ('animal', 0.7809583414397607), ('secretary', 0.7808274246026768)]\n",
      "------------------------------------------------------\n"
     ]
    }
   ],
   "source": [
    "define(['child', 'duck'])"
   ]
  },
  {
   "cell_type": "code",
   "execution_count": 90,
   "metadata": {},
   "outputs": [
    {
     "name": "stdout",
     "output_type": "stream",
     "text": [
      "child, duck -> duckling\n",
      "GPT-3:\n",
      "0.9485760597022014\n",
      "------------------------------------------------------\n",
      "OPT:\n",
      "0.765976836763266\n",
      "------------------------------------------------------\n",
      "T5:\n",
      "0.6190045792536467\n",
      "------------------------------------------------------\n"
     ]
    }
   ],
   "source": [
    "sim_test(['child', 'duck'], 'duckling')"
   ]
  },
  {
   "cell_type": "code",
   "execution_count": 91,
   "metadata": {},
   "outputs": [
    {
     "name": "stdout",
     "output_type": "stream",
     "text": [
      "young, duck\n",
      "GPT-3:\n",
      "[('young', 0.9557138663913897), ('duck', 0.9557138648708687), ('duckling', 0.9294376230205035), ('there', 0.923915077911029), ('rid', 0.9213392419600231), ('you', 0.9210674542288999), ('youth', 0.9210273807674823), ('under', 0.9206702091773388), ('one', 0.9193329104365233), ('opt', 0.9190742308202825), ('how', 0.9189168125250601), ('youngster', 0.9187949855648048)]\n",
      "------------------------------------------------------\n",
      "OPT:\n",
      "[('young', 0.8914778051896193), ('youngster', 0.8417356613374702), ('duckling', 0.759709427126056), ('duck', 0.698462657537282), ('dull', 0.6773262238856027), ('cheerful', 0.6433441051564903), ('drunk', 0.6347669876309893), ('duo', 0.6303994978374998), ('gay', 0.6237278171890841), ('lesbian', 0.6221768757498223), ('tall', 0.6209047051740483), ('old-fashioned', 0.6170904121288536)]\n",
      "------------------------------------------------------\n",
      "T5:\n",
      "[('young', 0.8899399734808556), ('duck', 0.8732044960051137), ('eager', 0.797090838722169), ('cheerful', 0.7852957109708589), ('keen', 0.7647996386263309), ('black', 0.7635729582113899), ('excited', 0.7617101829687578), ('dumb', 0.7602189027523407), ('silly', 0.7573480398118538), ('naked', 0.7570113400334033), ('bright', 0.7559429804543982), ('pleasant', 0.7555745919876837)]\n",
      "------------------------------------------------------\n"
     ]
    }
   ],
   "source": [
    "define(['young', 'duck'])"
   ]
  },
  {
   "cell_type": "code",
   "execution_count": 92,
   "metadata": {},
   "outputs": [
    {
     "name": "stdout",
     "output_type": "stream",
     "text": [
      "young, duck -> duckling\n",
      "GPT-3:\n",
      "0.9294376230205035\n",
      "------------------------------------------------------\n",
      "OPT:\n",
      "0.759709427126056\n",
      "------------------------------------------------------\n",
      "T5:\n",
      "0.6343379468763657\n",
      "------------------------------------------------------\n"
     ]
    }
   ],
   "source": [
    "sim_test(['young', 'duck'], 'duckling')"
   ]
  },
  {
   "cell_type": "code",
   "execution_count": 93,
   "metadata": {},
   "outputs": [
    {
     "name": "stdout",
     "output_type": "stream",
     "text": [
      "small, cat\n",
      "GPT-3:\n",
      "[('cat', 0.9547398196171303), ('small', 0.9547398156013137), ('pet', 0.9271971209094247), ('down', 0.9214190742630344), ('tiny', 0.9196981960753107), ('dog', 0.918244191940466), ('there', 0.9177239607990495), ('close', 0.9161864037336761), ('low', 0.9152816573858107), ('kitten', 0.9144343215546878), ('one', 0.913943789594781), ('under', 0.9136109791889321)]\n",
      "------------------------------------------------------\n",
      "OPT:\n",
      "[('small', 0.8209442054490963), ('cat', 0.7990171249809421), ('catalogue', 0.7554134099789742), ('tiny', 0.7208996460281327), ('large', 0.7150408502558051), ('large-scale', 0.6799754208278088), ('medium', 0.636466290043039), ('largely', 0.6348095243007607), ('dog', 0.6318710044763178), ('big', 0.6271790490101511), ('horse', 0.6240998413132238), ('ratio', 0.622279324032994)]\n",
      "------------------------------------------------------\n",
      "T5:\n",
      "[('cat', 0.8907750128772927), ('small', 0.8431393806047112), ('tiny', 0.7769826596378606), ('cheap', 0.7644953660924987), ('black', 0.7610991514761647), ('hair', 0.7594557147039953), ('large', 0.7553639362343963), ('lovely', 0.7518266895669752), ('blue', 0.7489190870884512), ('light', 0.7479370566554719), ('sky', 0.7474166836740088), ('white', 0.7467907926182309)]\n",
      "------------------------------------------------------\n"
     ]
    }
   ],
   "source": [
    "define(['small', 'cat'])"
   ]
  },
  {
   "cell_type": "code",
   "execution_count": 94,
   "metadata": {},
   "outputs": [
    {
     "name": "stdout",
     "output_type": "stream",
     "text": [
      "small, cat -> kitten\n",
      "GPT-3:\n",
      "0.9144343215546878\n",
      "------------------------------------------------------\n",
      "OPT:\n",
      "0.5512440564332646\n",
      "------------------------------------------------------\n",
      "T5:\n",
      "0.40799627401039307\n",
      "------------------------------------------------------\n"
     ]
    }
   ],
   "source": [
    "sim_test(['small', 'cat'], 'kitten')"
   ]
  },
  {
   "cell_type": "code",
   "execution_count": 95,
   "metadata": {},
   "outputs": [
    {
     "name": "stdout",
     "output_type": "stream",
     "text": [
      "baby, cat\n",
      "GPT-3:\n",
      "[('baby', 0.9627088624346655), ('cat', 0.9627088618041234), ('kitten', 0.941256265442302), ('pet', 0.9353502278711769), ('child', 0.9308834499165959), ('dog', 0.9266288592304173), ('infant', 0.9227496752331122), ('puppy', 0.9213753613528664), ('birth', 0.9198636149257411), ('there', 0.9178328590655713), ('animal', 0.9150242918376973), ('rat', 0.9148801643131865)]\n",
      "------------------------------------------------------\n",
      "OPT:\n",
      "[('baby', 0.862008353638249), ('cat', 0.8518424458983207), ('catalogue', 0.7794657930588615), ('dog', 0.70858555302566), ('horse', 0.672169256401049), ('duckling', 0.6525414299280246), ('kitten', 0.6465518780434741), ('kidney', 0.6426282651023386), ('boyfriend', 0.6374430387148684), ('bird', 0.6326286276592845), ('painter', 0.6170127458221375), ('grandchild', 0.6148238791120569)]\n",
      "------------------------------------------------------\n",
      "T5:\n",
      "[('cat', 0.8383279275464726), ('baby', 0.7400089353758057), ('hair', 0.6786094918082202), ('box', 0.676339657677519), ('patch', 0.6720387426789654), ('car', 0.6676721791169627), ('animal', 0.6649607802004307), ('button', 0.664429662435404), ('shopping', 0.6599763602401595), ('insect', 0.6599304866255252), ('food', 0.6583515268683032), ('awake', 0.6567755302165748)]\n",
      "------------------------------------------------------\n"
     ]
    }
   ],
   "source": [
    "define(['baby', 'cat'])"
   ]
  },
  {
   "cell_type": "code",
   "execution_count": 96,
   "metadata": {},
   "outputs": [
    {
     "name": "stdout",
     "output_type": "stream",
     "text": [
      "baby, cat -> kitten\n",
      "GPT-3:\n",
      "0.941256265442302\n",
      "------------------------------------------------------\n",
      "OPT:\n",
      "0.6465518780434741\n",
      "------------------------------------------------------\n",
      "T5:\n",
      "0.4958669884472512\n",
      "------------------------------------------------------\n"
     ]
    }
   ],
   "source": [
    "sim_test(['baby', 'cat'], 'kitten')"
   ]
  },
  {
   "cell_type": "code",
   "execution_count": 97,
   "metadata": {},
   "outputs": [
    {
     "name": "stdout",
     "output_type": "stream",
     "text": [
      "child, cat\n",
      "GPT-3:\n",
      "[('child', 0.9625442760647225), ('cat', 0.9625442751690445), ('kitten', 0.9374190578513657), ('pet', 0.9364259471550237), ('baby', 0.9313718239227277), ('kid', 0.9302270224920524), ('children', 0.929336687894052), ('dog', 0.9289953849179579), ('rat', 0.9204654370917789), ('there', 0.9189922704066238), ('animal', 0.9175600755023097), ('mouse', 0.9140432671475167)]\n",
      "------------------------------------------------------\n",
      "OPT:\n",
      "[('cat', 0.8624346671482463), ('child', 0.8568505761241643), ('catalogue', 0.764858985916628), ('dog', 0.7157417412367748), ('horse', 0.6712778957523382), ('kidney', 0.6570582896214938), ('grandchild', 0.6542941881192954), ('bird', 0.6461588789827313), ('animal', 0.640457415773076), ('kid', 0.633156968380381), ('kitten', 0.6205629348349764), ('children', 0.6060572291444672)]\n",
      "------------------------------------------------------\n",
      "T5:\n",
      "[('child', 0.9257443004787131), ('cat', 0.9033313771518565), ('animal', 0.8367537708087454), ('car', 0.8236974248161256), ('union', 0.8152767533539399), ('hair', 0.8141264368416816), ('girl', 0.8125371269570316), ('prison', 0.8103344333338212), ('insect', 0.8045572974530714), ('tree', 0.8044591132662754), ('awake', 0.8034971620003692), ('clerk', 0.8000061502519815)]\n",
      "------------------------------------------------------\n"
     ]
    }
   ],
   "source": [
    "define(['child', 'cat'])"
   ]
  },
  {
   "cell_type": "code",
   "execution_count": 98,
   "metadata": {},
   "outputs": [
    {
     "name": "stdout",
     "output_type": "stream",
     "text": [
      "child, cat -> kitten\n",
      "GPT-3:\n",
      "0.9374190578513657\n",
      "------------------------------------------------------\n",
      "OPT:\n",
      "0.6205629348349764\n",
      "------------------------------------------------------\n",
      "T5:\n",
      "0.34159632272381235\n",
      "------------------------------------------------------\n"
     ]
    }
   ],
   "source": [
    "sim_test(['child', 'cat'], 'kitten')"
   ]
  },
  {
   "cell_type": "code",
   "execution_count": 99,
   "metadata": {},
   "outputs": [
    {
     "name": "stdout",
     "output_type": "stream",
     "text": [
      "young, cat\n",
      "GPT-3:\n",
      "[('young', 0.9537116545407746), ('cat', 0.9537116539033017), ('one', 0.9247576997631406), ('pet', 0.9236711477759256), ('there', 0.9229134999873934), ('you', 0.9228959491630201), ('dog', 0.9211000513016342), ('what', 0.9188147186394754), ('kitten', 0.9171810610076653), ('two', 0.9171239572054586), ('opt', 0.9168443050819362), ('under', 0.9166598275357576)]\n",
      "------------------------------------------------------\n",
      "OPT:\n",
      "[('young', 0.8258651991655515), ('youngster', 0.8142098623795668), ('cat', 0.7960536857347205), ('catalogue', 0.7447181373878788), ('dog', 0.658688762270336), ('horse', 0.6438308878593804), ('cheerful', 0.6341159204996762), ('drunk', 0.6326015002244921), ('tall', 0.6299397468659222), ('duckling', 0.6283148220729475), ('grandson', 0.6269489850943691), ('gay', 0.624879683445964)]\n",
      "------------------------------------------------------\n",
      "T5:\n",
      "[('cat', 0.8784458922025794), ('young', 0.874879766753941), ('black', 0.7897581702889697), ('hair', 0.7776120605232377), ('white', 0.777210694687789), ('night', 0.7711156954930671), ('foreign', 0.7700092467643456), ('sky', 0.7688433430785934), ('wild', 0.7668390093862918), ('undergraduate', 0.7659621233183037), ('shout', 0.7659141027318404), ('lovely', 0.7658077986909718)]\n",
      "------------------------------------------------------\n"
     ]
    }
   ],
   "source": [
    "define(['young', 'cat'])"
   ]
  },
  {
   "cell_type": "code",
   "execution_count": 100,
   "metadata": {},
   "outputs": [
    {
     "name": "stdout",
     "output_type": "stream",
     "text": [
      "young, cat -> kitten\n",
      "GPT-3:\n",
      "0.9171810610076653\n",
      "------------------------------------------------------\n",
      "OPT:\n",
      "0.6001082578605921\n",
      "------------------------------------------------------\n",
      "T5:\n",
      "0.4055802314532067\n",
      "------------------------------------------------------\n"
     ]
    }
   ],
   "source": [
    "sim_test(['young', 'cat'], 'kitten')"
   ]
  },
  {
   "cell_type": "code",
   "execution_count": 101,
   "metadata": {},
   "outputs": [
    {
     "name": "stdout",
     "output_type": "stream",
     "text": [
      "small, dog\n",
      "GPT-3:\n",
      "[('small', 0.9583667806901863), ('dog', 0.9583667802115712), ('down', 0.9256843276414166), ('pet', 0.9251226205366565), ('tiny', 0.9228784853517158), ('puppy', 0.9212354826175428), ('little', 0.9178509869830587), ('low', 0.9167477309511298), ('under', 0.9158510538018783), ('there', 0.9145464816355001), ('close', 0.9141502123388803), ('short', 0.9133057473309605)]\n",
      "------------------------------------------------------\n",
      "OPT:\n",
      "[('small', 0.8294988964857011), ('dog', 0.8073646377028512), ('tiny', 0.7203701827224069), ('large', 0.7174874792946937), ('large-scale', 0.6824330059884973), ('big', 0.6685078849919901), ('largely', 0.650913048318628), ('horse', 0.6505769297198342), ('medium', 0.6433313601793473), ('catalogue', 0.640739914351652), ('badge', 0.6308619632584425), ('duckling', 0.6304422975990865)]\n",
      "------------------------------------------------------\n",
      "T5:\n",
      "[('dog', 0.8905070869026936), ('small', 0.8158415005626314), ('hair', 0.7912096411789592), ('car', 0.7843600849358637), ('cheap', 0.7809040699065648), ('animal', 0.7725629144044711), ('white', 0.7664318790101172), ('night', 0.7652290392147081), ('eye', 0.764862976680543), ('pet', 0.7640956136714696), ('child', 0.7632137713946434), ('bird', 0.762563925846157)]\n",
      "------------------------------------------------------\n"
     ]
    }
   ],
   "source": [
    "define(['small', 'dog'])"
   ]
  },
  {
   "cell_type": "code",
   "execution_count": 102,
   "metadata": {},
   "outputs": [
    {
     "name": "stdout",
     "output_type": "stream",
     "text": [
      "small, dog -> puppy\n",
      "GPT-3:\n",
      "0.9212354826175428\n",
      "------------------------------------------------------\n",
      "OPT:\n",
      "0.4666601981846175\n",
      "------------------------------------------------------\n",
      "T5:\n",
      "0.3005619832966183\n",
      "------------------------------------------------------\n"
     ]
    }
   ],
   "source": [
    "sim_test(['small', 'dog'], 'puppy')"
   ]
  },
  {
   "cell_type": "code",
   "execution_count": 103,
   "metadata": {},
   "outputs": [
    {
     "name": "stdout",
     "output_type": "stream",
     "text": [
      "baby, dog\n",
      "GPT-3:\n",
      "[('baby', 0.966362464587684), ('dog', 0.9663624606687455), ('puppy', 0.9480546427847307), ('child', 0.9371846325564197), ('pet', 0.9332365091074823), ('animal', 0.925424288809845), ('infant', 0.9251291121610514), ('birth', 0.9232912186499038), ('human', 0.9163050087875577), ('cat', 0.9158320941998288), ('breed', 0.9156003243749646), ('kitten', 0.9152303080335964)]\n",
      "------------------------------------------------------\n",
      "OPT:\n",
      "[('baby', 0.8778958179179752), ('dog', 0.8680791995952795), ('horse', 0.6911126224206184), ('boyfriend', 0.6843187639614381), ('duckling', 0.6759419344984132), ('kidney', 0.6694456237310518), ('catalogue', 0.6640439340491644), ('cat', 0.6629835241132473), ('girl', 0.6539010431561243), ('boy', 0.6396276915199143), ('grandchild', 0.6387029059139404), ('sheep', 0.6333864532920828)]\n",
      "------------------------------------------------------\n",
      "T5:\n",
      "[('dog', 0.858494658181624), ('baby', 0.7335289008416532), ('car', 0.7210993805934933), ('tooth', 0.7197975770143248), ('child', 0.7102851711133407), ('animal', 0.7066735008190135), ('hair', 0.699299311710879), ('insect', 0.6936524936741995), ('awake', 0.690274587711798), ('girl', 0.6899598298035451), ('pet', 0.6891183848666083), ('eye', 0.6884755492833785)]\n",
      "------------------------------------------------------\n"
     ]
    }
   ],
   "source": [
    "define(['baby', 'dog'])"
   ]
  },
  {
   "cell_type": "code",
   "execution_count": 104,
   "metadata": {},
   "outputs": [
    {
     "name": "stdout",
     "output_type": "stream",
     "text": [
      "baby, dog -> puppy\n",
      "GPT-3:\n",
      "0.9480546427847307\n",
      "------------------------------------------------------\n",
      "OPT:\n",
      "0.5681283038919827\n",
      "------------------------------------------------------\n",
      "T5:\n",
      "0.4387037841324975\n",
      "------------------------------------------------------\n"
     ]
    }
   ],
   "source": [
    "sim_test(['baby', 'dog'], 'puppy')"
   ]
  },
  {
   "cell_type": "code",
   "execution_count": 105,
   "metadata": {},
   "outputs": [
    {
     "name": "stdout",
     "output_type": "stream",
     "text": [
      "child, dog\n",
      "GPT-3:\n",
      "[('child', 0.9674615177060625), ('dog', 0.9674615136900864), ('puppy', 0.9385687321958838), ('kid', 0.9344722721848178), ('baby', 0.9339231170813105), ('children', 0.9337918462064155), ('pet', 0.9330874644039235), ('animal', 0.9267402202547022), ('human', 0.9209646752927987), ('boy', 0.9186698301811438), ('pupil', 0.9157405613689196), ('there', 0.9146142717664723)]\n",
      "------------------------------------------------------\n",
      "OPT:\n",
      "[('dog', 0.8784206789173092), ('child', 0.8744111417118555), ('horse', 0.6904473087912637), ('kidney', 0.684016717898875), ('grandchild', 0.6778190917680975), ('cat', 0.6689442629130073), ('kid', 0.6674091863482663), ('animal', 0.6560799212574897), ('catalogue', 0.6468955029981814), ('boyfriend', 0.6462156103033386), ('bird', 0.6460141994762281), ('children', 0.6447010072645557)]\n",
      "------------------------------------------------------\n",
      "T5:\n",
      "[('child', 0.9415636226103674), ('dog', 0.9346089820401604), ('animal', 0.8446322316706296), ('car', 0.8410014318327778), ('clerk', 0.8348774849315906), ('tooth', 0.8243541498323625), ('girl', 0.8209616141017466), ('eye', 0.8152246354801934), ('paint', 0.8111431986684692), ('hair', 0.8084287295934017), ('insect', 0.8082382846496319), ('awake', 0.8069558815577805)]\n",
      "------------------------------------------------------\n"
     ]
    }
   ],
   "source": [
    "define(['child', 'dog'])"
   ]
  },
  {
   "cell_type": "code",
   "execution_count": 106,
   "metadata": {},
   "outputs": [
    {
     "name": "stdout",
     "output_type": "stream",
     "text": [
      "child, dog -> puppy\n",
      "GPT-3:\n",
      "0.9385687321958838\n",
      "------------------------------------------------------\n",
      "OPT:\n",
      "0.548987329338477\n",
      "------------------------------------------------------\n",
      "T5:\n",
      "0.24878714852967937\n",
      "------------------------------------------------------\n"
     ]
    }
   ],
   "source": [
    "sim_test(['child', 'dog'], 'puppy')"
   ]
  },
  {
   "cell_type": "code",
   "execution_count": 107,
   "metadata": {},
   "outputs": [
    {
     "name": "stdout",
     "output_type": "stream",
     "text": [
      "young, dog\n",
      "GPT-3:\n",
      "[('young', 0.9592947683578482), ('dog', 0.9592947637283238), ('youngster', 0.9218565070199087), ('one', 0.9213311372583399), ('puppy', 0.9199400163113634), ('pet', 0.919728478310057), ('boy', 0.9196527522699851), ('child', 0.9195249522784168), ('kid', 0.9190865379086983), ('there', 0.9178375117466769), ('under', 0.9170169980037683), ('you', 0.9169401608673413)]\n",
      "------------------------------------------------------\n",
      "OPT:\n",
      "[('young', 0.8461085389120371), ('youngster', 0.8350036726764218), ('dog', 0.8188821752515285), ('boyfriend', 0.6636117159748182), ('grandson', 0.6594188444939832), ('horse', 0.6592891093079946), ('duckling', 0.648391717693082), ('grandmother', 0.6406064534639601), ('baby', 0.6400218102344817), ('granddaughter', 0.6384563953284226), ('gay', 0.6379201829008128), ('cheerful', 0.6367073108006652)]\n",
      "------------------------------------------------------\n",
      "T5:\n",
      "[('dog', 0.89990412390315), ('young', 0.8800777300010468), ('child', 0.800242772261139), ('car', 0.7876471083978265), ('animal', 0.7848347470016217), ('hair', 0.7842222602337715), ('bird', 0.7840977100260814), ('eye', 0.7821860567845094), ('awake', 0.7797405261802692), ('ancient', 0.7787742280478783), ('asleep', 0.7771701848087922), ('tooth', 0.7756270936748544)]\n",
      "------------------------------------------------------\n"
     ]
    }
   ],
   "source": [
    "define(['young', 'dog'])"
   ]
  },
  {
   "cell_type": "code",
   "execution_count": 108,
   "metadata": {},
   "outputs": [
    {
     "name": "stdout",
     "output_type": "stream",
     "text": [
      "young, dog -> puppy\n",
      "GPT-3:\n",
      "0.9199400163113634\n",
      "------------------------------------------------------\n",
      "OPT:\n",
      "0.49756465226580016\n",
      "------------------------------------------------------\n",
      "T5:\n",
      "0.29571800800399883\n",
      "------------------------------------------------------\n"
     ]
    }
   ],
   "source": [
    "sim_test(['young', 'dog'], 'puppy')"
   ]
  },
  {
   "cell_type": "code",
   "execution_count": 155,
   "metadata": {},
   "outputs": [
    {
     "name": "stdout",
     "output_type": "stream",
     "text": [
      "female, fox\n",
      "GPT-3:\n",
      "[('female', 0.9655432474453627), ('she', 0.9332559575534465), ('there', 0.9294121534066991), ('woman', 0.9271558897695149), ('front', 0.9259291835391804), ('opt', 0.9231559042782728), ('what', 0.9224346255471222), ('feat', 0.9223323578257272), ('how', 0.9220060409290064), ('favour', 0.9218210057920708), ('you', 0.9216255274540528), ('human', 0.9215696340465633)]\n",
      "------------------------------------------------------\n",
      "OPT:\n",
      "[('female', 0.8397913363521319), ('male', 0.8071670507796422), ('youngster', 0.6696169070721678), ('foreigner', 0.657271860149731), ('faithful', 0.6527436350783564), ('engineer', 0.6440295401905338), ('theater', 0.6403222538863971), ('fashionable', 0.6377070778109117), ('duckling', 0.6361074559434196), ('firefighter', 0.6348559107090208), ('alliance', 0.63461981842736), ('dozen', 0.6338780984120702)]\n",
      "------------------------------------------------------\n",
      "T5:\n",
      "[('female', 0.8575584387266288), ('lady', 0.7192905971690753), ('pig', 0.7086151761268974), ('worm', 0.7047637148954461), ('woman', 0.6987926658443266), ('she', 0.6978537447446106), ('rat', 0.6928963317159342), ('free', 0.6863511446327155), ('bury', 0.6854575881794951), ('household', 0.6842995312914276), ('marine', 0.6824029247834871), ('intimate', 0.6802670247909619)]\n",
      "------------------------------------------------------\n"
     ]
    }
   ],
   "source": [
    "define(['female', 'fox'])"
   ]
  },
  {
   "cell_type": "code",
   "execution_count": 156,
   "metadata": {},
   "outputs": [
    {
     "name": "stdout",
     "output_type": "stream",
     "text": [
      "female, fox -> vixen\n",
      "GPT-3:\n",
      "0.9035699527617026\n",
      "------------------------------------------------------\n",
      "OPT:\n",
      "0.5339479610228397\n",
      "------------------------------------------------------\n",
      "T5:\n",
      "0.5299603844842964\n",
      "------------------------------------------------------\n"
     ]
    }
   ],
   "source": [
    "sim_test(['female', 'fox'], 'vixen')"
   ]
  },
  {
   "cell_type": "code",
   "execution_count": null,
   "metadata": {},
   "outputs": [],
   "source": [
    "define(['baby', 'horse'])"
   ]
  },
  {
   "cell_type": "code",
   "execution_count": null,
   "metadata": {},
   "outputs": [],
   "source": [
    "sim_test(['baby', 'horse'], 'foal')"
   ]
  },
  {
   "cell_type": "code",
   "execution_count": null,
   "metadata": {},
   "outputs": [],
   "source": [
    "define(['young', 'horse'])"
   ]
  },
  {
   "cell_type": "code",
   "execution_count": null,
   "metadata": {},
   "outputs": [],
   "source": [
    "sim_test(['young', 'horse'], 'foal')"
   ]
  },
  {
   "cell_type": "code",
   "execution_count": null,
   "metadata": {},
   "outputs": [],
   "source": [
    "define(['female', 'foal'])"
   ]
  },
  {
   "cell_type": "code",
   "execution_count": null,
   "metadata": {},
   "outputs": [],
   "source": [
    "sim_test(['female', 'foal'], 'filly')"
   ]
  },
  {
   "cell_type": "code",
   "execution_count": null,
   "metadata": {},
   "outputs": [],
   "source": [
    "define(['male', 'foal'])"
   ]
  },
  {
   "cell_type": "code",
   "execution_count": null,
   "metadata": {},
   "outputs": [],
   "source": [
    "sim_test(['male', 'foal'], 'colt')"
   ]
  },
  {
   "cell_type": "code",
   "execution_count": 109,
   "metadata": {},
   "outputs": [
    {
     "name": "stdout",
     "output_type": "stream",
     "text": [
      "baby, male, horse\n",
      "GPT-3:\n",
      "[('horse', 0.9493931249491062), ('baby', 0.9475857677405611), ('male', 0.9467038317898835), ('human', 0.9360320580800465), ('gender', 0.9262456027062288), ('child', 0.9258798510874955), ('there', 0.9256608753260486), ('round', 0.9251667517058652), ('female', 0.9249579490491145), ('birth', 0.9243998586171308), ('name', 0.9238668760377426), ('rider', 0.9237511506340528)]\n",
      "------------------------------------------------------\n",
      "OPT:\n",
      "[('baby', 0.8349455574138903), ('horse', 0.8076683808412926), ('male', 0.8001496468469724), ('female', 0.7637148323364791), ('youngster', 0.7119349865136008), ('boyfriend', 0.6999000389535964), ('girl', 0.6843818518734348), ('firefighter', 0.6705565667413648), ('daughter', 0.6697662564228479), ('duckling', 0.6666828272394811), ('dog', 0.6586722795622303), ('catalogue', 0.6572506937695992)]\n",
      "------------------------------------------------------\n",
      "T5:\n",
      "[('horse', 0.8256853309022314), ('male', 0.8155582495955829), ('purple', 0.7186890361372655), ('girls', 0.7185210160825022), ('cheek', 0.717068821681507), ('kitten', 0.7164493828914541), ('vegetable', 0.7075882564632907), ('baby', 0.706260059800949), ('pupil', 0.7028206910772394), ('amateur', 0.699557669781927), ('children', 0.6951520137966547), ('junior', 0.6924163418855004)]\n",
      "------------------------------------------------------\n"
     ]
    }
   ],
   "source": [
    "define(['baby', 'male', 'horse'])"
   ]
  },
  {
   "cell_type": "code",
   "execution_count": null,
   "metadata": {},
   "outputs": [],
   "source": [
    "sim_test(['baby', 'male', 'horse'], 'colt')"
   ]
  },
  {
   "cell_type": "code",
   "execution_count": null,
   "metadata": {},
   "outputs": [],
   "source": [
    "define(['young', 'male', 'horse'])"
   ]
  },
  {
   "cell_type": "code",
   "execution_count": null,
   "metadata": {},
   "outputs": [],
   "source": [
    "sim_test(['young', 'male', 'horse'], 'colt')"
   ]
  },
  {
   "cell_type": "code",
   "execution_count": null,
   "metadata": {},
   "outputs": [],
   "source": [
    "define(['baby', 'female', 'horse'])"
   ]
  },
  {
   "cell_type": "code",
   "execution_count": null,
   "metadata": {},
   "outputs": [],
   "source": [
    "sim_test(['baby', 'female', 'horse'], 'filly')"
   ]
  },
  {
   "cell_type": "code",
   "execution_count": null,
   "metadata": {},
   "outputs": [],
   "source": [
    "define(['young', 'female', 'horse'])"
   ]
  },
  {
   "cell_type": "code",
   "execution_count": null,
   "metadata": {},
   "outputs": [],
   "source": [
    "sim_test(['young', 'female', 'horse'], 'filly')"
   ]
  },
  {
   "cell_type": "code",
   "execution_count": 110,
   "metadata": {},
   "outputs": [
    {
     "name": "stdout",
     "output_type": "stream",
     "text": [
      "adult, female, horse\n",
      "GPT-3:\n",
      "[('female', 0.9567790500269334), ('adult', 0.9525388077079895), ('horse', 0.9414787976068394), ('human', 0.9364528926418374), ('gender', 0.9337464890166702), ('there', 0.9308942860704064), ('person', 0.9300616124943157), ('woman', 0.9297322914516913), ('character', 0.9296100017969573), ('name', 0.9281583398544644), ('fare', 0.9275921109611419), ('she', 0.9272388035810675)]\n",
      "------------------------------------------------------\n",
      "OPT:\n",
      "[('female', 0.8428321396536606), ('adult', 0.8175155616585021), ('male', 0.8162504675548637), ('horse', 0.7760184072943985), ('youngster', 0.7222063439613522), ('foreigner', 0.6613574523260123), ('generic', 0.6526464512496507), ('fashionable', 0.6520979545273138), ('theater', 0.6519344712078943), ('realistic', 0.6518423168705352), ('lesbian', 0.6514300371691439), ('ordinary', 0.647941393999564)]\n",
      "------------------------------------------------------\n",
      "T5:\n",
      "[('adult', 0.8521792011851385), ('female', 0.8293410760961477), ('woman', 0.768462978102639), ('animal', 0.7457690936565697), ('girl', 0.7455776649500537), ('lady', 0.7454176357356483), ('prison', 0.7406211898582777), ('human', 0.7405426742885638), ('sexual', 0.738548445324746), ('child', 0.7363927436922956), ('injured', 0.7313287546740224), ('undergraduate', 0.7311385485285518)]\n",
      "------------------------------------------------------\n"
     ]
    }
   ],
   "source": [
    "define(['adult', 'female', 'horse'])"
   ]
  },
  {
   "cell_type": "code",
   "execution_count": null,
   "metadata": {},
   "outputs": [],
   "source": [
    "sim_test(['adult', 'female', 'horse'], 'mare')"
   ]
  },
  {
   "cell_type": "code",
   "execution_count": 111,
   "metadata": {},
   "outputs": [
    {
     "name": "stdout",
     "output_type": "stream",
     "text": [
      "adult, male, pig\n",
      "GPT-3:\n",
      "[('male', 0.9573169459018567), ('adult', 0.9538856645418673), ('pig', 0.9400127051618556), ('human', 0.9374536594707983), ('person', 0.9338801815110107), ('man', 0.9329092293771348), ('sum', 0.9304562357817823), ('you', 0.9303302789113049), ('there', 0.9301534095880066), ('one', 0.9297896797007812), ('body', 0.9294996830286679), ('gender', 0.9287064086364679)]\n",
      "------------------------------------------------------\n",
      "OPT:\n",
      "[('male', 0.8286694089944789), ('adult', 0.8123388025819994), ('female', 0.7736720503835617), ('youngster', 0.6591984521202903), ('lesbian', 0.6465002420914211), ('adolescent', 0.6415345890251316), ('gay', 0.6405904085519405), ('predictable', 0.6318039646964628), ('duckling', 0.6289669912171402), ('passionate', 0.627968563970703), ('gentleman', 0.624790403966791), ('pig', 0.6194265686058273)]\n",
      "------------------------------------------------------\n",
      "T5:\n",
      "[('adult', 0.8714601576938821), ('pig', 0.7844867868965968), ('bird', 0.7655514087310313), ('animal', 0.7607720069258816), ('undergraduate', 0.7534117078538087), ('car', 0.7532072820742415), ('eye', 0.7503096289544038), ('free', 0.740501512437377), ('cheap', 0.7338924609877544), ('prison', 0.7330382806841234), ('capture', 0.7292166478267003), ('holiday', 0.729185341334456)]\n",
      "------------------------------------------------------\n"
     ]
    }
   ],
   "source": [
    "define(['adult', 'male', 'pig'])"
   ]
  },
  {
   "cell_type": "code",
   "execution_count": null,
   "metadata": {},
   "outputs": [],
   "source": [
    "sim_test(['adult', 'male', 'pig'], 'boar')"
   ]
  },
  {
   "cell_type": "code",
   "execution_count": 112,
   "metadata": {},
   "outputs": [
    {
     "name": "stdout",
     "output_type": "stream",
     "text": [
      "adult, male, human\n",
      "GPT-3:\n",
      "[('human', 0.9667348422758713), ('male', 0.9644083361442223), ('adult', 0.9600780307853494), ('person', 0.9442980446035549), ('gender', 0.9371474863347216), ('man', 0.9365431782596227), ('name', 0.9300976095847333), ('body', 0.9292559695300757), ('character', 0.9284925587891137), ('female', 0.9279733667113229), ('there', 0.9238265936630139), ('someone', 0.9236884735796738)]\n",
      "------------------------------------------------------\n",
      "OPT:\n",
      "[('male', 0.8530232571540606), ('human', 0.8274489870004416), ('female', 0.8194673254437493), ('adult', 0.8087271299612927), ('humanitarian', 0.7787857266589486), ('humanity', 0.7569356032760375), ('youngster', 0.6714218509142169), ('foreigner', 0.6668161342152669), ('individual', 0.6527066319027248), ('normal', 0.6426561947520104), ('realistic', 0.6417759767636804), ('professional', 0.6412246575799063)]\n",
      "------------------------------------------------------\n",
      "T5:\n",
      "[('adult', 0.8930622003370666), ('human', 0.888335056831248), ('animal', 0.7880850336587337), ('civilian', 0.7758856736930999), ('injured', 0.7735352166754795), ('urban', 0.7698908217990866), ('insect', 0.769702252661404), ('child', 0.7678180165466971), ('man', 0.7655363399345612), ('activist', 0.76254181393249), ('undergraduate', 0.7617959357533991), ('car', 0.7614405955875583)]\n",
      "------------------------------------------------------\n"
     ]
    }
   ],
   "source": [
    "define(['adult', 'male', 'human'])"
   ]
  },
  {
   "cell_type": "code",
   "execution_count": null,
   "metadata": {},
   "outputs": [],
   "source": [
    "sim_test(['adult', 'male', 'human'], 'man')"
   ]
  },
  {
   "cell_type": "code",
   "execution_count": 113,
   "metadata": {},
   "outputs": [
    {
     "name": "stdout",
     "output_type": "stream",
     "text": [
      "adult, female, human\n",
      "GPT-3:\n",
      "[('human', 0.9663617193441947), ('female', 0.9623084835338672), ('adult', 0.9594009933131717), ('person', 0.9454620595684969), ('gender', 0.9415367935425709), ('woman', 0.9412391469292296), ('name', 0.9330252815533897), ('character', 0.9326333670478031), ('male', 0.9321372361357556), ('she', 0.931748191682991), ('there', 0.931474501615315), ('body', 0.9314325201133546)]\n",
      "------------------------------------------------------\n",
      "OPT:\n",
      "[('female', 0.8555820231335811), ('male', 0.8261287130890589), ('human', 0.8241803935686773), ('adult', 0.8069231736537754), ('humanitarian', 0.7793348043752667), ('humanity', 0.7541080142445051), ('youngster', 0.689500163722857), ('foreigner', 0.6710781843454334), ('individual', 0.6632535970659585), ('realistic', 0.6566244547032107), ('normal', 0.6552218875540489), ('professional', 0.653634253866648)]\n",
      "------------------------------------------------------\n",
      "T5:\n",
      "[('human', 0.8946431198333841), ('adult', 0.8882116496784859), ('female', 0.821080249826244), ('woman', 0.8043483535525898), ('child', 0.8010693081137072), ('animal', 0.798239661163773), ('sexual', 0.796787835713098), ('girl', 0.7923854822030738), ('injured', 0.7916001602465942), ('civilian', 0.7885807945225085), ('undergraduate', 0.7860960350121551), ('prison', 0.7853501862612278)]\n",
      "------------------------------------------------------\n"
     ]
    }
   ],
   "source": [
    "define(['adult', 'female', 'human'])"
   ]
  },
  {
   "cell_type": "code",
   "execution_count": null,
   "metadata": {},
   "outputs": [],
   "source": [
    "sim_test(['adult', 'female', 'human'], 'woman')"
   ]
  },
  {
   "cell_type": "markdown",
   "metadata": {},
   "source": [
    "### D - Philosophy, math, miscellaneous\n",
    "This section is small now - it may move soon."
   ]
  },
  {
   "cell_type": "code",
   "execution_count": 121,
   "metadata": {},
   "outputs": [
    {
     "name": "stdout",
     "output_type": "stream",
     "text": [
      "true, belief\n",
      "GPT-3:\n",
      "[('belief', 0.9626506219300575), ('true', 0.9626506182450418), ('believe', 0.9464591415300987), ('truth', 0.9322470276916108), ('faith', 0.9198031186453355), ('according', 0.9184875540402915), ('false', 0.914689309761547), ('based', 0.9146424089166816), ('there', 0.9106905022760909), ('right', 0.9093406745360855), ('worth', 0.9039789881547333), ('trust', 0.9036203330362664)]\n",
      "------------------------------------------------------\n",
      "OPT:\n",
      "[('true', 0.8776498173594941), ('belief', 0.7587352896818277), ('believe', 0.744462529925344), ('realization', 0.7129266084613131), ('realize', 0.6886078718061539), ('beloved', 0.6830389136615618), ('faithful', 0.6673484955798893), ('aware', 0.6554524470273477), ('realistic', 0.6537691718697896), ('passionate', 0.6401056404542197), ('meaningful', 0.630021357095164), ('realm', 0.6272616348571322)]\n",
      "------------------------------------------------------\n",
      "T5:\n",
      "[('belief', 0.8829381467770511), ('true', 0.879826886563743), ('believe', 0.8405949599608425), ('false', 0.7610823879423296), ('aware', 0.7609356704650465), ('faithful', 0.7549063163200875), ('honest', 0.7531315241687808), ('truth', 0.7522864541285926), ('perception', 0.7502176024245806), ('certainty', 0.7479565876872862), ('understand', 0.7441373616312649), ('careful', 0.7430624391485917)]\n",
      "------------------------------------------------------\n"
     ]
    }
   ],
   "source": [
    "define(['true', 'belief'])"
   ]
  },
  {
   "cell_type": "code",
   "execution_count": 122,
   "metadata": {},
   "outputs": [
    {
     "name": "stdout",
     "output_type": "stream",
     "text": [
      "true, belief -> knowledge\n",
      "GPT-3:\n",
      "0.8694230482643159\n",
      "------------------------------------------------------\n",
      "OPT:\n",
      "0.5352892469969255\n",
      "------------------------------------------------------\n",
      "T5:\n",
      "0.7174079165293603\n",
      "------------------------------------------------------\n"
     ]
    }
   ],
   "source": [
    "sim_test(['true', 'belief'], 'knowledge')"
   ]
  },
  {
   "cell_type": "markdown",
   "metadata": {},
   "source": [
    "## Define Helpers (for magnitude)"
   ]
  },
  {
   "cell_type": "code",
   "execution_count": 130,
   "metadata": {},
   "outputs": [],
   "source": [
    "# this function doesn't allow model specification, as GPT-3 vectors are normalized.\n",
    "def sum_complexity(word, vec=False, model='opt'):\n",
    "    \"\"\"\n",
    "    Args:\n",
    "        word: iterable, string, or vector   -> embedding to be summed.\n",
    "        vec: bool                           -> True if word is already vector.\n",
    "        model: str                          -> 'opt' or 't5'. No gpt weights.\n",
    "    Returns:\n",
    "        Float score of the sum of the absolute value of each datapoint in the embedding.\n",
    "    \"\"\"\n",
    "    phrase = word\n",
    "    if not vec:\n",
    "        if isinstance(word, str):\n",
    "            phrase = positive([word], model=model)\n",
    "        else:\n",
    "            phrase = positive(word, model=model)\n",
    "    \n",
    "    modified = [abs(float(x)) for x in phrase[0]]\n",
    "    return sum(modified)\n",
    "    "
   ]
  },
  {
   "cell_type": "code",
   "execution_count": 131,
   "metadata": {},
   "outputs": [],
   "source": [
    "def above_zero_complexity(word, vec=False, threshold=0.3, model='opt'):\n",
    "    \"\"\"\n",
    "    Args:\n",
    "        word: iterable, string, or vector   -> embedding to be evaluated\n",
    "        vec: bool                           -> True if word is already vector.\n",
    "        threshold: float                    -> Absolute value cutoff point\n",
    "        model: str                          -> 'opt' or 't5'. No gpt weights.\n",
    "    Returns:\n",
    "        Float score of the amount of 'signifigant' features according to the threshold,\n",
    "        divided by the number of total dimensions.\n",
    "    \"\"\"\n",
    "    phrase = word\n",
    "    if not vec:\n",
    "        if isinstance(word, str):\n",
    "            phrase = positive([word], model=model)\n",
    "        else:\n",
    "            phrase = positive(word, model=model)\n",
    "\n",
    "    modified = [abs(float(x)) for x in phrase[0] if abs(float(x)) > threshold]\n",
    "    return len(modified) / phrase.shape[1]"
   ]
  },
  {
   "cell_type": "code",
   "execution_count": 132,
   "metadata": {},
   "outputs": [],
   "source": [
    "def compare_complexity(words, threshold=0.3):\n",
    "    \"\"\"\n",
    "    Args:\n",
    "        words: iterable     -> items to be converted to tokens and compared.\n",
    "        threshold: fload    -> threshold for signifigant features with a_z_c()\n",
    "    Returns:\n",
    "        None. Formatted printing results for each item in words.\n",
    "    \"\"\"\n",
    "    for w in words:\n",
    "        print(w)\n",
    "        print(\"OPT-1.3b:\")\n",
    "        print(f\"Sum Complexity: {sum_complexity(w)}\")\n",
    "        print(f\"Above Zero Complexity t-[{threshold}]: {above_zero_complexity(w, threshold=threshold)}\")\n",
    "        print('--------------------------------------------------')\n",
    "        print(\"T5:\")\n",
    "        print(f\"Sum Complexity: {sum_complexity(w, model='t5')}\")\n",
    "        print(f\"Above Zero Complexity t-[{threshold}]: {above_zero_complexity(w, threshold=threshold, model='t5')}\")\n",
    "        print('--------------------------------------------------')\n",
    "        print()"
   ]
  },
  {
   "cell_type": "markdown",
   "metadata": {},
   "source": [
    "## Conduct Magnitude Tests\n",
    "This is a shorter section, and all of our tests are on OPT-1.3b."
   ]
  },
  {
   "cell_type": "code",
   "execution_count": 133,
   "metadata": {},
   "outputs": [
    {
     "name": "stdout",
     "output_type": "stream",
     "text": [
      "man\n",
      "OPT-1.3b:\n",
      "Sum Complexity: 3869.585996808201\n",
      "Above Zero Complexity t-[0.3]: 0.88427734375\n",
      "--------------------------------------------------\n",
      "T5:\n",
      "Sum Complexity: 111.46183970193012\n",
      "Above Zero Complexity t-[0.3]: 0.03125\n",
      "--------------------------------------------------\n",
      "\n",
      "bachelor\n",
      "OPT-1.3b:\n",
      "Sum Complexity: 2698.8531398967007\n",
      "Above Zero Complexity t-[0.3]: 0.83837890625\n",
      "--------------------------------------------------\n",
      "T5:\n",
      "Sum Complexity: 116.65366553346695\n",
      "Above Zero Complexity t-[0.3]: 0.0419921875\n",
      "--------------------------------------------------\n",
      "\n",
      "husband\n",
      "OPT-1.3b:\n",
      "Sum Complexity: 3166.151641501363\n",
      "Above Zero Complexity t-[0.3]: 0.86865234375\n",
      "--------------------------------------------------\n",
      "T5:\n",
      "Sum Complexity: 114.48292873662996\n",
      "Above Zero Complexity t-[0.3]: 0.0380859375\n",
      "--------------------------------------------------\n",
      "\n",
      "father\n",
      "OPT-1.3b:\n",
      "Sum Complexity: 3597.1001238524773\n",
      "Above Zero Complexity t-[0.3]: 0.88232421875\n",
      "--------------------------------------------------\n",
      "T5:\n",
      "Sum Complexity: 122.04302359034995\n",
      "Above Zero Complexity t-[0.3]: 0.0556640625\n",
      "--------------------------------------------------\n",
      "\n"
     ]
    }
   ],
   "source": [
    "compare_complexity(['man', 'bachelor', 'husband', 'father'])"
   ]
  },
  {
   "cell_type": "code",
   "execution_count": 134,
   "metadata": {},
   "outputs": [
    {
     "name": "stdout",
     "output_type": "stream",
     "text": [
      "woman\n",
      "OPT-1.3b:\n",
      "Sum Complexity: 3872.539441489794\n",
      "Above Zero Complexity t-[0.3]: 0.89453125\n",
      "--------------------------------------------------\n",
      "T5:\n",
      "Sum Complexity: 112.19001309328294\n",
      "Above Zero Complexity t-[0.3]: 0.04296875\n",
      "--------------------------------------------------\n",
      "\n",
      "wife\n",
      "OPT-1.3b:\n",
      "Sum Complexity: 3150.2644422225003\n",
      "Above Zero Complexity t-[0.3]: 0.86572265625\n",
      "--------------------------------------------------\n",
      "T5:\n",
      "Sum Complexity: 120.24246082537995\n",
      "Above Zero Complexity t-[0.3]: 0.0517578125\n",
      "--------------------------------------------------\n",
      "\n",
      "mother\n",
      "OPT-1.3b:\n",
      "Sum Complexity: 3577.550980384024\n",
      "Above Zero Complexity t-[0.3]: 0.88623046875\n",
      "--------------------------------------------------\n",
      "T5:\n",
      "Sum Complexity: 120.90871189110396\n",
      "Above Zero Complexity t-[0.3]: 0.056640625\n",
      "--------------------------------------------------\n",
      "\n"
     ]
    }
   ],
   "source": [
    "compare_complexity(['woman', 'wife', 'mother'])"
   ]
  },
  {
   "cell_type": "code",
   "execution_count": 135,
   "metadata": {},
   "outputs": [
    {
     "name": "stdout",
     "output_type": "stream",
     "text": [
      "cat\n",
      "OPT-1.3b:\n",
      "Sum Complexity: 3582.2652872879603\n",
      "Above Zero Complexity t-[0.3]: 0.8984375\n",
      "--------------------------------------------------\n",
      "T5:\n",
      "Sum Complexity: 108.42372198904003\n",
      "Above Zero Complexity t-[0.3]: 0.03515625\n",
      "--------------------------------------------------\n",
      "\n",
      "kitten\n",
      "OPT-1.3b:\n",
      "Sum Complexity: 2721.951363982246\n",
      "Above Zero Complexity t-[0.3]: 0.8505859375\n",
      "--------------------------------------------------\n",
      "T5:\n",
      "Sum Complexity: 89.01718946458\n",
      "Above Zero Complexity t-[0.3]: 0.0048828125\n",
      "--------------------------------------------------\n",
      "\n"
     ]
    }
   ],
   "source": [
    "compare_complexity(['cat', 'kitten'])"
   ]
  },
  {
   "cell_type": "code",
   "execution_count": 136,
   "metadata": {},
   "outputs": [
    {
     "name": "stdout",
     "output_type": "stream",
     "text": [
      "dog\n",
      "OPT-1.3b:\n",
      "Sum Complexity: 3529.7578563156044\n",
      "Above Zero Complexity t-[0.3]: 0.87548828125\n",
      "--------------------------------------------------\n",
      "T5:\n",
      "Sum Complexity: 108.30607459486987\n",
      "Above Zero Complexity t-[0.3]: 0.029296875\n",
      "--------------------------------------------------\n",
      "\n",
      "puppy\n",
      "OPT-1.3b:\n",
      "Sum Complexity: 2501.963246831801\n",
      "Above Zero Complexity t-[0.3]: 0.8310546875\n",
      "--------------------------------------------------\n",
      "T5:\n",
      "Sum Complexity: 90.12560882247998\n",
      "Above Zero Complexity t-[0.3]: 0.00390625\n",
      "--------------------------------------------------\n",
      "\n"
     ]
    }
   ],
   "source": [
    "compare_complexity(['dog', 'puppy'])"
   ]
  },
  {
   "cell_type": "code",
   "execution_count": 137,
   "metadata": {},
   "outputs": [
    {
     "name": "stdout",
     "output_type": "stream",
     "text": [
      "duck\n",
      "OPT-1.3b:\n",
      "Sum Complexity: 2385.5245381011996\n",
      "Above Zero Complexity t-[0.3]: 0.83203125\n",
      "--------------------------------------------------\n",
      "T5:\n",
      "Sum Complexity: 102.58098223756015\n",
      "Above Zero Complexity t-[0.3]: 0.021484375\n",
      "--------------------------------------------------\n",
      "\n",
      "duckling\n",
      "OPT-1.3b:\n",
      "Sum Complexity: 2413.2867072275394\n",
      "Above Zero Complexity t-[0.3]: 0.822265625\n",
      "--------------------------------------------------\n",
      "T5:\n",
      "Sum Complexity: 80.48213390689506\n",
      "Above Zero Complexity t-[0.3]: 0.0126953125\n",
      "--------------------------------------------------\n",
      "\n"
     ]
    }
   ],
   "source": [
    "compare_complexity(['duck', 'duckling'])"
   ]
  },
  {
   "cell_type": "code",
   "execution_count": 138,
   "metadata": {},
   "outputs": [
    {
     "name": "stdout",
     "output_type": "stream",
     "text": [
      "set\n",
      "OPT-1.3b:\n",
      "Sum Complexity: 3559.9400755744996\n",
      "Above Zero Complexity t-[0.3]: 0.8818359375\n",
      "--------------------------------------------------\n",
      "T5:\n",
      "Sum Complexity: 103.08317470063999\n",
      "Above Zero Complexity t-[0.3]: 0.0205078125\n",
      "--------------------------------------------------\n",
      "\n",
      "powerset\n",
      "OPT-1.3b:\n",
      "Sum Complexity: 2987.547082962999\n",
      "Above Zero Complexity t-[0.3]: 0.861328125\n",
      "--------------------------------------------------\n",
      "T5:\n",
      "Sum Complexity: 113.69557875905991\n",
      "Above Zero Complexity t-[0.3]: 0.0390625\n",
      "--------------------------------------------------\n",
      "\n"
     ]
    }
   ],
   "source": [
    "compare_complexity(['set', 'powerset'])"
   ]
  },
  {
   "cell_type": "code",
   "execution_count": 139,
   "metadata": {},
   "outputs": [
    {
     "name": "stdout",
     "output_type": "stream",
     "text": [
      "matrix\n",
      "OPT-1.3b:\n",
      "Sum Complexity: 2349.8595956072013\n",
      "Above Zero Complexity t-[0.3]: 0.83349609375\n",
      "--------------------------------------------------\n",
      "T5:\n",
      "Sum Complexity: 115.38173912045986\n",
      "Above Zero Complexity t-[0.3]: 0.0478515625\n",
      "--------------------------------------------------\n",
      "\n",
      "determinant\n",
      "OPT-1.3b:\n",
      "Sum Complexity: 2404.382848897932\n",
      "Above Zero Complexity t-[0.3]: 0.814453125\n",
      "--------------------------------------------------\n",
      "T5:\n",
      "Sum Complexity: 96.57637868054012\n",
      "Above Zero Complexity t-[0.3]: 0.017578125\n",
      "--------------------------------------------------\n",
      "\n"
     ]
    }
   ],
   "source": [
    "compare_complexity(['matrix', 'determinant'])"
   ]
  },
  {
   "cell_type": "markdown",
   "metadata": {},
   "source": [
    "## Phrase comparison\n",
    "In the past, we have not had access to models that make a phrase, so we use positives. I will explore some of those combinations below.\n",
    "Phrases of interest:\n",
    "* \"white house\"\n",
    "* \"baby duck\"\n",
    "* \"logical belief\"\n",
    "\n",
    "and so on..."
   ]
  },
  {
   "cell_type": "code",
   "execution_count": 140,
   "metadata": {},
   "outputs": [
    {
     "name": "stdout",
     "output_type": "stream",
     "text": [
      "logical belief\n",
      "GPT-3:\n",
      "[('logical', 0.9368985262715313), ('belief', 0.9201455360856643), ('logic', 0.9101838649160616), ('rationals', 0.8914305041137053), ('believe', 0.8895525995505191), ('rational', 0.8881465730039954), ('philosophical', 0.8771653968799995), ('reasoning', 0.8712889059448021), ('religion', 0.8698503345332375), ('conviction', 0.8680595632427539), ('argument', 0.8660604165608106), ('ideological', 0.8634520187388373)]\n",
      "------------------------------------------------------\n",
      "OPT:\n",
      "[('logical', 0.9087944009447604), ('logic', 0.825824372696814), ('logo', 0.7385080961175052), ('rationals', 0.7075011537887733), ('log', 0.6672627357815122), ('consciousness', 0.6666232841396709), ('assertion', 0.6629146259128236), ('complexity', 0.659734467248192), ('rational', 0.6516858549956231), ('ideology', 0.648526383521467), ('realization', 0.6413178876611093), ('validity', 0.6354558918953294)]\n",
      "------------------------------------------------------\n",
      "T5:\n",
      "[('logical', 0.8212626895989883), ('definite', 0.7041414861539442), ('rely', 0.6784541192972227), ('therapist', 0.6772233808751111), ('synthesis', 0.6767452539400856), ('imply', 0.6729202093458349), ('occurrence', 0.6708394250470164), ('implication', 0.667054926040884), ('contrasting', 0.6663456566721124), ('arrow', 0.6654612513035139), ('reassure', 0.6622021322132284), ('underlying', 0.6619234014243238)]\n",
      "------------------------------------------------------\n"
     ]
    }
   ],
   "source": [
    "define(['logical belief']) # this usage should work."
   ]
  },
  {
   "cell_type": "code",
   "execution_count": 141,
   "metadata": {},
   "outputs": [
    {
     "name": "stdout",
     "output_type": "stream",
     "text": [
      "white, house -> white house\n",
      "GPT-3:\n",
      "0.9318936864551356\n",
      "------------------------------------------------------\n",
      "OPT:\n",
      "0.8336804090210822\n",
      "------------------------------------------------------\n",
      "T5:\n",
      "0.6817424802191578\n",
      "------------------------------------------------------\n"
     ]
    }
   ],
   "source": [
    "sim_test([\"white\", \"house\"], 'white house') # this is also valid!"
   ]
  },
  {
   "cell_type": "code",
   "execution_count": 142,
   "metadata": {},
   "outputs": [
    {
     "name": "stdout",
     "output_type": "stream",
     "text": [
      "white house -> Joe Biden\n",
      "GPT-3:\n",
      "0.8575577085369428\n",
      "------------------------------------------------------\n",
      "OPT:\n",
      "0.3369971\n",
      "------------------------------------------------------\n",
      "T5:\n",
      "0.4775062\n",
      "------------------------------------------------------\n"
     ]
    }
   ],
   "source": [
    "sim_test(['white house'], 'Joe Biden') # we can even do unique, new tests with our wrappers!"
   ]
  },
  {
   "cell_type": "code",
   "execution_count": 143,
   "metadata": {},
   "outputs": [
    {
     "name": "stdout",
     "output_type": "stream",
     "text": [
      "baby duck\n",
      "GPT-3:\n",
      "[('duckling', 0.9390343440641757), ('baby', 0.9264423570299711), ('duck', 0.909063230723647), ('infant', 0.8880650616731081), ('puppy', 0.8766010076739243), ('child', 0.872585765492617), ('pregnancy', 0.8684074578100834), ('nursery', 0.8677849698698282), ('offspring', 0.867696413163072), ('children', 0.8671002494515161), ('birth', 0.8638819733659289), ('chicken', 0.8615226407135073)]\n",
      "------------------------------------------------------\n",
      "OPT:\n",
      "[('baby', 0.8877308969945594), ('duckling', 0.7398302440354387), ('boyfriend', 0.6958211796219), ('daughter', 0.6850545648357198), ('youngster', 0.6530324481002916), ('girl', 0.6430866280437579), ('sheep', 0.6389098997387503), ('firefighter', 0.6386129605797467), ('kidney', 0.635517633010759), ('granddaughter', 0.6354172100385012), ('grandson', 0.6352220595348049), ('chairwoman', 0.6334669978202907)]\n",
      "------------------------------------------------------\n",
      "T5:\n",
      "[('duck', 0.5120337666900932), ('dancer', 0.48856933384392875), ('boar', 0.4841482435935147), ('laugh', 0.48353326195088703), ('cabin', 0.48338981794925473), ('coughing', 0.4825532834307147), ('rider', 0.4813544791008707), ('insulting', 0.4793385337292023), ('elderly', 0.47509486359082015), ('spy', 0.47430958633068054), ('bird', 0.4735465193048123), ('shed', 0.4726048927146774)]\n",
      "------------------------------------------------------\n"
     ]
    }
   ],
   "source": [
    "define(['baby duck'])"
   ]
  },
  {
   "cell_type": "code",
   "execution_count": 144,
   "metadata": {},
   "outputs": [
    {
     "name": "stdout",
     "output_type": "stream",
     "text": [
      "baby, duck -> baby duck\n",
      "GPT-3:\n",
      "0.9529651714836083\n",
      "------------------------------------------------------\n",
      "OPT:\n",
      "0.885532781089644\n",
      "------------------------------------------------------\n",
      "T5:\n",
      "0.5097756929156112\n",
      "------------------------------------------------------\n"
     ]
    }
   ],
   "source": [
    "sim_test(['baby', 'duck'], 'baby duck')"
   ]
  },
  {
   "cell_type": "code",
   "execution_count": 145,
   "metadata": {},
   "outputs": [
    {
     "name": "stdout",
     "output_type": "stream",
     "text": [
      "baby duck -> duckling\n",
      "GPT-3:\n",
      "0.9390343440641757\n",
      "------------------------------------------------------\n",
      "OPT:\n",
      "0.7398302440354387\n",
      "------------------------------------------------------\n",
      "T5:\n",
      "0.44453311461490463\n",
      "------------------------------------------------------\n"
     ]
    }
   ],
   "source": [
    "sim_test(['baby duck'], 'duckling')"
   ]
  },
  {
   "cell_type": "markdown",
   "metadata": {},
   "source": [
    "As some brief discussion before submit, some of these scores are very surprising. That final sim_test has me scratching my head a bit, why did OPT score it at 0.19?\n",
    "\n",
    "There are different sizes of OPT to be tried, but I like the 2048-D vectors from OPT-1.3B, and it didn't use too much cache space. We can (and should) test this on larger versions (Paramenter size can be changed- ['125m', '350m', '1.3b', '2.7b', '6.7b', '13b', '30b']). For reference, 350M has 512-D vectors. If there is an error in vector generation I will fix it, I hope this is easy to use and read."
   ]
  },
  {
   "cell_type": "markdown",
   "metadata": {},
   "source": [
    "Notes:\n",
    "* Average Similarity? How does this look, how can we calculate\n",
    "* Use larger OPT models? Cache them?\n",
    "* Phrase tests :)\n",
    "    * sentences?\n",
    "\n",
    "Early development and language development - which words and concepts come first?"
   ]
  },
  {
   "cell_type": "code",
   "execution_count": 146,
   "metadata": {},
   "outputs": [],
   "source": [
    "def phrase_comparison(phrases):\n",
    "    \"\"\"\n",
    "    Args:\n",
    "        phrases: iterable   -> iterable of novel phrases to compare.\n",
    "    Returns:\n",
    "        None. Formats and facilitates phrase comparison of an iterable of novel phrases.\n",
    "    \"\"\"\n",
    "    enc = [(positive([str(x)], 'gpt'), positive([str(x)], 'opt'), positive([str(x)], 't5')) for x in phrases]\n",
    "    print(*phrases, sep=', ')\n",
    "    for i in range(len(phrases)):\n",
    "        for j in range(i+1, len(phrases)):\n",
    "            print(f\"{phrases[i]} -> {phrases[j]}\")\n",
    "            print(f\"GPT-3: {cosine_similarity(enc[i][0], enc[j][0])[0][0]}\")\n",
    "            print(f\"OPT-1.3B: {cosine_similarity(enc[i][1], enc[j][1])[0][0]}\")\n",
    "            print(f\"T5: {cosine_similarity(enc[i][2], enc[j][2])[0][0]}\")\n",
    "            print('------------------------------------------------------')\n",
    "    print(\"\\nPhrase Definitions:\")\n",
    "    for p in phrases:\n",
    "        define([p])"
   ]
  },
  {
   "cell_type": "markdown",
   "metadata": {},
   "source": [
    "### A - spouse phrases"
   ]
  },
  {
   "cell_type": "code",
   "execution_count": 147,
   "metadata": {},
   "outputs": [
    {
     "name": "stdout",
     "output_type": "stream",
     "text": [
      "unmarried man, a bachelor is an unmarried man\n",
      "unmarried man -> a bachelor is an unmarried man\n",
      "GPT-3: 0.9268371372784423\n",
      "OPT-1.3B: 0.5956459641456604\n",
      "T5: 0.595443606376648\n",
      "------------------------------------------------------\n",
      "\n",
      "Phrase Definitions:\n",
      "unmarried man\n",
      "GPT-3:\n",
      "[('unmarried', 0.958565179630738), ('husband', 0.9041219456247627), ('unemployed', 0.9003319097823591), ('married', 0.8971223416424852), ('marriage', 0.8904060822674948), ('divorced', 0.8844611500405011), ('single', 0.8780193993602652), ('man', 0.8745131822236145), ('unemployment', 0.8744712571127441), ('male', 0.8742086226015324), ('spouse', 0.8727524284215669), ('manifest', 0.8723020505820172)]\n",
      "------------------------------------------------------\n",
      "OPT:\n",
      "[('unmarried', 0.903176760345992), ('unemployed', 0.824555108771978), ('unsuccessful', 0.7371520912662628), ('unconscious', 0.7322927791683297), ('unhappy', 0.7198057464858689), ('unimportant', 0.7096539906384891), ('unacceptable', 0.703186976952224), ('university', 0.7017151965629775), ('unwillingly', 0.7005276965443971), ('unpleasant', 0.6995515861487475), ('unlikely', 0.6978396226976211), ('unemployment', 0.696895403646322)]\n",
      "------------------------------------------------------\n",
      "T5:\n",
      "[('unmarried', 0.8770840021919897), ('unemployed', 0.5722625278657403), ('unkind', 0.5471955043586815), ('unimportant', 0.5466403471375241), ('uncontrolled', 0.535611915748753), ('impatient', 0.5273841996274283), ('businessman', 0.523900945400664), ('lesbian', 0.5192885594205525), ('troubled', 0.5174639234338423), ('undoubtedly', 0.5135454948169929), ('unify', 0.5106268531331013), ('monk', 0.5077948284563525)]\n",
      "------------------------------------------------------\n",
      "a bachelor is an unmarried man\n",
      "GPT-3:\n",
      "[('unmarried', 0.8855478840224783), ('bachelor', 0.8821406533097034), ('bachelors', 0.8589909472151415), ('single', 0.8487087443437935), ('unemployed', 0.8482654835006505), ('alone', 0.842093220849333), ('undergraduate', 0.8395028465424574), ('boyfriend', 0.8285960623347175), ('marriage', 0.8285108985155585), ('divorced', 0.8275646934898071), ('unemployment', 0.8259793206725936), ('married', 0.8252118363414855)]\n",
      "------------------------------------------------------\n",
      "OPT:\n",
      "[('aesthetic', 0.6163711852618086), ('aide', 0.6050406908168698), ('therefore', 0.59499593954558), ('a', 0.5898771573903241), ('anxious', 0.5879887801146617), ('ourselves', 0.5859913901926689), ('theology', 0.5840944781620072), ('certainly', 0.5826607640557828), ('yourself', 0.5802987757889836), ('theirs', 0.5797330460356461), ('thereafter', 0.5768025288531202), ('anxiety', 0.5732267684758142)]\n",
      "------------------------------------------------------\n",
      "T5:\n",
      "[('unmarried', 0.4865156653272431), ('alcoholic', 0.3827002819507753), ('adolescent', 0.3795731690032296), ('sailor', 0.3782437258212772), ('armed', 0.36709846233271015), ('frightened', 0.3586631934385769), ('irrationals', 0.35742938233868543), ('entrepreneur', 0.3568919309702867), ('devoted', 0.3566513708929067), ('thief', 0.35523574107147804), ('untidy', 0.35520088730688637), ('whereas', 0.34984540899135097)]\n",
      "------------------------------------------------------\n"
     ]
    }
   ],
   "source": [
    "phrase_comparison(['unmarried man', 'a bachelor is an unmarried man'])"
   ]
  },
  {
   "cell_type": "code",
   "execution_count": 148,
   "metadata": {},
   "outputs": [
    {
     "name": "stdout",
     "output_type": "stream",
     "text": [
      "adult female horse, Look, a mare!\n",
      "adult female horse -> Look, a mare!\n",
      "GPT-3: 0.8950975294257666\n",
      "OPT-1.3B: 0.4912247657775879\n",
      "T5: 0.44851261377334595\n",
      "------------------------------------------------------\n",
      "\n",
      "Phrase Definitions:\n",
      "adult female horse\n",
      "GPT-3:\n",
      "[('horse', 0.9042642876415965), ('female', 0.8568780313596931), ('carriage', 0.8501774726769284), ('riding', 0.8414691039193982), ('sheep', 0.8371935048730068), ('chairwoman', 0.8368366526485758), ('woman', 0.8360628241265586), ('rider', 0.8330991681011948), ('adult', 0.8271051053104326), ('animal', 0.8221076338118947), ('granddaughter', 0.8220295043522654), ('hairdresser', 0.8184311273395052)]\n",
      "------------------------------------------------------\n",
      "OPT:\n",
      "[('adult', 0.8141187165612553), ('female', 0.7818205934593554), ('male', 0.7615717287698658), ('youngster', 0.6994360047281498), ('daughter', 0.663698585894489), ('horse', 0.6575905023972899), ('boyfriend', 0.6523049854743344), ('foreigner', 0.6475792845417278), ('woman', 0.6381339774049464), ('lesbian', 0.6322216626827888), ('girlfriend', 0.6311428064177892), ('children', 0.6247546748091433)]\n",
      "------------------------------------------------------\n",
      "T5:\n",
      "[('female', 0.5605283790814659), ('adult', 0.5480918357728156), ('colt', 0.5375245249132881), ('youngster', 0.5240793058320298), ('body', 0.4806374772647215), ('woman', 0.4799438161685582), ('embody', 0.47883539829856625), ('individual', 0.4716847659359218), ('performer', 0.471338569824877), ('pig', 0.46953363363523254), ('villager', 0.4634101093868709), ('lady', 0.4631270600285622)]\n",
      "------------------------------------------------------\n",
      "Look, a mare!\n",
      "GPT-3:\n",
      "[('horse', 0.90409334037393), ('mare', 0.8723017786176921), ('riding', 0.8430533958235025), ('sheep', 0.8421246587828539), ('carriage', 0.8366895251893115), ('rider', 0.834915306663759), ('animal', 0.8314316181796362), ('racing', 0.8292571600758503), ('puppy', 0.8235244015081837), ('look', 0.821245506654726), ('cattle', 0.8201969942636567), ('mirror', 0.8184538117856115)]\n",
      "------------------------------------------------------\n",
      "OPT:\n",
      "[('i.e.', 0.6851855197017722), ('and', 0.6721523045076397), ('whereas', 0.6713461338006557), ('exceptional', 0.6705771345043046), ('except', 0.6693700595846186), ('yeah', 0.6684266936422303), ('moreover', 0.66658736173177), ('meantime', 0.6660965131386618), ('yesterday', 0.6649304496298858), ('because', 0.6592551474813505), ('but', 0.6577184574792664), ('either', 0.657568211458123)]\n",
      "------------------------------------------------------\n",
      "T5:\n",
      "[('frightened', 0.4360005560366522), ('whereas', 0.41948485700516036), ('frighten', 0.41448757519426926), ('sailor', 0.4058623881424249), ('p.m.', 0.3971952901363758), ('mate', 0.3892144729036756), ('etc.', 0.38850061965612603), ('a.m.', 0.38664098657672574), ('entrepreneur', 0.3861076028552274), ('stall', 0.3852858517847064), ('reassure', 0.383210417716337), ('away/off', 0.38048881502446164)]\n",
      "------------------------------------------------------\n"
     ]
    }
   ],
   "source": [
    "phrase_comparison(['adult female horse', 'Look, a mare!'])"
   ]
  },
  {
   "cell_type": "code",
   "execution_count": 149,
   "metadata": {},
   "outputs": [
    {
     "name": "stdout",
     "output_type": "stream",
     "text": [
      "What do you call an unmarried man?, What do you call a married man?\n",
      "What do you call an unmarried man? -> What do you call a married man?\n",
      "GPT-3: 0.9269945921124785\n",
      "OPT-1.3B: 0.9753906726837158\n",
      "T5: 0.8821046948432922\n",
      "------------------------------------------------------\n",
      "\n",
      "Phrase Definitions:\n",
      "What do you call an unmarried man?\n",
      "GPT-3:\n",
      "[('unmarried', 0.8610593561976344), ('unemployed', 0.8254371850409273), ('alone', 0.8154799776370714), ('single', 0.8103635924527604), ('anonymous', 0.8094950939498504), ('male', 0.8008065570977274), ('unemployment', 0.7977282492695694), ('husband', 0.7951773283497702), ('lonely', 0.7939977675552856), ('bachelor', 0.7919560788765844), ('outsider', 0.7911840801125203), ('gentleman', 0.7909655688610424)]\n",
      "------------------------------------------------------\n",
      "OPT:\n",
      "[('whereas', 0.740855450924762), ('including', 0.7236770261867851), ('exceptional', 0.716305283835764), ('because', 0.7058284606346992), ('whereby', 0.7055510728195485), ('excluding', 0.7041163415916505), ('forget', 0.6986950109084549), ('except', 0.697492436243367), ('called', 0.696768712921249), ('either', 0.6936843484695705), ('whether', 0.6928476650459467), ('perhaps', 0.6904200740321709)]\n",
      "------------------------------------------------------\n",
      "T5:\n",
      "[('unmarried', 0.4459013425600837), ('frightened', 0.3786013614950928), ('entrepreneur', 0.37008993400273554), ('unlucky', 0.36622265159664635), ('nothing', 0.35903502913403595), ('nobody', 0.3579705674341623), ('never', 0.3573851106654199), ('unit', 0.3561451044298772), ('unimportant', 0.3561201503308597), ('called', 0.35405039866264776), ('whereas', 0.35161575108675247), ('Ms', 0.3488596516535969)]\n",
      "------------------------------------------------------\n",
      "What do you call a married man?\n",
      "GPT-3:\n",
      "[('husband', 0.8660557307362007), ('married', 0.8578344348592479), ('marriage', 0.8543454646324704), ('husbands', 0.8369701819883189), ('spouse', 0.8346790158618058), ('spouses', 0.8289546211890333), ('marry', 0.8244046417380267), ('unmarried', 0.8214232245178243), ('relationship', 0.8197952533286494), ('boyfriend', 0.8174820813833282), ('businessman', 0.8081742883311457), ('gentleman', 0.8078968373898148)]\n",
      "------------------------------------------------------\n",
      "OPT:\n",
      "[('whereas', 0.7411327503698161), ('including', 0.7238940815895828), ('exceptional', 0.7203449075007753), ('because', 0.7119969165548963), ('excluding', 0.7078054035305881), ('except', 0.704555637160971), ('forget', 0.7034872308044778), ('called', 0.7008601896285509), ('either', 0.6993518253214358), ('whereby', 0.6985825689667183), ('whether', 0.694127333040497), ('between', 0.6932118969940841)]\n",
      "------------------------------------------------------\n",
      "T5:\n",
      "[('entrepreneur', 0.3638228057785508), ('a.m.', 0.3616046408002315), ('p.m.', 0.3585075536619417), ('frightened', 0.3488568846318647), ('film-maker', 0.3433806626855304), ('whereas', 0.34104734116400254), ('i.e.', 0.33756793022633946), ('sailor', 0.33639685010929654), ('mate', 0.3354609691305408), ('thief', 0.3344939859246864), ('called', 0.32927594767817714), ('e.g.', 0.32926308144124933)]\n",
      "------------------------------------------------------\n"
     ]
    }
   ],
   "source": [
    "phrase_comparison(['What do you call an unmarried man?', 'What do you call a married man?'])"
   ]
  },
  {
   "cell_type": "code",
   "execution_count": 150,
   "metadata": {},
   "outputs": [
    {
     "name": "stdout",
     "output_type": "stream",
     "text": [
      "My dog had babies!, Do you want to play with a puppy?\n",
      "My dog had babies! -> Do you want to play with a puppy?\n",
      "GPT-3: 0.8485986163569736\n",
      "OPT-1.3B: 0.6416595578193665\n",
      "T5: 0.5311905145645142\n",
      "------------------------------------------------------\n",
      "\n",
      "Phrase Definitions:\n",
      "My dog had babies!\n",
      "GPT-3:\n",
      "[('puppy', 0.8656858136738301), ('dog', 0.8615180869451775), ('pregnancy', 0.8482552549382141), ('adoption', 0.8474235711829837), ('pregnant', 0.840981554553738), ('baby', 0.8403259061265272), ('animal', 0.8329189687747917), ('feeding', 0.8305430673063319), ('kitten', 0.8293582473223671), ('birth', 0.8277779904555372), ('offspring', 0.8269478986507568), ('conception', 0.8247380824939364)]\n",
      "------------------------------------------------------\n",
      "OPT:\n",
      "[('myself', 0.6384426541557902), ('yesterday', 0.5888876447803151), ('i.e.', 0.5816656088244625), ('and', 0.5781613786207983), ('afterwards', 0.5770340917274326), ('yeah', 0.5759290788381608), ('either', 0.5739918805674212), ('including', 0.570936631228183), ('probably', 0.5683966315806424), ('also', 0.5672953040258916), ('like', 0.5666560528374349), ('likewise', 0.5665348518400712)]\n",
      "------------------------------------------------------\n",
      "T5:\n",
      "[('hers', 0.38363931814574764), ('whereas', 0.3834324233615708), ('hat', 0.3726251391125321), ('frightened', 0.37233100211711845), ('pig', 0.3674143517210856), ('entrepreneur', 0.3649117066443859), ('mate', 0.363930589754974), ('duckling', 0.36199214351242404), ('sack', 0.36185584880359567), ('nonsense', 0.3563036082424377), ('husbands', 0.3551632355754699), ('if', 0.35446882467431595)]\n",
      "------------------------------------------------------\n",
      "Do you want to play with a puppy?\n",
      "GPT-3:\n",
      "[('puppy', 0.8606344335387146), ('dog', 0.8138741885828136), ('kitten', 0.8118709584709833), ('friendship', 0.8040782293318803), ('behaviour', 0.8004623366663843), ('children', 0.7989417661147685), ('boyfriend', 0.798487273288257), ('adoption', 0.7975061854635477), ('interactive', 0.7973209311245071), ('curiosity', 0.7970701820801867), ('relationship', 0.7966314573739776), ('experiment', 0.7954392044927983)]\n",
      "------------------------------------------------------\n",
      "OPT:\n",
      "[('either', 0.7755153366800962), ('including', 0.7753271022693965), ('perhaps', 0.7640662819440738), ('maybe', 0.7628598121509407), ('because', 0.7608903385327954), ('forget', 0.757752791394775), ('excluding', 0.7567313852183154), ('whereas', 0.753405998835288), ('with', 0.7511246073510316), ('include', 0.7382100180356601), ('exceptional', 0.737631387854248), ('whether', 0.7324026805872668)]\n",
      "------------------------------------------------------\n",
      "T5:\n",
      "[('frightened', 0.39706708359312864), ('frighten', 0.3868861633174707), ('entrepreneur', 0.38604975170881073), ('alcoholic', 0.3749323210879817), ('whereas', 0.37125607897630514), ('duckling', 0.36569300171947405), ('pig', 0.3653739604173619), ('if', 0.3611546636734488), ('may', 0.3574723331542966), ('want', 0.35679685838955044), ('will', 0.356270189942674), ('you', 0.354457318080326)]\n",
      "------------------------------------------------------\n"
     ]
    }
   ],
   "source": [
    "phrase_comparison(['My dog had babies!', 'Do you want to play with a puppy?'])"
   ]
  },
  {
   "cell_type": "code",
   "execution_count": 151,
   "metadata": {},
   "outputs": [
    {
     "name": "stdout",
     "output_type": "stream",
     "text": [
      "Knowledge is a true belief., An argument is a logical belief., A spiritual belief is religion.\n",
      "Knowledge is a true belief. -> An argument is a logical belief.\n",
      "GPT-3: 0.858528136565669\n",
      "OPT-1.3B: 0.5583148002624512\n",
      "T5: 0.6611995697021484\n",
      "------------------------------------------------------\n",
      "Knowledge is a true belief. -> A spiritual belief is religion.\n",
      "GPT-3: 0.8706939048506916\n",
      "OPT-1.3B: 0.6498347520828247\n",
      "T5: 0.6728665828704834\n",
      "------------------------------------------------------\n",
      "An argument is a logical belief. -> A spiritual belief is religion.\n",
      "GPT-3: 0.8733140441620892\n",
      "OPT-1.3B: 0.6986019611358643\n",
      "T5: 0.7070983648300171\n",
      "------------------------------------------------------\n",
      "\n",
      "Phrase Definitions:\n",
      "Knowledge is a true belief.\n",
      "GPT-3:\n",
      "[('knowledge', 0.8724948516118745), ('belief', 0.8673685567468519), ('believe', 0.842950572721898), ('conviction', 0.8385328002010175), ('true', 0.8384210793621812), ('wisdom', 0.8350698519598289), ('truth', 0.831368963641485), ('credible', 0.829012781698564), ('faith', 0.8231886565011577), ('educated', 0.8216901797916941), ('religion', 0.8211560166369465), ('understanding', 0.8190393656498639)]\n",
      "------------------------------------------------------\n",
      "OPT:\n",
      "[('knowledge', 0.5776301712962777), ('i.e.', 0.5017888956062612), ('determination', 0.4964197909674877), ('certainty', 0.49271073269947596), ('meaningful', 0.4906675157185338), ('consciousness', 0.47224128290625), ('respectively', 0.4707493844079497), ('meaning', 0.4704189635357299), ('awareness', 0.4703171866898279), ('namely', 0.4663264215943026), ('e.g.', 0.4642179804119346), ('understanding', 0.4633547840768393)]\n",
      "------------------------------------------------------\n",
      "T5:\n",
      "[('true', 0.37029024524124043), ('irrationals', 0.3702301775352614), ('genuinely', 0.34553737885811264), ('allegation', 0.33789834161940036), ('definite', 0.33118254977828276), ('truth', 0.32754576395064094), ('sceptical', 0.3244223516271772), ('belief', 0.3221738095517124), ('know', 0.31788767375687865), ('believe', 0.3175556715004518), ('persuade', 0.3163857376835388), ('whereas', 0.3146046035006063)]\n",
      "------------------------------------------------------\n",
      "An argument is a logical belief.\n",
      "GPT-3:\n",
      "[('argument', 0.902218660326161), ('argue', 0.8611857902764245), ('disagreement', 0.855274040610832), ('logical', 0.8535287544298373), ('philosophical', 0.8511189587120289), ('belief', 0.8499730699654582), ('logic', 0.8446289435913614), ('assertion', 0.8402098046434922), ('reasoning', 0.840186333353951), ('ideological', 0.8401574918275088), ('contradiction', 0.8386877757033397), ('rationals', 0.8363574576713197)]\n",
      "------------------------------------------------------\n",
      "OPT:\n",
      "[('argument', 0.5572913121753862), ('analogy', 0.5349770152765615), ('therefore', 0.5145177032716011), ('thereby', 0.49121018002484484), ('anxiety', 0.48760978624116025), ('reasoning', 0.48584768603310124), ('albeit', 0.4847577152221739), ('meaningful', 0.4834144702476507), ('thereafter', 0.48164158823297937), ('anxious', 0.4814024080710885), ('i.e.', 0.47714211658354455), ('theoretical', 0.47179502574873605)]\n",
      "------------------------------------------------------\n",
      "T5:\n",
      "[('logical', 0.4408385181704751), ('irrationals', 0.42965410475541904), ('allegation', 0.36986140089304764), ('definite', 0.3675977200455599), ('alcoholic', 0.3671773126018984), ('persuade', 0.36296760955872065), ('nonsense', 0.34868732241942013), ('reasoning', 0.34193033624295305), ('synthesis', 0.337150620697955), ('whereas', 0.3359952254014861), ('imply', 0.3342635892760071), ('arrow', 0.3341024529262737)]\n",
      "------------------------------------------------------\n",
      "A spiritual belief is religion.\n",
      "GPT-3:\n",
      "[('religion', 0.9263361988582911), ('religious', 0.9064054296970088), ('spiritual', 0.8916078851380743), ('belief', 0.8686764616221417), ('spirit', 0.8558977752656127), ('faith', 0.8557431448864774), ('church', 0.8499998826239739), ('theology', 0.8499907977196945), ('philosophical', 0.8493963185767942), ('worship', 0.8408311227635792), ('philosophy', 0.8369215805455401), ('secular', 0.8360091577259569)]\n",
      "------------------------------------------------------\n",
      "OPT:\n",
      "[('aesthetic', 0.5952372053794929), ('meaningful', 0.5851017509024756), ('therefore', 0.5803696693103282), ('ourselves', 0.5786322244782804), ('theology', 0.5726401553012901), ('i.e.', 0.5709018582216963), ('certainty', 0.5682890330324323), ('consciousness', 0.5610839161237922), ('thereafter', 0.5603565917542741), ('aide', 0.5592404342444817), ('certainly', 0.5499363408400023), ('themselves', 0.5483748751172995)]\n",
      "------------------------------------------------------\n",
      "T5:\n",
      "[('belief', 0.3803975380726294), ('irrationals', 0.3744183123891225), ('alcoholic', 0.37054765323792405), ('whereas', 0.3639532745408146), ('definite', 0.3514077900754701), ('logical', 0.34624162481167775), ('allegation', 0.3402043274559859), ('armed', 0.3389326260669193), ('psychiatric', 0.336374808120642), ('sailor', 0.3353726889959332), ('frightened', 0.3341023468041021), ('believe', 0.33341793814711085)]\n",
      "------------------------------------------------------\n"
     ]
    }
   ],
   "source": [
    "phrase_comparison([\n",
    "    'Knowledge is a true belief.', \n",
    "    'An argument is a logical belief.',\n",
    "    'A spiritual belief is religion.'\n",
    "])"
   ]
  },
  {
   "cell_type": "markdown",
   "metadata": {},
   "source": [
    "## Average Similarity\n",
    "What is the average similarity between words in our dictionary for each model?"
   ]
  },
  {
   "cell_type": "code",
   "execution_count": 152,
   "metadata": {},
   "outputs": [],
   "source": [
    "def make_avg_tbl(model='opt', extra_vocab=[]):\n",
    "    \"\"\"\n",
    "    Args:\n",
    "        model: str  -> 'gpt', 'opt', or 't5'\n",
    "        extra_vocab: iterable of extra strings to be processed like vocab\n",
    "    Returns:\n",
    "        Table that contains the average cosine similarity of each word in our vocabulary\n",
    "        to each other word, possibly including user supplied extra vocab.\n",
    "    \"\"\"\n",
    "    print(f\"Making average table for model: {model}\")\n",
    "    tbl_vocab = [str(x) for x in vocab + list(extra_vocab)]\n",
    "    tbl_sz = len(tbl_vocab)\n",
    "    table = {k: 0.0 for k in tbl_vocab}\n",
    "    for term_a in tbl_vocab:\n",
    "        a = positive([term_a], model)\n",
    "        for term_b in tbl_vocab:\n",
    "            if term_a != term_b:\n",
    "                b = positive([term_b], model)\n",
    "                table[term_a] += cosine_similarity(a, b)[0][0]\n",
    "        table[term_a] /= tbl_sz\n",
    "    print('done')\n",
    "    return table                "
   ]
  },
  {
   "cell_type": "code",
   "execution_count": 153,
   "metadata": {},
   "outputs": [],
   "source": [
    "def calc_avg_sim():\n",
    "    # Does this need a header? Wrapper.\n",
    "    print(\"What is our average connection strength?\")\n",
    "    gpt_tbl = make_avg_tbl(model='gpt')\n",
    "    t5_tbl = make_avg_tbl(model='t5')\n",
    "    opt_tbl = make_avg_tbl()\n",
    "    sz = len(opt_tbl)\n",
    "    print(\"GPT-3:\")\n",
    "    print(sum(gpt_tbl.values()) / sz)\n",
    "    print('------------------------------------------------------')\n",
    "    print('OPT-1.3B:')\n",
    "    print(sum(opt_tbl.values()) / sz)\n",
    "    print('------------------------------------------------------')\n",
    "    print('T5:')\n",
    "    print(sum(t5_tbl.values()) / sz)\n",
    "    print('------------------------------------------------------')"
   ]
  },
  {
   "cell_type": "code",
   "execution_count": 154,
   "metadata": {},
   "outputs": [
    {
     "name": "stdout",
     "output_type": "stream",
     "text": [
      "What is our average connection strength?\n",
      "Making average table for model: gpt\n",
      "done\n",
      "Making average table for model: t5\n",
      "done\n",
      "Making average table for model: opt\n",
      "done\n",
      "GPT-3:\n",
      "0.8170242997763668\n",
      "------------------------------------------------------\n",
      "OPT-1.3B:\n",
      "0.38555927651244076\n",
      "------------------------------------------------------\n",
      "T5:\n",
      "0.4803895017774575\n",
      "------------------------------------------------------\n"
     ]
    }
   ],
   "source": [
    "calc_avg_sim()\n",
    "# takes ~500m"
   ]
  }
 ],
 "metadata": {
  "kernelspec": {
   "display_name": "Python 3.9.12 ('aca2')",
   "language": "python",
   "name": "python3"
  },
  "language_info": {
   "codemirror_mode": {
    "name": "ipython",
    "version": 3
   },
   "file_extension": ".py",
   "mimetype": "text/x-python",
   "name": "python",
   "nbconvert_exporter": "python",
   "pygments_lexer": "ipython3",
   "version": "3.9.12"
  },
  "orig_nbformat": 4,
  "vscode": {
   "interpreter": {
    "hash": "50d097db58378ea4fc243263c82ac89485e39b9e188e1c6006c60e88b9913d6b"
   }
  }
 },
 "nbformat": 4,
 "nbformat_minor": 2
}
