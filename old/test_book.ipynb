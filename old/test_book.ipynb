{
 "cells": [
  {
   "cell_type": "markdown",
   "metadata": {},
   "source": [
    "# Glove, Gensim, me-oh-my"
   ]
  },
  {
   "cell_type": "code",
   "execution_count": 40,
   "metadata": {},
   "outputs": [],
   "source": [
    "import numpy as np\n",
    "\n",
    "%matplotlib inline\n",
    "import matplotlib.pyplot as plt\n",
    "plt.style.use('ggplot')\n",
    "\n",
    "from sklearn.decomposition import PCA\n",
    "from sklearn.metrics.pairwise import cosine_similarity\n",
    "\n",
    "from gensim.test.utils import datapath\n",
    "from gensim.models import KeyedVectors"
   ]
  },
  {
   "cell_type": "code",
   "execution_count": 8,
   "metadata": {},
   "outputs": [],
   "source": [
    "# get the data from local storage\n",
    "# glove_100 = datapath(u\"D:\\\\Conceptual-Analysis\\\\barlow\\\\glove.6B\\\\glove.6B.100d.txt\") # windows\n",
    "glove_100 = datapath(u'/home/max/Desktop/Conceptual Analysis/barlow/glove.6B/glove.6B.100d.txt')  # linux\n",
    "# we can skip glove2word2vec\n",
    "# load model\n",
    "model_100 = KeyedVectors.load_word2vec_format(glove_100, binary=False, no_header=True)\n",
    "# laptop time: 27.6s  pc time: 41.1s"
   ]
  },
  {
   "cell_type": "code",
   "execution_count": 9,
   "metadata": {},
   "outputs": [],
   "source": [
    "glove_300 = datapath(u'/home/max/Desktop/Conceptual Analysis/barlow/glove.6B/glove.6B.300d.txt') # linux\n",
    "# glove_300 = datapath(u\"D:\\\\Conceptual-Analysis\\\\barlow\\\\glove.6B\\\\glove.6B.300d.txt\") # windows\n",
    "model_300 = KeyedVectors.load_word2vec_format(glove_300, binary=False, no_header=True)\n",
    "# laptop time: 1m 14.2s  pc time: 1m 50.2s"
   ]
  },
  {
   "cell_type": "code",
   "execution_count": 10,
   "metadata": {},
   "outputs": [
    {
     "data": {
      "text/plain": [
       "array([ 0.8322   , -0.14642  , -0.2002   ,  0.32142  ,  0.31173  ,\n",
       "       -0.030808 ,  0.65621  ,  0.15722  , -0.89315  ,  0.9287   ,\n",
       "       -0.4073   , -0.012328 ,  0.26558  ,  1.5675   ,  0.54457  ,\n",
       "       -0.31347  ,  0.57195  ,  0.17359  ,  0.22574  ,  1.0666   ,\n",
       "       -1.2983   ,  0.2712   ,  0.15471  , -0.92268  ,  0.57024  ,\n",
       "       -0.068484 ,  0.14368  , -0.94394  ,  0.02954  , -0.92536  ,\n",
       "       -0.92351  ,  0.97338  , -0.3583   , -0.065045 , -0.51683  ,\n",
       "        0.44481  , -0.51399  , -0.29038  , -0.59909  ,  0.47418  ,\n",
       "       -0.41489  , -0.0016607, -0.27886  , -0.31239  , -0.037998 ,\n",
       "       -0.0026353,  0.30399  ,  0.93702  ,  0.82374  ,  0.24486  ,\n",
       "       -0.61944  , -0.52649  ,  0.56107  , -0.3573   ,  0.10587  ,\n",
       "       -0.71975  ,  0.98628  , -0.40722  ,  1.2808   ,  0.063544 ,\n",
       "        0.12206  ,  0.18842  , -0.82301  , -0.53925  ,  0.42135  ,\n",
       "        0.01962  ,  0.27123  , -0.21934  ,  0.60616  ,  1.2176   ,\n",
       "       -1.0249   ,  0.41784  , -0.12338  ,  0.97374  , -0.98415  ,\n",
       "        0.40053  , -0.46693  , -0.65503  , -0.25758  , -0.88689  ,\n",
       "        0.30292  ,  0.49153  , -0.03613  , -0.26277  , -0.29533  ,\n",
       "        0.34747  ,  0.95605  , -0.58002  ,  0.40942  , -0.94555  ,\n",
       "        0.095729 , -0.39694  ,  0.41077  ,  0.98265  , -1.0129   ,\n",
       "        0.32186  , -0.14381  , -0.37175  ,  0.27348  , -0.68893  ],\n",
       "      dtype=float32)"
      ]
     },
     "execution_count": 10,
     "metadata": {},
     "output_type": "execute_result"
    }
   ],
   "source": [
    "model_100['bachelor']"
   ]
  },
  {
   "cell_type": "code",
   "execution_count": 11,
   "metadata": {},
   "outputs": [
    {
     "data": {
      "text/plain": [
       "array([-0.6253   , -0.1771   ,  0.27251  ,  0.39703  , -0.64292  ,\n",
       "        0.34638  ,  0.20717  , -0.54641  , -0.067688 ,  0.2473   ,\n",
       "        0.31673  ,  0.35247  , -0.081559 ,  0.39658  ,  0.79198  ,\n",
       "        0.52533  ,  0.32633  , -0.26819  ,  0.2159   ,  0.33554  ,\n",
       "       -0.38797  ,  0.35297  ,  0.21187  ,  0.68271  , -0.80815  ,\n",
       "        0.74676  ,  0.21105  ,  0.22228  ,  0.079729 , -0.57853  ,\n",
       "       -0.31118  , -0.41152  ,  0.41781  ,  0.15691  ,  0.0098227,\n",
       "        0.7202   ,  0.3779   ,  0.086    , -0.1633   ,  0.088281 ,\n",
       "       -0.15639  ,  0.087224 , -0.22681  ,  0.068579 ,  0.16802  ,\n",
       "       -0.46802  ,  0.29859  ,  0.36217  ,  0.39329  , -0.85394  ,\n",
       "       -0.59082  , -0.37417  ,  0.57294  ,  0.41029  ,  0.42961  ,\n",
       "       -0.33777  ,  0.85083  , -0.71015  ,  0.21539  ,  0.13623  ,\n",
       "       -0.46485  ,  0.5929   ,  0.34484  ,  0.65869  , -0.25801  ,\n",
       "       -0.69305  ,  0.5626   , -0.12317  , -0.042026 , -0.24511  ,\n",
       "       -0.029207 , -0.34903  , -0.1432   , -0.01761  , -0.53151  ,\n",
       "        0.57248  ,  0.090295 ,  0.26178  ,  0.032295 ,  0.47863  ,\n",
       "        0.59189  , -0.3451   , -0.6905   , -0.62033  ,  0.15598  ,\n",
       "       -0.43706  ,  0.22797  , -0.54555  , -0.88475  , -0.096557 ,\n",
       "        0.37141  , -0.30529  ,  0.18826  ,  0.41412  ,  0.25423  ,\n",
       "        0.28887  ,  0.15659  ,  0.26192  , -0.1523   , -0.36414  ,\n",
       "       -0.51441  ,  0.025112 ,  0.0034651,  1.0968   , -0.40364  ,\n",
       "        0.0020874,  0.34738  , -0.16877  , -0.32737  , -0.89458  ,\n",
       "       -0.017622 , -0.88299  , -0.095762 , -0.59018  ,  0.44533  ,\n",
       "       -0.33036  , -0.54712  , -0.13955  , -0.38278  ,  0.74943  ,\n",
       "        0.42298  ,  0.58699  , -0.72629  ,  0.25358  , -0.083804 ,\n",
       "        0.37372  ,  0.48735  , -0.51394  ,  0.59636  , -0.21385  ,\n",
       "       -0.058658 , -0.2878   , -0.027356 , -0.43825  , -0.078782 ,\n",
       "       -0.59269  , -0.1538   ,  0.27042  , -0.39178  ,  0.3482   ,\n",
       "        0.65895  ,  0.60987  , -0.20406  , -0.16434  ,  0.64853  ,\n",
       "       -0.44556  , -0.10833  , -0.54225  ,  0.28924  ,  0.27536  ,\n",
       "        0.92778  ,  0.30937  ,  0.18376  ,  0.31575  ,  0.11514  ,\n",
       "       -0.039268 , -0.16205  , -0.70678  ,  0.047087 , -0.23671  ,\n",
       "        1.0026   ,  0.081258 , -0.054548 , -0.29175  , -0.12877  ,\n",
       "       -0.29834  , -0.13538  , -0.58992  ,  0.30268  ,  0.52862  ,\n",
       "       -0.28851  , -0.45809  , -0.80081  ,  0.16626  , -0.012958 ,\n",
       "        0.041939 ,  0.35545  , -0.7891   , -0.069018 ,  0.26907  ,\n",
       "        0.42892  ,  0.3773   ,  0.015111 ,  0.54037  ,  0.31237  ,\n",
       "        0.47469  , -0.45905  ,  0.20309  , -0.49475  ,  0.24644  ,\n",
       "       -0.67827  , -0.076173 , -0.12972  , -0.10784  ,  0.3141   ,\n",
       "       -0.058658 , -0.57786  ,  0.44496  ,  0.15171  , -0.22     ,\n",
       "        1.1309   ,  0.095089 ,  0.013001 ,  0.29911  , -0.08038  ,\n",
       "       -0.49213  , -0.28781  ,  0.69947  ,  0.40272  , -0.36706  ,\n",
       "        0.3323   ,  0.32399  ,  0.11149  , -0.40178  , -0.18875  ,\n",
       "        0.25749  , -0.20294  , -0.34729  ,  0.64792  ,  0.19591  ,\n",
       "       -0.8162   ,  0.24209  ,  0.28835  ,  0.69411  , -0.34123  ,\n",
       "        0.11928  , -0.90412  , -0.63221  ,  1.0799   ,  0.45979  ,\n",
       "        0.19623  ,  0.025463 ,  0.17869  , -0.64191  , -0.6309   ,\n",
       "       -0.051893 ,  0.44476  , -0.31758  , -0.28945  , -0.10658  ,\n",
       "        0.43974  , -0.0025999,  0.18701  ,  0.2488   , -0.84845  ,\n",
       "        0.42523  , -0.67439  ,  0.26947  ,  0.30645  , -0.059553 ,\n",
       "       -0.18162  , -0.19394  , -0.042901 , -0.24345  ,  0.062603 ,\n",
       "        0.70818  , -0.15557  ,  0.8377   ,  0.50327  ,  0.3662   ,\n",
       "       -0.55597  , -0.52531  ,  0.24045  ,  0.12531  ,  0.15411  ,\n",
       "        0.33112  , -0.20981  , -0.24042  ,  0.41053  ,  1.1568   ,\n",
       "       -0.55349  ,  0.076254 ,  0.37783  , -0.09643  , -0.20653  ,\n",
       "       -0.13466  , -0.80432  , -0.33397  , -0.24519  , -0.58238  ,\n",
       "       -0.20976  , -0.29569  ,  0.035278 , -0.31094  , -0.47277  ,\n",
       "        0.088922 , -0.43701  ,  0.70931  , -0.038253 , -0.56843  ,\n",
       "       -0.77242  , -0.10047  ,  0.21167  , -0.41245  ,  0.34455  ,\n",
       "        0.061047 ,  0.49964  , -0.73619  ,  0.087703 ,  0.049501 ],\n",
       "      dtype=float32)"
      ]
     },
     "execution_count": 11,
     "metadata": {},
     "output_type": "execute_result"
    }
   ],
   "source": [
    "model_300['bachelor']"
   ]
  },
  {
   "cell_type": "code",
   "execution_count": 12,
   "metadata": {},
   "outputs": [],
   "source": [
    "def definition(word1, word2, size=100, topn=None):\n",
    "    \"\"\"\n",
    "    Return the most similar words to the comination of the word vectors of word1 and word2.\n",
    "    \"\"\"\n",
    "    if size == 100:\n",
    "        model = model_100\n",
    "    elif size == 300:\n",
    "        model = model_300\n",
    "    else:\n",
    "        raise ValueError('size must be 100 or 300')\n",
    "    \n",
    "    if topn:\n",
    "        return model.most_similar(positive=[word1, word2], topn=topn)\n",
    "    else:\n",
    "        return model.most_similar(positive=[word1, word2])"
   ]
  },
  {
   "cell_type": "code",
   "execution_count": 13,
   "metadata": {},
   "outputs": [],
   "source": [
    "def calulate_similarity(word1, word2, target, size=100):\n",
    "    \"\"\"\n",
    "    Return the cosine similarity of word1 + word2 (as 'phrase') and target.\n",
    "    \"\"\"\n",
    "    if size == 100:\n",
    "        model = model_100\n",
    "    elif size == 300:\n",
    "        model = model_300\n",
    "    else:\n",
    "        raise ValueError('size must be 100 or 300')\n",
    "    \n",
    "    # concatenated and reshaped \"phrase\"\n",
    "    phrase = ((model[word1] + model[word2]) / 2).reshape(1, -1)\n",
    "    target_word = model[target].reshape(1, -1)\n",
    "    return cosine_similarity(phrase, target_word)[0][0]"
   ]
  },
  {
   "cell_type": "code",
   "execution_count": 14,
   "metadata": {},
   "outputs": [],
   "source": [
    "def display_pca_plot(model, words=None, sample=0):\n",
    "    if words == None:\n",
    "        if sample > 0:\n",
    "            words = np.random.choice(list(model.key_to_index.keys()), sample)\n",
    "        else:\n",
    "            words = [word for word in model.vocab]\n",
    "    \n",
    "    # get all word vectors into a matrix\n",
    "    vectors = np.array([model[w] for w in words])\n",
    "\n",
    "    two_dim = PCA().fit_transform(vectors)[:,:2]\n",
    "\n",
    "    # plot the points\n",
    "    plt.scatter(two_dim[:,0], two_dim[:,1], edgecolors='k', c='r')\n",
    "    for word, (x, y) in zip(words, two_dim):\n",
    "        plt.text(x+0.05, y+0.05, word)\n"
   ]
  },
  {
   "cell_type": "code",
   "execution_count": 15,
   "metadata": {},
   "outputs": [
    {
     "data": {
      "text/plain": [
       "[('woman', 0.7986403107643127),\n",
       " ('child', 0.7451243996620178),\n",
       " ('young', 0.7399294972419739),\n",
       " ('mother', 0.7386444807052612),\n",
       " ('daughter', 0.7077805399894714),\n",
       " ('pregnant', 0.7069243788719177),\n",
       " ('husband', 0.7020798921585083),\n",
       " ('wife', 0.6987427473068237),\n",
       " ('married', 0.6970356702804565),\n",
       " ('couple', 0.6967206597328186)]"
      ]
     },
     "execution_count": 15,
     "metadata": {},
     "output_type": "execute_result"
    }
   ],
   "source": [
    "definition('man', 'unmarried')"
   ]
  },
  {
   "cell_type": "code",
   "execution_count": 16,
   "metadata": {},
   "outputs": [
    {
     "data": {
      "text/plain": [
       "[('woman', 0.6883418560028076),\n",
       " ('young', 0.5598209500312805),\n",
       " ('person', 0.5512592196464539),\n",
       " ('men', 0.5502604842185974),\n",
       " ('girl', 0.5314196944236755),\n",
       " ('father', 0.5271446704864502),\n",
       " ('mother', 0.5231339931488037),\n",
       " ('boy', 0.5209730267524719),\n",
       " ('husband', 0.5178412795066833),\n",
       " ('married', 0.5143395066261292)]"
      ]
     },
     "execution_count": 16,
     "metadata": {},
     "output_type": "execute_result"
    }
   ],
   "source": [
    "definition('man', 'unmarried', size=300)"
   ]
  },
  {
   "cell_type": "code",
   "execution_count": 17,
   "metadata": {},
   "outputs": [
    {
     "data": {
      "text/plain": [
       "0.2396795"
      ]
     },
     "execution_count": 17,
     "metadata": {},
     "output_type": "execute_result"
    }
   ],
   "source": [
    "calulate_similarity('man', 'unmarried', 'bachelor', size=300)"
   ]
  },
  {
   "cell_type": "code",
   "execution_count": 18,
   "metadata": {},
   "outputs": [
    {
     "data": {
      "image/png": "[encoded data removed]",
      "text/plain": [
       "<Figure size 432x288 with 1 Axes>"
      ]
     },
     "metadata": {},
     "output_type": "display_data"
    }
   ],
   "source": [
    "display_pca_plot(model_100, ['coffee', 'tea', 'beer', 'wine', 'brandy', 'rum', 'champagne', 'water',\n",
    "                             'spaghetti', 'borscht', 'hamburger', 'pizza', 'falafel', 'sushi', 'meatballs',\n",
    "                             'dog', 'horse', 'cat', 'monkey', 'parrot', 'koala', 'lizard',\n",
    "                             'frog', 'toad', 'monkey', 'ape', 'kangaroo', 'wombat', 'wolf',\n",
    "                             'france', 'germany', 'hungary', 'luxembourg', 'australia', 'fiji', 'china',\n",
    "                             'homework', 'assignment', 'problem', 'exam', 'test', 'class',\n",
    "                             'school', 'college', 'university', 'institute'])\n"
   ]
  },
  {
   "cell_type": "markdown",
   "metadata": {},
   "source": [
    "# BERT time! (Where's Ernie??)"
   ]
  },
  {
   "cell_type": "code",
   "execution_count": 19,
   "metadata": {},
   "outputs": [],
   "source": [
    "# we need a few fresh imports\n",
    "from transformers import BertTokenizer, BertModel\n",
    "import torch"
   ]
  },
  {
   "cell_type": "code",
   "execution_count": 20,
   "metadata": {},
   "outputs": [
    {
     "name": "stderr",
     "output_type": "stream",
     "text": [
      "Some weights of the model checkpoint at bert-large-uncased were not used when initializing BertModel: ['cls.predictions.transform.dense.bias', 'cls.predictions.transform.dense.weight', 'cls.predictions.transform.LayerNorm.bias', 'cls.predictions.decoder.weight', 'cls.seq_relationship.weight', 'cls.seq_relationship.bias', 'cls.predictions.transform.LayerNorm.weight', 'cls.predictions.bias']\n",
      "- This IS expected if you are initializing BertModel from the checkpoint of a model trained on another task or with another architecture (e.g. initializing a BertForSequenceClassification model from a BertForPreTraining model).\n",
      "- This IS NOT expected if you are initializing BertModel from the checkpoint of a model that you expect to be exactly identical (initializing a BertForSequenceClassification model from a BertForSequenceClassification model).\n"
     ]
    }
   ],
   "source": [
    "# This cell has a warning output that is expected.\n",
    "model_bert = BertModel.from_pretrained('bert-large-uncased', output_hidden_states=True)\n",
    "tokenizer = BertTokenizer.from_pretrained('bert-large-uncased')"
   ]
  },
  {
   "cell_type": "markdown",
   "metadata": {},
   "source": [
    "### Vocabulary creation"
   ]
  },
  {
   "cell_type": "code",
   "execution_count": 7,
   "metadata": {},
   "outputs": [],
   "source": [
    "# create vocab\n",
    "vocab = ['man', 'married', 'unmarried', 'woman', 'female', 'male', 'girls', 'boys', 'girl', 'boy', 'spouse', 'spouses', \n",
    "        'sibling', 'siblings', 'offspring', 'offsprings', 'wives', 'wife', 'husband', 'husbands', 'brother', 'brothers',\n",
    "        'sister', 'sisters', 'daughter', 'daughters', 'child', 'children', 'bachelor', 'bachelors', 'baby', 'small', \n",
    "        'little', 'duck', 'duckling', 'cat', 'kitten', 'dog', 'puppy','human','adult','pig','boar','horse','mare','colt',\n",
    "        'true','belief','knowledge','determinant','scalar','function','matrix','rectangular','table','numbers','relation',\n",
    "        'two','sets','father','mother','powerset','superset','rationals','irrationals']"
   ]
  },
  {
   "cell_type": "code",
   "execution_count": 9,
   "metadata": {},
   "outputs": [],
   "source": [
    "# read more from file\n",
    "# with open('/home/max/Desktop/Conceptual Analysis/barlow/common_words.txt', 'r') as f:\n",
    "with open('D:\\\\Conceptual-Analysis\\\\barlow\\\\common_words.txt', 'r') as f:\n",
    "    for line in f:\n",
    "        vocab.append(line.strip())\n",
    "\n",
    "vocab = list(np.unique(np.array(vocab)))[1:]"
   ]
  },
  {
   "cell_type": "code",
   "execution_count": 10,
   "metadata": {},
   "outputs": [
    {
     "data": {
      "text/plain": [
       "3880"
      ]
     },
     "execution_count": 10,
     "metadata": {},
     "output_type": "execute_result"
    }
   ],
   "source": [
    "len(vocab)"
   ]
  },
  {
   "cell_type": "markdown",
   "metadata": {},
   "source": [
    "### Vocab pre-processing\n",
    "Some words are also combinations of two words to form a short phrase - but I am interested in exclusively single word vocabulary structure. Examples of the second category are more egregious, like 'a couple' or 'wind 2'. The latter may help a human distinguish the single word as referring to the movement of the air, or the possible motion of a snake or ball of yarn. For BERT, though, this will be nonsene without context."
   ]
  },
  {
   "cell_type": "code",
   "execution_count": 11,
   "metadata": {},
   "outputs": [],
   "source": [
    "# some words have a space in them as well, which I'd rather consider a phrase\n",
    "# so I'll just remove those\n",
    "spaces = [word for word in vocab if ' ' in word]\n",
    "broken_phrases = set()\n",
    "for word in spaces:\n",
    "    for w in word.split(' '):\n",
    "        try:\n",
    "            int(w)\n",
    "        except ValueError:\n",
    "            broken_phrases.add(w)"
   ]
  },
  {
   "cell_type": "code",
   "execution_count": 12,
   "metadata": {},
   "outputs": [],
   "source": [
    "# Now, let's whittle it down and polish.\n",
    "\n",
    "# get vocab list minus no_embed\n",
    "valid_vocab = [word for word in vocab if word not in spaces]\n",
    "# I also found some unhelpful words like 'a couple' and 'wind 2' which I don't want to include either\n",
    "# I'm sure this is a useful distinction for a human with a key to know if it's air or a snake, but\n",
    "# I want to focus on how BERT understands single words first.\n",
    "valid_vocab = set(valid_vocab).union(broken_phrases)\n",
    "\n",
    "# I moved this up here in a hurry, so I'm going to set vocab instead of refactor.\n",
    "vocab = list(valid_vocab)"
   ]
  },
  {
   "cell_type": "markdown",
   "metadata": {},
   "source": [
    "Following are a bunch of functions I don't understand, copy-pasted.\n",
    "\n",
    "This prepares our vocabulary list for BERT 'training'."
   ]
  },
  {
   "cell_type": "code",
   "execution_count": 26,
   "metadata": {},
   "outputs": [],
   "source": [
    "def bert_text_preparation(text, tokenizer):\n",
    "    \"\"\"Preparing the input for BERT\n",
    "    \n",
    "    Takes a string argument and performs\n",
    "    pre-processing like adding special tokens,\n",
    "    tokenization, tokens to ids, and tokens to\n",
    "    segment ids. All tokens are mapped to seg-\n",
    "    ment id = 1.\n",
    "    \n",
    "    Args:\n",
    "        text (str): Text to be converted\n",
    "        tokenizer (obj): Tokenizer object\n",
    "            to convert text into BERT-re-\n",
    "            adable tokens and ids\n",
    "        \n",
    "    Returns:\n",
    "        list: List of BERT-readable tokens\n",
    "        obj: Torch tensor with token ids\n",
    "        obj: Torch tensor segment ids\n",
    "    \n",
    "    \n",
    "    \"\"\"\n",
    "    marked_text = \"[CLS] \" + text + \" [SEP]\"\n",
    "    tokenized_text = tokenizer.tokenize(marked_text)\n",
    "    indexed_tokens = tokenizer.convert_tokens_to_ids(tokenized_text)\n",
    "    segments_ids = [1]*len(indexed_tokens)\n",
    "\n",
    "    # Convert inputs to PyTorch tensors\n",
    "    tokens_tensor = torch.tensor([indexed_tokens])\n",
    "    segments_tensors = torch.tensor([segments_ids])\n",
    "\n",
    "    return tokenized_text, tokens_tensor, segments_tensors\n",
    "\n",
    "\n",
    "def get_bert_embeddings(tokens_tensor, segments_tensors, model):\n",
    "    \"\"\"Get embeddings from an embedding model\n",
    "    \n",
    "    Args:\n",
    "        tokens_tensor (obj): Torch tensor size [n_tokens]\n",
    "            with token ids for each token in text\n",
    "        segments_tensors (obj): Torch tensor size [n_tokens]\n",
    "            with segment ids for each token in text\n",
    "        model (obj): Embedding model to generate embeddings\n",
    "            from token and segment ids\n",
    "    \n",
    "    Returns:\n",
    "        list: List of list of floats of size\n",
    "            [n_tokens, n_embedding_dimensions]\n",
    "            containing embeddings for each token\n",
    "    \n",
    "    \"\"\"\n",
    "\n",
    "    # Gradient calculation id disabled\n",
    "    # Model is in inference mode\n",
    "    with torch.no_grad():\n",
    "        outputs = model(tokens_tensor, segments_tensors)\n",
    "        # Removing the first hidden state\n",
    "        # The first state is the input state\n",
    "        hidden_states = outputs[2][1:]\n",
    "\n",
    "    # Getting embeddings from the final BERT layer\n",
    "    token_embeddings = hidden_states[-1]\n",
    "    # Collapsing the tensor into 1-dimension\n",
    "    token_embeddings = torch.squeeze(token_embeddings, dim=0)\n",
    "    # Converting torchtensors to lists\n",
    "    list_token_embeddings = [token_embed.tolist()\n",
    "                             for token_embed in token_embeddings]\n",
    "\n",
    "    return list_token_embeddings"
   ]
  },
  {
   "cell_type": "code",
   "execution_count": 27,
   "metadata": {},
   "outputs": [],
   "source": [
    "# Getting embeddings for the target word\n",
    "target_word_embeddings = []\n",
    "\n",
    "n = 0\n",
    "for text in vocab:\n",
    "    tokenized_text, tokens_tensor, segments_tensors = bert_text_preparation(\n",
    "        text, tokenizer)\n",
    "    list_token_embeddings = get_bert_embeddings(\n",
    "        tokens_tensor, segments_tensors, model_bert)\n",
    "\n",
    "    word_embedding = list_token_embeddings[1]\n",
    "    if text not in tokenized_text:\n",
    "        for idx in range(2, len(tokenized_text)-1):\n",
    "            word_embedding += list_token_embeddings[idx]\n",
    "        word_embedding = list(np.array(word_embedding)/len(tokenized_text))\n",
    "        word_embedding = np.array(word_embedding).reshape(-1, 1)\n",
    "        word_embedding = PCA().fit_transform(word_embedding)\n",
    "        word_embedding = word_embedding[:n, :]\n",
    "    elif n == 0:\n",
    "        n = len(word_embedding)\n",
    "\n",
    "    target_word_embeddings.append(word_embedding)\n",
    "\n",
    "model_bert = dict(zip(vocab, target_word_embeddings))\n",
    "# laptop runtime: 8m 45.2s :("
   ]
  },
  {
   "cell_type": "markdown",
   "metadata": {},
   "source": [
    "### Post-filtering vocab\n",
    "Some words (all beginning in capitals like August or CD) have no vector embedding, or at least one of shape (1, 0), which is unusable. Now that we have all of the embeddings, we need to filter out the ones with unusable embeddings, as a final layer of security."
   ]
  },
  {
   "cell_type": "code",
   "execution_count": 13,
   "metadata": {},
   "outputs": [
    {
     "ename": "NameError",
     "evalue": "name 'model_bert' is not defined",
     "output_type": "error",
     "traceback": [
      "\u001b[1;31m---------------------------------------------------------------------------\u001b[0m",
      "\u001b[1;31mNameError\u001b[0m                                 Traceback (most recent call last)",
      "\u001b[1;32md:\\Conceptual-Analysis\\barlow\\test_book.ipynb Cell 28'\u001b[0m in \u001b[0;36m<cell line: 3>\u001b[1;34m()\u001b[0m\n\u001b[0;32m      <a href='vscode-notebook-cell:/d%3A/Conceptual-Analysis/barlow/test_book.ipynb#ch0000027?line=1'>2</a>\u001b[0m no_embed \u001b[39m=\u001b[39m []\n\u001b[0;32m      <a href='vscode-notebook-cell:/d%3A/Conceptual-Analysis/barlow/test_book.ipynb#ch0000027?line=2'>3</a>\u001b[0m \u001b[39mfor\u001b[39;00m word \u001b[39min\u001b[39;00m vocab:\n\u001b[1;32m----> <a href='vscode-notebook-cell:/d%3A/Conceptual-Analysis/barlow/test_book.ipynb#ch0000027?line=3'>4</a>\u001b[0m     \u001b[39mif\u001b[39;00m \u001b[39mlen\u001b[39m(model_bert[word]) \u001b[39m==\u001b[39m \u001b[39m0\u001b[39m:\n\u001b[0;32m      <a href='vscode-notebook-cell:/d%3A/Conceptual-Analysis/barlow/test_book.ipynb#ch0000027?line=4'>5</a>\u001b[0m         no_embed\u001b[39m.\u001b[39mappend(word)\n\u001b[0;32m      <a href='vscode-notebook-cell:/d%3A/Conceptual-Analysis/barlow/test_book.ipynb#ch0000027?line=6'>7</a>\u001b[0m no_embed\n",
      "\u001b[1;31mNameError\u001b[0m: name 'model_bert' is not defined"
     ]
    }
   ],
   "source": [
    "# These words have no or null embeddings\n",
    "no_embed = []\n",
    "for word in vocab:\n",
    "    if len(model_bert[word]) == 0:\n",
    "        no_embed.append(word)\n",
    "\n",
    "no_embed"
   ]
  },
  {
   "cell_type": "code",
   "execution_count": 29,
   "metadata": {},
   "outputs": [],
   "source": [
    "# now we have to filter\n",
    "valid_vocab = [word for word in vocab if word not in no_embed]"
   ]
  },
  {
   "cell_type": "markdown",
   "metadata": {},
   "source": [
    "## BERT comparison functions"
   ]
  },
  {
   "cell_type": "code",
   "execution_count": 30,
   "metadata": {},
   "outputs": [],
   "source": [
    "# cosine similarity between a two word phrase and target word\n",
    "def calculate_similarity_bert(word1, word2, target):\n",
    "    phrase = (np.array(model_bert[word1]) + np.array(model_bert[word2])).reshape(1, -1)\n",
    "    word = np.array(model_bert[target]).reshape(1, -1)\n",
    "    return cosine_similarity(phrase, word)[0][0]\n",
    "\n",
    "\n",
    "# cosine similarity between a three word phrase and target word\n",
    "def calculate_similarity_bert3(word1, word2, word3, target):\n",
    "    phrase = (np.array(model_bert[word1]) + np.array(model_bert[word2]) + np.array(model_bert[word3])).reshape(1, -1)\n",
    "    word = np.array(model_bert[target]).reshape(1, -1)\n",
    "    return cosine_similarity(phrase, word)[0][0]\n",
    "\n",
    "\n",
    "# cosine distance between two words\n",
    "def calculate_bert_connect(word1, word2):\n",
    "    word1 = np.array(model_bert[word1]).reshape(1, -1)\n",
    "    word2 = np.array(model_bert[word2]).reshape(1, -1)\n",
    "    return cosine_similarity(word1, word2)[0][0]\n",
    "\n",
    "\n",
    "def calculate_glove_connect(word1, word2):\n",
    "    word1 = np.array(model_300[word1]).reshape(1, -1)\n",
    "    word2 = np.array(model_300[word2]).reshape(1, -1)\n",
    "    return cosine_similarity(word1, word2)[0][0]"
   ]
  },
  {
   "cell_type": "code",
   "execution_count": 31,
   "metadata": {},
   "outputs": [
    {
     "data": {
      "text/plain": [
       "0.7415243547513813"
      ]
     },
     "execution_count": 31,
     "metadata": {},
     "output_type": "execute_result"
    }
   ],
   "source": [
    "calculate_similarity_bert('man', 'unmarried', 'bachelor')"
   ]
  },
  {
   "cell_type": "code",
   "execution_count": 32,
   "metadata": {},
   "outputs": [
    {
     "data": {
      "text/plain": [
       "0.7438659515741233"
      ]
     },
     "execution_count": 32,
     "metadata": {},
     "output_type": "execute_result"
    }
   ],
   "source": [
    "calculate_bert_connect('unmarried', 'bachelor')"
   ]
  },
  {
   "cell_type": "code",
   "execution_count": 33,
   "metadata": {},
   "outputs": [
    {
     "data": {
      "text/plain": [
       "0.7468087523267504"
      ]
     },
     "execution_count": 33,
     "metadata": {},
     "output_type": "execute_result"
    }
   ],
   "source": [
    "calculate_similarity_bert3('morning', 'afternoon', 'evening', 'day')"
   ]
  },
  {
   "cell_type": "markdown",
   "metadata": {},
   "source": [
    "## Phrase similarity"
   ]
  },
  {
   "cell_type": "code",
   "execution_count": 34,
   "metadata": {},
   "outputs": [],
   "source": [
    "def positive(words):\n",
    "    \"\"\"\n",
    "    Given a list of words, return the list as a flattened and concatenated NumPy array of their BERT embeddings.\n",
    "    I think this function \"phrasifies\" the list of words.\n",
    "    words: list[str]\n",
    "    \"\"\"\n",
    "    print(words)\n",
    "    res = np.array(model_bert[words[0]]).reshape(1, -1)\n",
    "    for x in words[1:]:\n",
    "        res += np.array(model_bert[x]).reshape(1, -1)\n",
    "    return res\n",
    "\n",
    "\n",
    "def most_similar(word, phrase=False):\n",
    "    \"\"\"\n",
    "    Return the 10 most similar words to a given word based on BERT embeddings\n",
    "    word: string\n",
    "    \"\"\"\n",
    "    similarities = {}\n",
    "    word1 = word\n",
    "    if not phrase:\n",
    "        word1 = np.array(model_bert[word]).reshape(1, -1)\n",
    "    for term in vocab:\n",
    "        word2 = np.array(model_bert[term]).reshape(1, -1)\n",
    "        if isinstance(word, str):\n",
    "            if term != word:\n",
    "                similarities[term] = cosine_similarity(word1, word2)\n",
    "        elif word2.any():\n",
    "            similarities[term] = cosine_similarity(word1, word2)\n",
    "    return list({k: v for k, v in sorted(similarities.items(), key=lambda item: item[1], reverse=True)}.items())[2:12]\n"
   ]
  },
  {
   "cell_type": "code",
   "execution_count": 29,
   "metadata": {},
   "outputs": [
    {
     "name": "stdout",
     "output_type": "stream",
     "text": [
      "['married', 'man']\n"
     ]
    },
    {
     "data": {
      "text/plain": [
       "[('husband', array([[0.85834757]])),\n",
       " ('horse', array([[0.84829096]])),\n",
       " ('cake', array([[0.84059127]])),\n",
       " ('divorced', array([[0.83847056]])),\n",
       " ('train', array([[0.83816104]])),\n",
       " ('living', array([[0.83794272]])),\n",
       " ('job', array([[0.83428702]])),\n",
       " ('smoking', array([[0.83335487]])),\n",
       " ('romantic', array([[0.83332636]])),\n",
       " ('kid', array([[0.832829]]))]"
      ]
     },
     "execution_count": 29,
     "metadata": {},
     "output_type": "execute_result"
    }
   ],
   "source": [
    "w1 = 'married'\n",
    "w2 = 'man'\n",
    "# becomes like 'unmarried man', but represented as ndarray\n",
    "most_similar(positive([w1, w2]), phrase=True)"
   ]
  },
  {
   "cell_type": "code",
   "execution_count": 32,
   "metadata": {},
   "outputs": [],
   "source": [
    "# I want to map each word to words within some threshold, rather than a specific amount of words\n",
    "big_guy = {}\n",
    "threshold = 0.8\n",
    "for key in valid_vocab:\n",
    "    big_guy[key] = []\n",
    "    for word in valid_vocab:\n",
    "        if key == word:\n",
    "            continue\n",
    "        sim_score = calculate_bert_connect(key, word)\n",
    "        if sim_score > threshold:\n",
    "            big_guy[key].append((word, sim_score))\n",
    "    big_guy[key].sort(key=lambda x: x[1], reverse=True)\n",
    "\n",
    "# pc runtime: going to bed at 37.. ran all night, 616m 40.2s (10.2h), ran out of space too.\n",
    "# day2: 76m 58.3s"
   ]
  },
  {
   "cell_type": "code",
   "execution_count": 36,
   "metadata": {},
   "outputs": [
    {
     "data": {
      "text/plain": [
       "'soup'"
      ]
     },
     "execution_count": 36,
     "metadata": {},
     "output_type": "execute_result"
    }
   ],
   "source": [
    "max(big_guy, key=lambda x: len(big_guy[x]))"
   ]
  },
  {
   "cell_type": "code",
   "execution_count": 53,
   "metadata": {},
   "outputs": [
    {
     "data": {
      "text/plain": [
       "0.3307441"
      ]
     },
     "execution_count": 53,
     "metadata": {},
     "output_type": "execute_result"
    }
   ],
   "source": [
    "calculate_glove_connect('man', 'horse')"
   ]
  },
  {
   "cell_type": "code",
   "execution_count": 37,
   "metadata": {},
   "outputs": [
    {
     "data": {
      "text/plain": [
       "[0.5240732386227218, 0.7994436, 0.7009233]"
      ]
     },
     "execution_count": 37,
     "metadata": {},
     "output_type": "execute_result"
    }
   ],
   "source": [
    "# vector of king, minus vector of man, plus vector of woman, compared via cosine similarity to vector of queen\n",
    "out = []\n",
    "for model in [model_bert, model_100, model_300]:\n",
    "    out.append(cosine_similarity(((np.asarray(model['king']) - np.asarray(model['man']) / 2) + np.asarray(model['woman'])).reshape(1, -1), np.asarray(model['queen']).reshape(1, -1))[0][0])\n",
    "\n",
    "out"
   ]
  },
  {
   "cell_type": "code",
   "execution_count": null,
   "metadata": {},
   "outputs": [],
   "source": [
    "big_guy['soup']"
   ]
  },
  {
   "cell_type": "markdown",
   "metadata": {},
   "source": [
    "### NetworkX viz test\n",
    "How can we make wordmaps?"
   ]
  },
  {
   "cell_type": "code",
   "execution_count": 30,
   "metadata": {},
   "outputs": [],
   "source": [
    "import networkx as nx      # in conda!"
   ]
  },
  {
   "cell_type": "code",
   "execution_count": 4,
   "metadata": {},
   "outputs": [],
   "source": [
    "words = ['man', 'married', 'unmarried', 'woman', 'female', 'male', 'girls', 'boys', 'girl', 'boy', 'spouse', 'spouses', \n",
    "        'sibling', 'siblings', 'offspring', 'offsprings', 'wives', 'wife', 'husband', 'husbands', 'brother', 'brothers',\n",
    "        'sister', 'sisters', 'daughter', 'daughters', 'child', 'children', 'bachelor', 'bachelors', 'baby', 'small', \n",
    "        'little', 'duck', 'duckling', 'cat', 'kitten', 'dog', 'puppy','human','adult','pig','boar','horse','mare','colt',\n",
    "        'true','belief','knowledge','determinant','scalar','function','matrix','rectangular','table','numbers','relation',\n",
    "        'two','sets','father','mother','powerset','superset','rationals','irrationals']"
   ]
  },
  {
   "cell_type": "code",
   "execution_count": 32,
   "metadata": {},
   "outputs": [],
   "source": [
    "# now, I'm going to use words to make an edge list, where weight is the distance in BERT embeddings\n",
    "edges = []\n",
    "threshold = 0.6 # I'm going lower for the smaller vocab\n",
    "for u in words:\n",
    "    for v in words:\n",
    "        if u == v:\n",
    "            continue\n",
    "        sim_score = calculate_bert_connect(u, v)\n",
    "        if sim_score > threshold:\n",
    "            edges.append((u, v, sim_score))"
   ]
  },
  {
   "cell_type": "code",
   "execution_count": 33,
   "metadata": {},
   "outputs": [],
   "source": [
    "# now I will build the graph from the edge list in networkx\n",
    "G = nx.Graph()\n",
    "G.add_weighted_edges_from(edges)"
   ]
  },
  {
   "cell_type": "code",
   "execution_count": 37,
   "metadata": {},
   "outputs": [
    {
     "name": "stdout",
     "output_type": "stream",
     "text": [
      "Error in callback <function flush_figures at 0x000001EB63B70430> (for post_execute):\n"
     ]
    }
   ],
   "source": [
    "# now, I want to draw the graph using matplotlib\n",
    "pos = nx.circular_layout(G)\n",
    "edgewidth = [G.get_edge_data(u, v)['weight'] * 3 for u, v in G.edges()]\n",
    "nx.draw_networkx_nodes(G, pos, node_size=100)\n",
    "nx.draw_networkx_edges(G, pos, width=edgewidth, alpha=0.5)\n",
    "nx.draw_networkx_labels(G, pos, font_size=10, font_family='sans-serif')\n",
    "plt.axis('off')\n",
    "plt.savefig('graph.png')"
   ]
  },
  {
   "cell_type": "code",
   "execution_count": 39,
   "metadata": {},
   "outputs": [
    {
     "data": {
      "text/plain": [
       "0.40506247"
      ]
     },
     "execution_count": 39,
     "metadata": {},
     "output_type": "execute_result"
    }
   ],
   "source": [
    "calculate_glove_connect('clothes', 'closet')"
   ]
  },
  {
   "cell_type": "markdown",
   "metadata": {},
   "source": [
    "### GPT-3 Embeddings\n",
    "How can we repeat this experiment with a new model, like GPT-3 Ada or Babbage (DaVinci may be too big).\n",
    "Goals:\n",
    "* Create `model_ada`, like `model_bert` where we ask the GPT-3 API to serve us some word embedding, and then we save it.\n",
    "    * (optional) Save GPT-3 embeddings to a file, so we don't have to make costly requests more than once\n",
    "* Re-run meaning tests and cosine similarity of relevant terms and phrases using new embeddings\n",
    "* Implement above_zero_complexity for new model"
   ]
  },
  {
   "cell_type": "code",
   "execution_count": 2,
   "metadata": {},
   "outputs": [],
   "source": [
    "import os\n",
    "import openai\n",
    "import numpy as np\n",
    "\n",
    "# this is set in my conda env 'aca'\n",
    "# by `conda env config vars set OPENAI_API_KEY=\"my-key\"`\n",
    "openai.api_key = os.getenv('OPENAI_API_KEY')"
   ]
  },
  {
   "cell_type": "code",
   "execution_count": 38,
   "metadata": {},
   "outputs": [],
   "source": [
    "# this will be my function for getting embeddings\n",
    "gpt_models = ['text-similarity-ada-001',\n",
    "              'text-similarity-babbage-001',\n",
    "              'text-similarity-curie-001',\n",
    "              'text-similarity-davinci-001']\n",
    "\n",
    "def get_embedding(text, engine='text-similarity-ada-001'):\n",
    "    text = text.replace('\\n', ' ')\n",
    "    return openai.Embedding.create(input=[text], engine=engine)['data'][0]['embedding']"
   ]
  },
  {
   "cell_type": "code",
   "execution_count": 5,
   "metadata": {},
   "outputs": [
    {
     "data": {
      "text/plain": [
       "array([[-0.00247947,  0.01203689,  0.01060026, ...,  0.05212906,\n",
       "         0.02698807,  0.01124674]])"
      ]
     },
     "execution_count": 5,
     "metadata": {},
     "output_type": "execute_result"
    }
   ],
   "source": [
    "np.asarray(get_embedding('king', engine=gpt_models[0])).reshape(1, -1)"
   ]
  },
  {
   "cell_type": "markdown",
   "metadata": {},
   "source": [
    "I used a script version of get_embedding usage to save vocab embeddings from Ada, I'll load them in from a file."
   ]
  },
  {
   "cell_type": "code",
   "execution_count": 4,
   "metadata": {},
   "outputs": [],
   "source": [
    "ada_embeds = []\n",
    "with open(u'/gpfs/fs1/home/mbarlow6/Desktop/Conceptual-Analysis/barlow/gpt/gpt_ada.txt', 'r') as f:\n",
    "    for line in f:\n",
    "        ada_embeds.append([float(x) for x in line.strip().split()])\n",
    "\n",
    "vocab = []\n",
    "with open(u'/gpfs/fs1/home/mbarlow6/Desktop/Conceptual-Analysis/barlow/valid_vocab.txt', 'r') as f:\n",
    "    for w in f:\n",
    "        vocab.append(w.strip())\n",
    "\n",
    "\n",
    "model_ada = dict(zip(vocab, ada_embeds))"
   ]
  },
  {
   "cell_type": "code",
   "execution_count": 18,
   "metadata": {},
   "outputs": [
    {
     "name": "stdout",
     "output_type": "stream",
     "text": [
      "-0.051756596509367224 0.051424112379550926\n"
     ]
    }
   ],
   "source": [
    "# where are the outer edges of our data? let's preserve 20% from each edge.\n",
    "\n",
    "top = np.quantile(list(model_ada.values()), 0.966)  # top 3.4%\n",
    "bot = np.quantile(list(model_ada.values()), 0.033)  # bottom 3.3%\n",
    "print(bot, top)"
   ]
  },
  {
   "cell_type": "markdown",
   "metadata": {},
   "source": [
    "### Complexity tests\n",
    "Now that I have some GPT-3 embeddings to compare with, I'm going to bring in some measures of complexity previously cited."
   ]
  },
  {
   "cell_type": "code",
   "execution_count": 23,
   "metadata": {},
   "outputs": [
    {
     "name": "stdout",
     "output_type": "stream",
     "text": [
      "0.18146279454231262\n",
      "-0.3554960787296295\n"
     ]
    }
   ],
   "source": [
    "m, mm = 0, 0\n",
    "for w in model_ada.values():\n",
    "    for val in w:\n",
    "        m = max(m, float(val))\n",
    "        mm = min(mm, float(val))\n",
    "\n",
    "print(m)\n",
    "print(mm)"
   ]
  },
  {
   "cell_type": "code",
   "execution_count": 5,
   "metadata": {},
   "outputs": [],
   "source": [
    "def sum_complexity(word):\n",
    "    \"\"\"\n",
    "    Sums the absolute value of each dimension in a word's embedding vector (in GPT-3 Ada)\n",
    "    args:\n",
    "        word: str -> word to get embedding for\n",
    "    returns:\n",
    "        sum of absolute value of each dimension in embedding vector\n",
    "    \"\"\"\n",
    "    return sum([abs(float(x)) for x in model_ada[word]])\n",
    "\n",
    "\n",
    "def above_zero_complexity(word, threshold=0.021):\n",
    "    # Trying to extract the most \"important\" features\n",
    "    # default threshold is 0.021, which contains 40% of data points (across the whole model)\n",
    "    em = model_ada[word]\n",
    "    return len([abs(float(x)) for x in em if abs(float(x)) > threshold])/len(em)"
   ]
  },
  {
   "cell_type": "markdown",
   "metadata": {},
   "source": [
    "I now expect ~7.7% of the data to be preserved (0.077) as my threshold captures the top 3.4% and the bottom 3.3% of data points by value\n",
    "\n",
    "So, I will compare my 'complexity' to that, and maybe will find some difference in the distance from the expected amount of preserved data"
   ]
  },
  {
   "cell_type": "code",
   "execution_count": 37,
   "metadata": {},
   "outputs": [
    {
     "name": "stdout",
     "output_type": "stream",
     "text": [
      "-----\n",
      "king\n",
      "0.05: 0.078125 adj: 0.1125000000000001\n",
      "0.021: 0.4501953125 adj: 0.5195312499999993\n",
      "sum: 5.751518655415566\n",
      "-----\n",
      "man\n",
      "0.05: 0.0869140625 adj: 0.99140625\n",
      "0.021: 0.4462890625 adj: 0.12890624999999933\n",
      "sum: 4.461389857169706\n",
      "-----\n",
      "duck\n",
      "0.05: 0.0771484375 adj: 0.0148437500000001\n",
      "0.021: 0.4287109375 adj: -1.6289062500000007\n",
      "sum: 6.550136826190283\n",
      "-----\n",
      "baby\n",
      "0.05: 0.076171875 adj: -0.0828124999999999\n",
      "0.021: 0.4443359375 adj: -0.06640625000000067\n",
      "sum: 6.872079981403658\n",
      "-----\n",
      "duckling\n",
      "0.05: 0.0771484375 adj: 0.0148437500000001\n",
      "0.021: 0.4326171875 adj: -1.2382812500000007\n",
      "sum: 6.349478021111281\n",
      "-----\n",
      "entertaining\n",
      "0.05: 0.0625 adj: -1.45\n",
      "0.021: 0.4501953125 adj: 0.5195312499999993\n",
      "sum: 2.9206471496945596\n",
      "-----\n",
      "government\n",
      "0.05: 0.0712890625 adj: -0.57109375\n",
      "0.021: 0.458984375 adj: 1.3984374999999993\n",
      "sum: 4.509202418230416\n",
      "-----\n",
      "Friday\n",
      "0.05: 0.0732421875 adj: -0.3757812499999999\n",
      "0.021: 0.4541015625 adj: 0.9101562499999993\n",
      "sum: 2.8502212209423305\n",
      "-----\n",
      "traditional\n",
      "0.05: 0.0693359375 adj: -0.76640625\n",
      "0.021: 0.4462890625 adj: 0.12890624999999933\n",
      "sum: 1.079595953306125\n",
      "-----\n",
      "uncontrolled\n",
      "0.05: 0.0732421875 adj: -0.3757812499999999\n",
      "0.021: 0.4619140625 adj: 1.6914062499999993\n",
      "sum: 8.770145771813986\n"
     ]
    }
   ],
   "source": [
    "test_words = ['king', 'man', 'duck', 'baby', 'duckling', 'entertaining', 'government',\n",
    "                'Friday', 'traditional', 'uncontrolled', 'regulation']\n",
    "\n",
    "\n",
    "for w in test_words:\n",
    "    print(\"-----\")\n",
    "    print(w)\n",
    "    print(f\"0.05: {above_zero_complexity(w, 0.05)} adj: {(above_zero_complexity(w, 0.05) - 0.077) * 100}\")\n",
    "    print(f\"0.021: {above_zero_complexity(w, 0.021)} adj: {(above_zero_complexity(w, 0.021) - 0.445) * 100}\")\n",
    "    print(f\"sum: {(sum_complexity(w) - 23) * 10}\")"
   ]
  },
  {
   "cell_type": "markdown",
   "metadata": {},
   "source": [
    "These are giving me a headache... It seems like the threshold I choose is statistical, not meaningful. (Are they the same in a model?) Each threshold I choose leaves VERY little space in variation of 'above zero complexity' - when I choose based on quartile all terms score about 0.4. As that term moves closer to 1, we include less and less points, and the complexity scores move with the percentage of data that is being preserved. Bottom 20% of numbers are below -0.0218967255204916, and top 20% are above 0.024340828508138665, so something like threshold 0.021 captures 40% of the data, nearly every time, no matter the word. This doesn't feel conducive to our goal."
   ]
  },
  {
   "cell_type": "code",
   "execution_count": 51,
   "metadata": {},
   "outputs": [],
   "source": [
    "wh = get_embedding('white house')\n",
    "bd = get_embedding('baby duck')\n",
    "um = get_embedding('unmarried man')\n",
    "\n",
    "hw = get_embedding('Hello, world! It is I, the bachelor duckling, come to lay seige to the White House.')\n",
    "\n",
    "complaint = get_embedding(\"These are giving me a headache... It seems like the threshold I choose is statistical, not meaningful. (Are they the same in a model?) Each threshold I choose leaves VERY little space in variation of 'above zero complexity' - when I choose based on quartile all terms score about 0.4. As that term moves closer to 1, we include less and less points, and the complexity scores move with the percentage of data that is being preserved. Bottom 20\\% \\of numbers are below -0.0218967255204916, and top 20% are above 0.024340828508138665, so something like threshold 0.021 captures 40\\% \\of the data, nearly every time, no matter the word. This doesn't feel conducive to our goal.\")"
   ]
  },
  {
   "cell_type": "code",
   "execution_count": 55,
   "metadata": {},
   "outputs": [
    {
     "data": {
      "text/plain": [
       "0.0615234375"
      ]
     },
     "execution_count": 55,
     "metadata": {},
     "output_type": "execute_result"
    }
   ],
   "source": [
    "len([abs(float(x)) for x in complaint if abs(float(x)) > 0.05])/len(complaint)"
   ]
  },
  {
   "cell_type": "code",
   "execution_count": 58,
   "metadata": {},
   "outputs": [
    {
     "data": {
      "text/plain": [
       "22.717633825312078"
      ]
     },
     "execution_count": 58,
     "metadata": {},
     "output_type": "execute_result"
    }
   ],
   "source": [
    "sum([abs(float(x)) for x in complaint])"
   ]
  },
  {
   "cell_type": "code",
   "execution_count": 59,
   "metadata": {},
   "outputs": [],
   "source": [
    "phrases = [wh, bd, um, hw, complaint]"
   ]
  },
  {
   "cell_type": "code",
   "execution_count": 72,
   "metadata": {},
   "outputs": [],
   "source": [
    "def most_similar(word, phrase=False):\n",
    "    # if phrase, expecting embedding\n",
    "    similarities = {}\n",
    "    word1 = word\n",
    "    if not phrase:\n",
    "        word1 = np.asarray(model_ada[word]).reshape(1, -1)\n",
    "    else:\n",
    "        word1 = np.asarray(word1).reshape(1, -1)\n",
    "    for term in vocab:\n",
    "        word2 = np.asarray(model_ada[term]).reshape(1, -1)\n",
    "        if isinstance(word, str):\n",
    "            if term != word:\n",
    "                similarities[term] = cosine_similarity(word1, word2)\n",
    "        elif word2.any():\n",
    "            similarities[term] = cosine_similarity(word1, word2)\n",
    "\n",
    "    return list({k: v for k, v in sorted(similarities.items(), key=lambda item: item[1], reverse=True)}.items())[:12]"
   ]
  },
  {
   "cell_type": "code",
   "execution_count": 73,
   "metadata": {},
   "outputs": [
    {
     "name": "stdout",
     "output_type": "stream",
     "text": [
      "white house\n",
      "[('white', array([[0.92866519]])), ('president', array([[0.91644013]])), ('palace', array([[0.87985856]])), ('house', array([[0.87959042]])), ('politics', array([[0.87511269]])), ('government', array([[0.87485086]])), ('senator', array([[0.8729199]])), ('politician', array([[0.87277912]])), ('household', array([[0.87031118]])), ('politically', array([[0.86951285]])), ('executive', array([[0.86944558]])), ('congress', array([[0.86845826]]))]\n",
      "baby duck\n",
      "[('duckling', array([[0.93903434]])), ('baby', array([[0.92644236]])), ('duck', array([[0.90906323]])), ('puppy', array([[0.87660101]])), ('child', array([[0.87258577]])), ('offspring', array([[0.86769641]])), ('children', array([[0.86710025]])), ('birth', array([[0.86388197]])), ('chicken', array([[0.86152264]])), ('pregnant', array([[0.86036832]])), ('kitten', array([[0.85628729]])), ('feather', array([[0.8552504]]))]\n",
      "unmarried man\n",
      "[('unmarried', array([[0.95856518]])), ('husband', array([[0.90412195]])), ('unemployed', array([[0.90033191]])), ('married', array([[0.89712234]])), ('marriage', array([[0.89040608]])), ('divorced', array([[0.88446115]])), ('single', array([[0.8780194]])), ('man', array([[0.87451318]])), ('unemployment', array([[0.87447126]])), ('male', array([[0.87420862]])), ('spouse', array([[0.87275243]])), ('boyfriend', array([[0.87197937]]))]\n",
      "Hello, world! It is I, the bachelor duckling, come to lay seige to the White House.\n",
      "[('bachelor', array([[0.75488896]])), ('duckling', array([[0.74361017]])), ('president', array([[0.73751226]])), ('duck', array([[0.72635035]])), ('palace', array([[0.71720601]])), ('apartment', array([[0.71567419]])), ('castle', array([[0.71404628]])), ('bedroom', array([[0.7139547]])), ('entrance', array([[0.71361302]])), ('chicken', array([[0.7118682]])), ('determination', array([[0.71124918]])), ('senator', array([[0.71057074]]))]\n",
      "Rant from above:\n",
      "[('disappointment', array([[0.72335514]])), ('complicated', array([[0.71936134]])), ('disadvantage', array([[0.71536383]])), ('complicate', array([[0.71258369]])), ('confusing', array([[0.70974049]])), ('confusion', array([[0.70889256]])), ('stress', array([[0.70842527]])), ('unacceptable', array([[0.70799936]])), ('difficulty', array([[0.70763172]])), ('depressing', array([[0.70617059]])), ('vocabulary', array([[0.70541271]])), ('complex', array([[0.7053047]]))]\n",
      "man\n",
      "[('he', array([[0.92767622]])), ('guy', array([[0.92638367]])), ('him', array([[0.92022216]])), ('person', array([[0.92006811]])), ('manner', array([[0.91961706]])), ('human', array([[0.91586656]])), ('male', array([[0.91555057]])), ('one', array([[0.9153762]])), ('Mr', array([[0.91477346]])), ('you', array([[0.9133424]])), ('what', array([[0.91103773]])), ('sum', array([[0.90935699]]))]\n"
     ]
    }
   ],
   "source": [
    "print(\"white house\")\n",
    "print(most_similar(wh, True))\n",
    "print(\"baby duck\")\n",
    "print(most_similar(bd, True))\n",
    "print(\"unmarried man\")\n",
    "print(most_similar(um, True))\n",
    "print(\"Hello, world! It is I, the bachelor duckling, come to lay seige to the White House.\")\n",
    "print(most_similar(hw, True))\n",
    "print(\"Rant from above:\")\n",
    "print(most_similar(complaint, True))\n",
    "print('man')\n",
    "print(most_similar('man'))"
   ]
  },
  {
   "cell_type": "code",
   "execution_count": 69,
   "metadata": {},
   "outputs": [
    {
     "data": {
      "text/plain": [
       "array([[0.85223754]])"
      ]
     },
     "execution_count": 69,
     "metadata": {},
     "output_type": "execute_result"
    }
   ],
   "source": [
    "cosine_similarity(np.array(model_ada['horse']).reshape(1, -1), np.array(model_ada['man']).reshape(1, -1))"
   ]
  }
 ],
 "metadata": {
  "interpreter": {
   "hash": "1a58f2b50cba0e3ef60ddaac0060fcc6c1f1afd3fbbcd44f07b68475f7ee4549"
  },
  "kernelspec": {
   "display_name": "Python 3.9.12 64-bit",
   "name": "python3"
  },
  "language_info": {
   "codemirror_mode": {
    "name": "ipython",
    "version": 3
   },
   "file_extension": ".py",
   "mimetype": "text/x-python",
   "name": "python",
   "nbconvert_exporter": "python",
   "pygments_lexer": "ipython3",
   "version": "3.9.12"
  },
  "orig_nbformat": 4
 },
 "nbformat": 4,
 "nbformat_minor": 2
}
