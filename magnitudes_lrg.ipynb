{
 "cells": [
  {
   "cell_type": "markdown",
   "metadata": {},
   "source": [
    "# Revised Magnitude tests (With larger models)\n",
    "What exactly does magnitude correlate in word embeddings from Large Language Models? Can we find markers of complexity in differences between clearly defined groups of English language words?\n",
    "\n",
    "I will compare dialects (British-English, American-English), plurals (wife, wives), and Oxford Corpus frequencies as a part of attempting to investigate these issues."
   ]
  },
  {
   "cell_type": "code",
   "execution_count": 1,
   "metadata": {},
   "outputs": [],
   "source": [
    "import os\n",
    "import torch\n",
    "import openai\n",
    "import numpy as np\n",
    "\n",
    "import sentencepiece    # necessary for proper t5 init.\n",
    "from transformers import T5Tokenizer, T5EncoderModel, GPT2Tokenizer, OPTModel\n",
    "\n",
    "from sklearn.metrics.pairwise import cosine_similarity\n",
    "\n",
    "# api key set in conda env.\n",
    "openai.api_key = os.getenv('OPENAI_API_KEY')"
   ]
  },
  {
   "cell_type": "markdown",
   "metadata": {},
   "source": [
    "## Load Models"
   ]
  },
  {
   "cell_type": "markdown",
   "metadata": {},
   "source": [
    "### Vocab"
   ]
  },
  {
   "cell_type": "code",
   "execution_count": 2,
   "metadata": {},
   "outputs": [
    {
     "data": {
      "text/plain": [
       "5124"
      ]
     },
     "execution_count": 2,
     "metadata": {},
     "output_type": "execute_result"
    }
   ],
   "source": [
    "vocab = []\n",
    "with open('./vocab/expanded_vocab.txt', 'r') as f:\n",
    "    for line in f:\n",
    "        vocab.append(line.strip())\n",
    "\n",
    "len(vocab)"
   ]
  },
  {
   "cell_type": "code",
   "execution_count": 3,
   "metadata": {},
   "outputs": [],
   "source": [
    "top_50 = []\n",
    "with open('./vocab/top_50.txt', 'r') as f:\n",
    "    for line in f:\n",
    "        top_50.append(line.strip())\n",
    "\n",
    "bottom_50 = []\n",
    "with open('./vocab/bottom_50.txt', 'r') as f:\n",
    "    for line in f:\n",
    "        bottom_50.append(line.strip())"
   ]
  },
  {
   "cell_type": "markdown",
   "metadata": {},
   "source": [
    "### OPT-1.3b"
   ]
  },
  {
   "cell_type": "code",
   "execution_count": 4,
   "metadata": {},
   "outputs": [
    {
     "name": "stderr",
     "output_type": "stream",
     "text": [
      "Some weights of the model checkpoint at facebook/opt-13b were not used when initializing OPTModel: ['decoder.final_layer_norm.weight', 'decoder.final_layer_norm.bias']\n",
      "- This IS expected if you are initializing OPTModel from the checkpoint of a model trained on another task or with another architecture (e.g. initializing a BertForSequenceClassification model from a BertForPreTraining model).\n",
      "- This IS NOT expected if you are initializing OPTModel from the checkpoint of a model that you expect to be exactly identical (initializing a BertForSequenceClassification model from a BertForSequenceClassification model).\n"
     ]
    }
   ],
   "source": [
    "gpt2_tokenizer = GPT2Tokenizer.from_pretrained('facebook/opt-13b', cache_dir='/scratch/mbarlow6/.cache')\n",
    "model_opt_raw = OPTModel.from_pretrained('facebook/opt-13b', cache_dir='/scratch/mbarlow6/.cache')"
   ]
  },
  {
   "cell_type": "code",
   "execution_count": 5,
   "metadata": {},
   "outputs": [],
   "source": [
    "opt_embeds = []\n",
    "with open(u'./opt/13B.txt', 'r') as f:\n",
    "    for line in f:\n",
    "        opt_embeds.append([float(x) for x in line.strip().split()])\n",
    "model_opt = dict(zip(vocab, opt_embeds))"
   ]
  },
  {
   "cell_type": "code",
   "execution_count": 6,
   "metadata": {},
   "outputs": [],
   "source": [
    "def opt_embed(text, tokenizer=gpt2_tokenizer, model=model_opt_raw, debug=False):\n",
    "    inputs = tokenizer(text, return_tensors='pt')\n",
    "    if debug:\n",
    "        print('Tokens Requested:')\n",
    "        print(tokenizer.batch_decode(inputs.input_ids[0]))\n",
    "    with torch.no_grad():\n",
    "        outputs = model(**inputs)\n",
    "    embeddings = torch.squeeze(outputs.last_hidden_state, dim=0)\n",
    "    return np.array(torch.mean(embeddings[1:], dim=0))"
   ]
  },
  {
   "cell_type": "markdown",
   "metadata": {},
   "source": [
    "### T5"
   ]
  },
  {
   "cell_type": "code",
   "execution_count": 7,
   "metadata": {},
   "outputs": [
    {
     "name": "stderr",
     "output_type": "stream",
     "text": [
      "/home/mbarlow6/.local/lib/python3.9/site-packages/transformers/models/t5/tokenization_t5.py:163: FutureWarning: This tokenizer was incorrectly instantiated with a model max length of 512 which will be corrected in Transformers v5.\n",
      "For now, this behavior is kept to avoid breaking backwards compatibility when padding/encoding with `truncation is True`.\n",
      "- Be aware that you SHOULD NOT rely on t5-3b automatically truncating your input to 512 when padding/encoding.\n",
      "- If you want to encode/pad to sequences longer than 512 you can either instantiate this tokenizer with `model_max_length` or pass `max_length` when encoding/padding.\n",
      "- To avoid this warning, please instantiate this tokenizer with `model_max_length` set to your preferred value.\n",
      "  warnings.warn(\n",
      "Some weights of the model checkpoint at t5-3b were not used when initializing T5EncoderModel: ['decoder.block.5.layer.0.SelfAttention.o.weight', 'decoder.block.6.layer.2.DenseReluDense.wo.weight', 'decoder.block.10.layer.0.SelfAttention.v.weight', 'decoder.block.22.layer.0.SelfAttention.o.weight', 'decoder.block.21.layer.0.SelfAttention.q.weight', 'decoder.block.1.layer.1.layer_norm.weight', 'decoder.block.14.layer.0.SelfAttention.o.weight', 'decoder.block.23.layer.1.EncDecAttention.q.weight', 'decoder.block.5.layer.1.layer_norm.weight', 'decoder.block.2.layer.2.DenseReluDense.wo.weight', 'decoder.block.9.layer.2.DenseReluDense.wi.weight', 'decoder.block.7.layer.1.EncDecAttention.k.weight', 'decoder.block.20.layer.0.SelfAttention.o.weight', 'decoder.block.2.layer.0.SelfAttention.v.weight', 'decoder.block.3.layer.2.DenseReluDense.wo.weight', 'decoder.block.13.layer.2.DenseReluDense.wo.weight', 'decoder.block.23.layer.0.SelfAttention.q.weight', 'decoder.block.15.layer.0.layer_norm.weight', 'decoder.block.19.layer.0.SelfAttention.k.weight', 'decoder.block.5.layer.2.layer_norm.weight', 'decoder.block.22.layer.1.EncDecAttention.q.weight', 'decoder.block.1.layer.1.EncDecAttention.o.weight', 'decoder.block.6.layer.0.SelfAttention.v.weight', 'decoder.block.14.layer.2.layer_norm.weight', 'decoder.block.1.layer.0.layer_norm.weight', 'decoder.block.21.layer.0.SelfAttention.o.weight', 'decoder.block.20.layer.0.layer_norm.weight', 'decoder.block.14.layer.2.DenseReluDense.wo.weight', 'decoder.block.12.layer.0.SelfAttention.v.weight', 'decoder.block.0.layer.2.DenseReluDense.wi.weight', 'decoder.block.14.layer.0.SelfAttention.k.weight', 'decoder.block.12.layer.1.EncDecAttention.o.weight', 'decoder.block.15.layer.1.EncDecAttention.k.weight', 'decoder.block.2.layer.0.SelfAttention.o.weight', 'decoder.block.19.layer.1.EncDecAttention.v.weight', 'decoder.block.2.layer.2.layer_norm.weight', 'decoder.block.4.layer.0.SelfAttention.o.weight', 'decoder.block.23.layer.1.EncDecAttention.k.weight', 'decoder.block.14.layer.1.layer_norm.weight', 'decoder.block.17.layer.2.DenseReluDense.wo.weight', 'decoder.block.17.layer.0.layer_norm.weight', 'decoder.block.2.layer.0.layer_norm.weight', 'decoder.block.5.layer.0.SelfAttention.v.weight', 'decoder.block.13.layer.1.EncDecAttention.k.weight', 'decoder.block.13.layer.0.SelfAttention.o.weight', 'decoder.block.18.layer.1.EncDecAttention.q.weight', 'decoder.block.15.layer.1.EncDecAttention.v.weight', 'decoder.block.9.layer.1.EncDecAttention.o.weight', 'decoder.block.13.layer.1.EncDecAttention.q.weight', 'decoder.block.17.layer.0.SelfAttention.o.weight', 'decoder.block.18.layer.2.DenseReluDense.wi.weight', 'decoder.block.17.layer.1.EncDecAttention.k.weight', 'decoder.block.9.layer.0.SelfAttention.v.weight', 'decoder.block.11.layer.1.EncDecAttention.q.weight', 'decoder.block.8.layer.0.SelfAttention.k.weight', 'decoder.block.10.layer.0.SelfAttention.k.weight', 'decoder.block.23.layer.0.SelfAttention.o.weight', 'decoder.block.15.layer.0.SelfAttention.v.weight', 'decoder.block.22.layer.1.EncDecAttention.v.weight', 'decoder.block.5.layer.1.EncDecAttention.q.weight', 'decoder.block.0.layer.1.EncDecAttention.relative_attention_bias.weight', 'decoder.block.16.layer.1.EncDecAttention.v.weight', 'decoder.block.21.layer.1.EncDecAttention.v.weight', 'decoder.block.18.layer.1.layer_norm.weight', 'decoder.block.21.layer.1.EncDecAttention.o.weight', 'decoder.block.13.layer.1.layer_norm.weight', 'decoder.block.9.layer.0.SelfAttention.q.weight', 'decoder.block.3.layer.1.EncDecAttention.k.weight', 'decoder.block.6.layer.1.EncDecAttention.k.weight', 'decoder.block.10.layer.2.layer_norm.weight', 'decoder.block.18.layer.0.SelfAttention.v.weight', 'decoder.block.3.layer.2.DenseReluDense.wi.weight', 'decoder.block.7.layer.1.EncDecAttention.o.weight', 'decoder.block.9.layer.1.EncDecAttention.k.weight', 'decoder.block.17.layer.1.EncDecAttention.o.weight', 'decoder.block.13.layer.1.EncDecAttention.v.weight', 'decoder.block.6.layer.0.layer_norm.weight', 'decoder.block.20.layer.1.EncDecAttention.q.weight', 'decoder.block.10.layer.1.EncDecAttention.k.weight', 'decoder.block.9.layer.0.SelfAttention.o.weight', 'decoder.block.18.layer.1.EncDecAttention.o.weight', 'decoder.block.20.layer.0.SelfAttention.q.weight', 'decoder.block.21.layer.2.layer_norm.weight', 'decoder.block.14.layer.1.EncDecAttention.k.weight', 'decoder.block.20.layer.2.DenseReluDense.wo.weight', 'decoder.block.15.layer.2.DenseReluDense.wo.weight', 'decoder.block.5.layer.0.SelfAttention.k.weight', 'decoder.block.19.layer.1.layer_norm.weight', 'decoder.block.18.layer.1.EncDecAttention.k.weight', 'decoder.block.4.layer.2.layer_norm.weight', 'decoder.block.7.layer.2.layer_norm.weight', 'decoder.block.2.layer.1.EncDecAttention.k.weight', 'decoder.block.5.layer.2.DenseReluDense.wo.weight', 'decoder.block.4.layer.1.EncDecAttention.k.weight', 'decoder.block.16.layer.1.layer_norm.weight', 'decoder.block.8.layer.1.EncDecAttention.k.weight', 'decoder.final_layer_norm.weight', 'decoder.block.23.layer.0.layer_norm.weight', 'decoder.block.19.layer.0.SelfAttention.v.weight', 'decoder.block.2.layer.0.SelfAttention.k.weight', 'decoder.block.3.layer.1.EncDecAttention.o.weight', 'decoder.block.20.layer.1.layer_norm.weight', 'decoder.block.16.layer.2.layer_norm.weight', 'decoder.block.16.layer.2.DenseReluDense.wi.weight', 'decoder.block.22.layer.0.SelfAttention.k.weight', 'decoder.block.3.layer.0.SelfAttention.o.weight', 'decoder.block.7.layer.0.SelfAttention.v.weight', 'decoder.block.20.layer.2.layer_norm.weight', 'decoder.block.2.layer.1.EncDecAttention.v.weight', 'decoder.block.2.layer.1.EncDecAttention.q.weight', 'decoder.block.15.layer.1.EncDecAttention.q.weight', 'decoder.block.17.layer.0.SelfAttention.k.weight', 'decoder.block.8.layer.1.layer_norm.weight', 'decoder.block.15.layer.2.DenseReluDense.wi.weight', 'decoder.block.7.layer.1.layer_norm.weight', 'decoder.block.6.layer.1.EncDecAttention.o.weight', 'decoder.block.8.layer.2.DenseReluDense.wi.weight', 'decoder.block.6.layer.2.DenseReluDense.wi.weight', 'decoder.block.7.layer.0.SelfAttention.k.weight', 'decoder.block.1.layer.2.layer_norm.weight', 'decoder.block.9.layer.2.layer_norm.weight', 'decoder.block.8.layer.0.SelfAttention.q.weight', 'decoder.block.11.layer.2.DenseReluDense.wo.weight', 'decoder.block.3.layer.0.SelfAttention.q.weight', 'decoder.block.4.layer.0.SelfAttention.k.weight', 'decoder.block.3.layer.1.EncDecAttention.v.weight', 'decoder.block.11.layer.0.SelfAttention.v.weight', 'decoder.block.18.layer.0.SelfAttention.q.weight', 'decoder.block.0.layer.0.SelfAttention.v.weight', 'decoder.block.0.layer.1.EncDecAttention.o.weight', 'decoder.block.4.layer.0.SelfAttention.q.weight', 'decoder.block.0.layer.0.layer_norm.weight', 'decoder.block.1.layer.1.EncDecAttention.k.weight', 'decoder.block.4.layer.1.EncDecAttention.q.weight', 'decoder.block.23.layer.2.layer_norm.weight', 'decoder.block.5.layer.2.DenseReluDense.wi.weight', 'decoder.block.4.layer.2.DenseReluDense.wi.weight', 'decoder.block.22.layer.0.SelfAttention.v.weight', 'decoder.block.7.layer.0.SelfAttention.o.weight', 'decoder.block.7.layer.1.EncDecAttention.q.weight', 'decoder.block.19.layer.0.SelfAttention.o.weight', 'decoder.block.20.layer.2.DenseReluDense.wi.weight', 'decoder.block.20.layer.1.EncDecAttention.o.weight', 'decoder.block.21.layer.1.layer_norm.weight', 'decoder.block.8.layer.0.SelfAttention.o.weight', 'decoder.block.10.layer.1.EncDecAttention.o.weight', 'decoder.block.0.layer.0.SelfAttention.q.weight', 'decoder.block.23.layer.0.SelfAttention.k.weight', 'decoder.block.16.layer.0.SelfAttention.v.weight', 'decoder.block.17.layer.2.DenseReluDense.wi.weight', 'decoder.block.9.layer.1.EncDecAttention.v.weight', 'decoder.block.11.layer.1.EncDecAttention.o.weight', 'decoder.block.22.layer.1.EncDecAttention.o.weight', 'decoder.block.11.layer.0.layer_norm.weight', 'decoder.block.1.layer.0.SelfAttention.v.weight', 'decoder.block.19.layer.2.DenseReluDense.wi.weight', 'decoder.block.18.layer.0.SelfAttention.k.weight', 'decoder.block.19.layer.1.EncDecAttention.o.weight', 'decoder.block.11.layer.0.SelfAttention.k.weight', 'decoder.block.21.layer.2.DenseReluDense.wi.weight', 'decoder.block.7.layer.2.DenseReluDense.wo.weight', 'decoder.block.16.layer.1.EncDecAttention.o.weight', 'decoder.block.12.layer.2.DenseReluDense.wo.weight', 'decoder.block.3.layer.1.EncDecAttention.q.weight', 'decoder.block.9.layer.0.layer_norm.weight', 'decoder.block.19.layer.0.layer_norm.weight', 'decoder.block.11.layer.0.SelfAttention.q.weight', 'decoder.block.19.layer.2.layer_norm.weight', 'decoder.block.0.layer.0.SelfAttention.relative_attention_bias.weight', 'decoder.block.4.layer.2.DenseReluDense.wo.weight', 'decoder.block.17.layer.2.layer_norm.weight', 'decoder.block.10.layer.2.DenseReluDense.wi.weight', 'decoder.block.13.layer.0.SelfAttention.q.weight', 'decoder.block.15.layer.1.layer_norm.weight', 'decoder.block.10.layer.0.SelfAttention.q.weight', 'decoder.block.15.layer.2.layer_norm.weight', 'decoder.block.22.layer.2.layer_norm.weight', 'decoder.block.20.layer.1.EncDecAttention.v.weight', 'decoder.block.1.layer.0.SelfAttention.q.weight', 'decoder.block.11.layer.2.DenseReluDense.wi.weight', 'decoder.block.9.layer.1.EncDecAttention.q.weight', 'decoder.block.10.layer.2.DenseReluDense.wo.weight', 'decoder.block.3.layer.0.SelfAttention.v.weight', 'decoder.block.6.layer.1.layer_norm.weight', 'decoder.block.21.layer.0.SelfAttention.k.weight', 'decoder.block.19.layer.2.DenseReluDense.wo.weight', 'decoder.block.12.layer.0.SelfAttention.o.weight', 'decoder.block.0.layer.1.layer_norm.weight', 'decoder.block.7.layer.0.layer_norm.weight', 'decoder.block.17.layer.0.SelfAttention.q.weight', 'decoder.block.15.layer.0.SelfAttention.o.weight', 'decoder.block.0.layer.0.SelfAttention.o.weight', 'decoder.block.5.layer.1.EncDecAttention.o.weight', 'decoder.block.21.layer.1.EncDecAttention.k.weight', 'decoder.block.16.layer.1.EncDecAttention.q.weight', 'decoder.block.4.layer.0.layer_norm.weight', 'decoder.block.9.layer.0.SelfAttention.k.weight', 'decoder.block.12.layer.1.layer_norm.weight', 'decoder.block.12.layer.2.DenseReluDense.wi.weight', 'decoder.block.5.layer.0.SelfAttention.q.weight', 'decoder.block.23.layer.1.EncDecAttention.o.weight', 'decoder.block.12.layer.0.layer_norm.weight', 'decoder.block.16.layer.0.SelfAttention.k.weight', 'decoder.block.7.layer.1.EncDecAttention.v.weight', 'decoder.block.6.layer.2.layer_norm.weight', 'decoder.block.0.layer.0.SelfAttention.k.weight', 'decoder.block.14.layer.0.SelfAttention.v.weight', 'decoder.block.11.layer.0.SelfAttention.o.weight', 'decoder.block.8.layer.2.DenseReluDense.wo.weight', 'decoder.block.11.layer.1.EncDecAttention.k.weight', 'decoder.block.10.layer.1.EncDecAttention.q.weight', 'decoder.block.23.layer.1.layer_norm.weight', 'decoder.block.18.layer.1.EncDecAttention.v.weight', 'decoder.block.16.layer.2.DenseReluDense.wo.weight', 'decoder.block.3.layer.0.SelfAttention.k.weight', 'decoder.block.8.layer.2.layer_norm.weight', 'decoder.block.10.layer.0.layer_norm.weight', 'decoder.block.7.layer.0.SelfAttention.q.weight', 'decoder.block.13.layer.0.SelfAttention.v.weight', 'decoder.block.12.layer.1.EncDecAttention.v.weight', 'decoder.block.5.layer.1.EncDecAttention.v.weight', 'decoder.block.13.layer.0.layer_norm.weight', 'decoder.block.19.layer.1.EncDecAttention.q.weight', 'decoder.block.0.layer.2.layer_norm.weight', 'decoder.block.14.layer.1.EncDecAttention.o.weight', 'decoder.block.6.layer.1.EncDecAttention.q.weight', 'decoder.block.18.layer.0.SelfAttention.o.weight', 'decoder.block.23.layer.2.DenseReluDense.wi.weight', 'decoder.block.11.layer.1.EncDecAttention.v.weight', 'decoder.block.16.layer.0.SelfAttention.q.weight', 'decoder.block.2.layer.2.DenseReluDense.wi.weight', 'decoder.block.12.layer.1.EncDecAttention.k.weight', 'decoder.block.23.layer.1.EncDecAttention.v.weight', 'decoder.block.22.layer.1.EncDecAttention.k.weight', 'decoder.block.22.layer.0.layer_norm.weight', 'decoder.block.7.layer.2.DenseReluDense.wi.weight', 'decoder.block.9.layer.2.DenseReluDense.wo.weight', 'decoder.block.17.layer.0.SelfAttention.v.weight', 'decoder.block.23.layer.0.SelfAttention.v.weight', 'decoder.block.1.layer.2.DenseReluDense.wi.weight', 'decoder.block.17.layer.1.layer_norm.weight', 'decoder.block.8.layer.1.EncDecAttention.q.weight', 'decoder.block.16.layer.1.EncDecAttention.k.weight', 'decoder.block.1.layer.1.EncDecAttention.q.weight', 'decoder.block.8.layer.0.layer_norm.weight', 'decoder.block.12.layer.0.SelfAttention.q.weight', 'decoder.block.10.layer.1.layer_norm.weight', 'decoder.block.15.layer.0.SelfAttention.q.weight', 'decoder.block.19.layer.1.EncDecAttention.k.weight', 'decoder.block.1.layer.0.SelfAttention.k.weight', 'decoder.block.3.layer.0.layer_norm.weight', 'decoder.block.15.layer.1.EncDecAttention.o.weight', 'decoder.block.2.layer.1.layer_norm.weight', 'decoder.block.14.layer.1.EncDecAttention.q.weight', 'decoder.block.12.layer.1.EncDecAttention.q.weight', 'decoder.block.20.layer.1.EncDecAttention.k.weight', 'decoder.block.3.layer.2.layer_norm.weight', 'decoder.block.1.layer.0.SelfAttention.o.weight', 'decoder.block.14.layer.2.DenseReluDense.wi.weight', 'decoder.block.4.layer.0.SelfAttention.v.weight', 'decoder.block.16.layer.0.layer_norm.weight', 'decoder.block.4.layer.1.layer_norm.weight', 'decoder.block.9.layer.1.layer_norm.weight', 'decoder.block.13.layer.2.layer_norm.weight', 'decoder.block.17.layer.1.EncDecAttention.q.weight', 'decoder.block.6.layer.1.EncDecAttention.v.weight', 'decoder.block.23.layer.2.DenseReluDense.wo.weight', 'decoder.block.6.layer.0.SelfAttention.o.weight', 'decoder.block.21.layer.1.EncDecAttention.q.weight', 'decoder.block.21.layer.0.SelfAttention.v.weight', 'decoder.block.4.layer.1.EncDecAttention.o.weight', 'decoder.block.2.layer.0.SelfAttention.q.weight', 'decoder.block.14.layer.0.SelfAttention.q.weight', 'decoder.block.0.layer.1.EncDecAttention.v.weight', 'decoder.block.18.layer.2.layer_norm.weight', 'decoder.block.3.layer.1.layer_norm.weight', 'decoder.block.20.layer.0.SelfAttention.k.weight', 'decoder.block.18.layer.0.layer_norm.weight', 'decoder.block.12.layer.2.layer_norm.weight', 'decoder.block.5.layer.1.EncDecAttention.k.weight', 'decoder.block.14.layer.0.layer_norm.weight', 'decoder.block.21.layer.0.layer_norm.weight', 'decoder.block.0.layer.1.EncDecAttention.q.weight', 'decoder.block.10.layer.0.SelfAttention.o.weight', 'decoder.block.18.layer.2.DenseReluDense.wo.weight', 'decoder.block.10.layer.1.EncDecAttention.v.weight', 'decoder.block.13.layer.0.SelfAttention.k.weight', 'decoder.block.22.layer.0.SelfAttention.q.weight', 'decoder.block.20.layer.0.SelfAttention.v.weight', 'decoder.block.6.layer.0.SelfAttention.q.weight', 'decoder.block.0.layer.1.EncDecAttention.k.weight', 'decoder.block.16.layer.0.SelfAttention.o.weight', 'decoder.block.5.layer.0.layer_norm.weight', 'decoder.block.0.layer.2.DenseReluDense.wo.weight', 'decoder.block.6.layer.0.SelfAttention.k.weight', 'decoder.block.11.layer.1.layer_norm.weight', 'decoder.block.2.layer.1.EncDecAttention.o.weight', 'decoder.block.1.layer.2.DenseReluDense.wo.weight', 'decoder.block.12.layer.0.SelfAttention.k.weight', 'decoder.block.4.layer.1.EncDecAttention.v.weight', 'decoder.block.13.layer.2.DenseReluDense.wi.weight', 'decoder.block.22.layer.2.DenseReluDense.wo.weight', 'decoder.block.8.layer.1.EncDecAttention.o.weight', 'decoder.block.11.layer.2.layer_norm.weight', 'decoder.block.1.layer.1.EncDecAttention.v.weight', 'decoder.block.14.layer.1.EncDecAttention.v.weight', 'decoder.block.22.layer.1.layer_norm.weight', 'decoder.block.17.layer.1.EncDecAttention.v.weight', 'decoder.block.22.layer.2.DenseReluDense.wi.weight', 'decoder.block.19.layer.0.SelfAttention.q.weight', 'decoder.block.8.layer.0.SelfAttention.v.weight', 'decoder.block.13.layer.1.EncDecAttention.o.weight', 'decoder.block.21.layer.2.DenseReluDense.wo.weight', 'decoder.block.15.layer.0.SelfAttention.k.weight', 'decoder.block.8.layer.1.EncDecAttention.v.weight']\n",
      "- This IS expected if you are initializing T5EncoderModel from the checkpoint of a model trained on another task or with another architecture (e.g. initializing a BertForSequenceClassification model from a BertForPreTraining model).\n",
      "- This IS NOT expected if you are initializing T5EncoderModel from the checkpoint of a model that you expect to be exactly identical (initializing a BertForSequenceClassification model from a BertForSequenceClassification model).\n",
      "Some weights of T5EncoderModel were not initialized from the model checkpoint at t5-3b and are newly initialized: ['encoder.embed_tokens.weight']\n",
      "You should probably TRAIN this model on a down-stream task to be able to use it for predictions and inference.\n"
     ]
    }
   ],
   "source": [
    "t5_tokenizer = T5Tokenizer.from_pretrained('t5-3b', cache_dir='/scratch/mbarlow6/.cache')\n",
    "model_t5_raw = T5EncoderModel.from_pretrained('t5-3b', cache_dir='/scratch/mbarlow6/.cache')"
   ]
  },
  {
   "cell_type": "code",
   "execution_count": 8,
   "metadata": {},
   "outputs": [],
   "source": [
    "t5_embeds = []\n",
    "with open('./t5/t53b.txt', 'r') as f:\n",
    "    for line in f:\n",
    "        t5_embeds.append([float(x) for x in line.strip().split()])\n",
    "model_t5 = dict(zip(vocab, t5_embeds))"
   ]
  },
  {
   "cell_type": "code",
   "execution_count": 9,
   "metadata": {},
   "outputs": [],
   "source": [
    "def t5_embed(text, tokenizer=t5_tokenizer, model=model_t5_raw, debug=False):\n",
    "    inputs = tokenizer(text, return_tensors='pt')\n",
    "    if debug:\n",
    "        print('Tokens Requested:')\n",
    "        print(tokenizer.batch_decode(inputs.input_ids[0]))\n",
    "    with torch.no_grad():\n",
    "        outputs = model(**inputs)\n",
    "    embeddings = torch.squeeze(outputs.last_hidden_state, dim=0)\n",
    "    return np.array(torch.mean(embeddings, dim=0))"
   ]
  },
  {
   "cell_type": "markdown",
   "metadata": {},
   "source": [
    "## Helper Functions"
   ]
  },
  {
   "cell_type": "code",
   "execution_count": 10,
   "metadata": {},
   "outputs": [],
   "source": [
    "def positive(words, model='opt'):\n",
    "    \"\"\"\n",
    "    Args:\n",
    "        words: iterable\n",
    "        model: 'opt' or 't5'\n",
    "    Returns:\n",
    "        Positive (summed vectors) of word embeddings of a given list of words from the specified model. Defaults to OPT-1.3b.\n",
    "    \"\"\"\n",
    "    if isinstance(words, str):\n",
    "        print(f\"You requested the positive of the string \\\"{words}\\\". Did you mean [\\\"{words}\\\"]?\")\n",
    "\n",
    "    out = 0\n",
    "    for token in words:\n",
    "        word = str(token)\n",
    "        if model.lower() == 'opt':\n",
    "            if word in model_opt:\n",
    "                ex = model_opt[word]\n",
    "            else:\n",
    "                ex = opt_embed(word)\n",
    "                model_opt[word] = ex\n",
    "        elif model.lower() == 't5':\n",
    "            if word in model_t5:\n",
    "                ex = model_t5[word]\n",
    "            else:\n",
    "                ex = t5_embed(word)\n",
    "                model_t5[word] = ex\n",
    "        else:\n",
    "            raise ValueError('Please provide either opt or t5 as a model choice.')\n",
    "\n",
    "        # construct positive\n",
    "        if isinstance(out, int):\n",
    "            out = np.array(ex).reshape(1, -1)\n",
    "        else:\n",
    "            out += np.array(ex).reshape(1, -1)\n",
    "            \n",
    "    return out if not isinstance(out, int) else np.array([])"
   ]
  },
  {
   "cell_type": "code",
   "execution_count": 11,
   "metadata": {},
   "outputs": [],
   "source": [
    "def sum_complexity(word, vec=False, model='opt'):\n",
    "    \"\"\"\n",
    "    Args:\n",
    "        word: iterable, string, or vector   -> embedding to be summed.\n",
    "        vec: bool                           -> True if word is already vector.\n",
    "        model: str                          -> 'opt' or 't5'\n",
    "    Returns:\n",
    "        Float score of the sum of the absolute value of each datapoint in the embedding.\n",
    "    \"\"\"\n",
    "    phrase = word\n",
    "    if not vec:\n",
    "        if isinstance(word, str):\n",
    "            phrase = positive([word], model=model)\n",
    "        else:\n",
    "            phrase = positive(word, model=model)\n",
    "    \n",
    "    modified = [abs(float(x)) for x in phrase[0]]\n",
    "    return sum(modified)\n",
    "    "
   ]
  },
  {
   "cell_type": "code",
   "execution_count": 12,
   "metadata": {},
   "outputs": [],
   "source": [
    "def simple_sum(word, vec=False, model='opt'):\n",
    "    \"\"\"\n",
    "    Args:\n",
    "        word: iterable, string, or vector   -> embedding to be summed.\n",
    "        vec: bool                           -> True if word is already vector.\n",
    "        model: str                          -> 'opt' or 't5'\n",
    "    Returns:\n",
    "        Float score of the simple sum of each datapoint in the embedding.\n",
    "    \"\"\"\n",
    "    phrase = word\n",
    "    if not vec:\n",
    "        if isinstance(word, str):\n",
    "            phrase = positive([word], model=model)\n",
    "        else:\n",
    "            phrase = positive(word, model=model)\n",
    "    \n",
    "    modified = [float(x) for x in phrase[0]]\n",
    "    return sum(modified)"
   ]
  },
  {
   "cell_type": "code",
   "execution_count": 13,
   "metadata": {},
   "outputs": [],
   "source": [
    "def similar_dims(w1, w2, n=10):\n",
    "    # performs dimension-wise comparison of two vectors of EQUAL size\n",
    "    # returns the top and bottom n scores.\n",
    "    sims = []\n",
    "    for i in range(w1.shape[1]):\n",
    "        x = w1[0][i]\n",
    "        y = w2[0][i]\n",
    "        sims.append((i, (x, y), abs(x-y)))\n",
    "    sims.sort(key=lambda x: x[2])\n",
    "    return sims[:n], sims[len(sims)-n:]"
   ]
  },
  {
   "cell_type": "code",
   "execution_count": 14,
   "metadata": {},
   "outputs": [],
   "source": [
    "def compare_mag(words):\n",
    "    \"\"\"\n",
    "    Wrapper for direct comparison using our magnitude tests\n",
    "    \"\"\"\n",
    "    if isinstance(words, str):\n",
    "        words = [words] \n",
    "    for word in words:\n",
    "        print(word)\n",
    "        print(f\"\\t\\tOPT\\t\\t\\tT5\")\n",
    "        print(f\"Simple Sum:\\t{simple_sum(word)}\\t{simple_sum(word, model='t5')}\")\n",
    "        print(f\"Absolute Sum:\\t{sum_complexity(word)}\\t{sum_complexity(word, model='t5')}\")\n",
    "        print('--------------------------------------------------------------\\n')\n",
    "        "
   ]
  },
  {
   "cell_type": "markdown",
   "metadata": {},
   "source": [
    "## Run Tests"
   ]
  },
  {
   "cell_type": "markdown",
   "metadata": {},
   "source": [
    "### American -> British English"
   ]
  },
  {
   "cell_type": "code",
   "execution_count": 15,
   "metadata": {},
   "outputs": [
    {
     "name": "stdout",
     "output_type": "stream",
     "text": [
      "color\n",
      "\t\tOPT\t\t\tT5\n",
      "Simple Sum:\t284.02749621123075\t3.678927972818201\n",
      "Absolute Sum:\t5562.393707044423\t70.74662710142002\n",
      "--------------------------------------------------------------\n",
      "\n",
      "colour\n",
      "\t\tOPT\t\t\tT5\n",
      "Simple Sum:\t308.2871670453706\t-0.36761591093900153\n",
      "Absolute Sum:\t4768.894553013634\t80.71271139074108\n",
      "--------------------------------------------------------------\n",
      "\n"
     ]
    }
   ],
   "source": [
    "compare_mag(['color', 'colour'])"
   ]
  },
  {
   "cell_type": "code",
   "execution_count": 16,
   "metadata": {},
   "outputs": [
    {
     "name": "stdout",
     "output_type": "stream",
     "text": [
      "flavor\n",
      "\t\tOPT\t\t\tT5\n",
      "Simple Sum:\t160.76129966787994\t2.269955031282734\n",
      "Absolute Sum:\t5418.792332975194\t91.1318816296407\n",
      "--------------------------------------------------------------\n",
      "\n",
      "flavour\n",
      "\t\tOPT\t\t\tT5\n",
      "Simple Sum:\t148.13053607178014\t-1.349151208874997\n",
      "Absolute Sum:\t5330.255936812019\t88.66672412593486\n",
      "--------------------------------------------------------------\n",
      "\n"
     ]
    }
   ],
   "source": [
    "compare_mag(['flavor', 'flavour'])"
   ]
  },
  {
   "cell_type": "code",
   "execution_count": 17,
   "metadata": {},
   "outputs": [
    {
     "name": "stdout",
     "output_type": "stream",
     "text": [
      "apologize\n",
      "\t\tOPT\t\t\tT5\n",
      "Simple Sum:\t84.4301058531499\t3.2894353851199996\n",
      "Absolute Sum:\t6734.123602127542\t80.29148396107993\n",
      "--------------------------------------------------------------\n",
      "\n",
      "apologise\n",
      "\t\tOPT\t\t\tT5\n",
      "Simple Sum:\t84.13149327412248\t1.635789451713208\n",
      "Absolute Sum:\t6244.0649045445025\t55.05776584363775\n",
      "--------------------------------------------------------------\n",
      "\n"
     ]
    }
   ],
   "source": [
    "compare_mag(['apologize', 'apologise'])"
   ]
  },
  {
   "cell_type": "code",
   "execution_count": 18,
   "metadata": {},
   "outputs": [
    {
     "name": "stdout",
     "output_type": "stream",
     "text": [
      "organize\n",
      "\t\tOPT\t\t\tT5\n",
      "Simple Sum:\t82.49063877673963\t3.969528951696\n",
      "Absolute Sum:\t6205.8189693342\t77.02497633288802\n",
      "--------------------------------------------------------------\n",
      "\n",
      "organise\n",
      "\t\tOPT\t\t\tT5\n",
      "Simple Sum:\t64.71635086648166\t1.001984341070056\n",
      "Absolute Sum:\t6438.818141026422\t62.0840687667951\n",
      "--------------------------------------------------------------\n",
      "\n"
     ]
    }
   ],
   "source": [
    "compare_mag(['organize', 'organise'])"
   ]
  },
  {
   "cell_type": "code",
   "execution_count": 19,
   "metadata": {},
   "outputs": [
    {
     "name": "stdout",
     "output_type": "stream",
     "text": [
      "analyze\n",
      "\t\tOPT\t\t\tT5\n",
      "Simple Sum:\t80.0578831769526\t6.393238744116388\n",
      "Absolute Sum:\t5908.258793760091\t81.6963346550474\n",
      "--------------------------------------------------------------\n",
      "\n",
      "analyse\n",
      "\t\tOPT\t\t\tT5\n",
      "Simple Sum:\t104.43218374710996\t3.0097302578199985\n",
      "Absolute Sum:\t5132.605164426451\t87.64035201638005\n",
      "--------------------------------------------------------------\n",
      "\n"
     ]
    }
   ],
   "source": [
    "compare_mag(['analyze', 'analyse'])"
   ]
  },
  {
   "cell_type": "code",
   "execution_count": 20,
   "metadata": {},
   "outputs": [
    {
     "name": "stdout",
     "output_type": "stream",
     "text": [
      "traveled\n",
      "\t\tOPT\t\t\tT5\n",
      "Simple Sum:\t76.83593633025885\t0.04200815415242687\n",
      "Absolute Sum:\t7096.610740151256\t81.78613996616332\n",
      "--------------------------------------------------------------\n",
      "\n",
      "travelled\n",
      "\t\tOPT\t\t\tT5\n",
      "Simple Sum:\t16.287957379070576\t-1.848773077421356\n",
      "Absolute Sum:\t6780.026951023785\t62.175669598102104\n",
      "--------------------------------------------------------------\n",
      "\n"
     ]
    }
   ],
   "source": [
    "compare_mag(['traveled', 'travelled'])"
   ]
  },
  {
   "cell_type": "code",
   "execution_count": 21,
   "metadata": {},
   "outputs": [
    {
     "name": "stdout",
     "output_type": "stream",
     "text": [
      "maneuver\n",
      "\t\tOPT\t\t\tT5\n",
      "Simple Sum:\t47.787557987699984\t0.9321273814421147\n",
      "Absolute Sum:\t5410.8783700208005\t82.72104415902868\n",
      "--------------------------------------------------------------\n",
      "\n",
      "manoeuvre\n",
      "\t\tOPT\t\t\tT5\n",
      "Simple Sum:\t39.39901455875952\t3.537563297402812\n",
      "Absolute Sum:\t5730.3853248175\t86.85822214439395\n",
      "--------------------------------------------------------------\n",
      "\n"
     ]
    }
   ],
   "source": [
    "compare_mag(['maneuver', 'manoeuvre'])"
   ]
  },
  {
   "cell_type": "code",
   "execution_count": 22,
   "metadata": {},
   "outputs": [
    {
     "name": "stdout",
     "output_type": "stream",
     "text": [
      "pediatric\n",
      "\t\tOPT\t\t\tT5\n",
      "Simple Sum:\t73.21871189028025\t3.5551710467552766\n",
      "Absolute Sum:\t5434.088061340153\t82.9792679118691\n",
      "--------------------------------------------------------------\n",
      "\n",
      "paediatric\n",
      "\t\tOPT\t\t\tT5\n",
      "Simple Sum:\t-7.852747055061627\t3.959652184974402\n",
      "Absolute Sum:\t5661.01143820741\t85.13007880980149\n",
      "--------------------------------------------------------------\n",
      "\n"
     ]
    }
   ],
   "source": [
    "compare_mag(['pediatric', 'paediatric'])"
   ]
  },
  {
   "cell_type": "code",
   "execution_count": 23,
   "metadata": {},
   "outputs": [
    {
     "name": "stdout",
     "output_type": "stream",
     "text": [
      "license\n",
      "\t\tOPT\t\t\tT5\n",
      "Simple Sum:\t316.82228943137557\t2.842006170936001\n",
      "Absolute Sum:\t5248.297191889368\t77.88505135560396\n",
      "--------------------------------------------------------------\n",
      "\n",
      "licence\n",
      "\t\tOPT\t\t\tT5\n",
      "Simple Sum:\t104.1187448483197\t-0.5241008356399997\n",
      "Absolute Sum:\t4920.341891010486\t78.83674501146011\n",
      "--------------------------------------------------------------\n",
      "\n"
     ]
    }
   ],
   "source": [
    "compare_mag(['license', 'licence'])"
   ]
  },
  {
   "cell_type": "code",
   "execution_count": 24,
   "metadata": {},
   "outputs": [
    {
     "name": "stdout",
     "output_type": "stream",
     "text": [
      "offence\n",
      "\t\tOPT\t\t\tT5\n",
      "Simple Sum:\t153.48302760533971\t0.8606812263100028\n",
      "Absolute Sum:\t5691.2485570848485\t71.65387475888984\n",
      "--------------------------------------------------------------\n",
      "\n",
      "offense\n",
      "\t\tOPT\t\t\tT5\n",
      "Simple Sum:\t146.73174711941033\t3.531222570054005\n",
      "Absolute Sum:\t6072.457654477984\t72.29150901410408\n",
      "--------------------------------------------------------------\n",
      "\n"
     ]
    }
   ],
   "source": [
    "compare_mag(['offence', 'offense'])"
   ]
  },
  {
   "cell_type": "code",
   "execution_count": 25,
   "metadata": {},
   "outputs": [
    {
     "name": "stdout",
     "output_type": "stream",
     "text": [
      "analog\n",
      "\t\tOPT\t\t\tT5\n",
      "Simple Sum:\t106.78049531392753\t4.552517701580655\n",
      "Absolute Sum:\t4874.807615524158\t81.31557533581508\n",
      "--------------------------------------------------------------\n",
      "\n",
      "analogue\n",
      "\t\tOPT\t\t\tT5\n",
      "Simple Sum:\t112.64309715107083\t2.033608461963013\n",
      "Absolute Sum:\t4816.571054432541\t81.29088704450987\n",
      "--------------------------------------------------------------\n",
      "\n"
     ]
    }
   ],
   "source": [
    "compare_mag(['analog', 'analogue'])"
   ]
  },
  {
   "cell_type": "code",
   "execution_count": 26,
   "metadata": {},
   "outputs": [
    {
     "name": "stdout",
     "output_type": "stream",
     "text": [
      "que\n",
      "\t\tOPT\t\t\tT5\n",
      "Simple Sum:\t291.5226693972945\t-0.30720983166247606\n",
      "Absolute Sum:\t4917.625567898154\t83.05059301969595\n",
      "--------------------------------------------------------------\n",
      "\n",
      "queue\n",
      "\t\tOPT\t\t\tT5\n",
      "Simple Sum:\t340.8035239838064\t0.37565266533056274\n",
      "Absolute Sum:\t4565.001674521714\t71.5927657810389\n",
      "--------------------------------------------------------------\n",
      "\n"
     ]
    }
   ],
   "source": [
    "compare_mag(['que', 'queue'])"
   ]
  },
  {
   "cell_type": "markdown",
   "metadata": {},
   "source": [
    "### Simple plurals"
   ]
  },
  {
   "cell_type": "code",
   "execution_count": 27,
   "metadata": {},
   "outputs": [
    {
     "name": "stdout",
     "output_type": "stream",
     "text": [
      "wife\n",
      "\t\tOPT\t\t\tT5\n",
      "Simple Sum:\t352.9197482741402\t3.2099152067969987\n",
      "Absolute Sum:\t5315.254698051018\t71.48278228784298\n",
      "--------------------------------------------------------------\n",
      "\n",
      "wives\n",
      "\t\tOPT\t\t\tT5\n",
      "Simple Sum:\t349.7733939048012\t2.490675632950002\n",
      "Absolute Sum:\t6013.0204818953\t67.94248278447002\n",
      "--------------------------------------------------------------\n",
      "\n"
     ]
    }
   ],
   "source": [
    "compare_mag(['wife', 'wives'])"
   ]
  },
  {
   "cell_type": "code",
   "execution_count": 28,
   "metadata": {},
   "outputs": [
    {
     "name": "stdout",
     "output_type": "stream",
     "text": [
      "dog\n",
      "\t\tOPT\t\t\tT5\n",
      "Simple Sum:\t317.18741463648865\t1.4517074287099982\n",
      "Absolute Sum:\t5219.776013053286\t75.50303368280998\n",
      "--------------------------------------------------------------\n",
      "\n",
      "dogs\n",
      "\t\tOPT\t\t\tT5\n",
      "Simple Sum:\t351.4699619412422\t2.175867033714894\n",
      "Absolute Sum:\t5766.636604458094\t80.60653716820525\n",
      "--------------------------------------------------------------\n",
      "\n"
     ]
    }
   ],
   "source": [
    "compare_mag(['dog', 'dogs'])"
   ]
  },
  {
   "cell_type": "code",
   "execution_count": 29,
   "metadata": {},
   "outputs": [
    {
     "name": "stdout",
     "output_type": "stream",
     "text": [
      "tooth\n",
      "\t\tOPT\t\t\tT5\n",
      "Simple Sum:\t136.2660272046997\t5.586464611310003\n",
      "Absolute Sum:\t5916.818762694925\t80.53869639706991\n",
      "--------------------------------------------------------------\n",
      "\n",
      "teeth\n",
      "\t\tOPT\t\t\tT5\n",
      "Simple Sum:\t131.59692942723632\t6.04756176500814\n",
      "Absolute Sum:\t5835.391147468239\t77.89675621310016\n",
      "--------------------------------------------------------------\n",
      "\n"
     ]
    }
   ],
   "source": [
    "compare_mag(['tooth', 'teeth'])"
   ]
  },
  {
   "cell_type": "code",
   "execution_count": 30,
   "metadata": {},
   "outputs": [
    {
     "name": "stdout",
     "output_type": "stream",
     "text": [
      "man\n",
      "\t\tOPT\t\t\tT5\n",
      "Simple Sum:\t337.9575437160964\t-0.02438261295299765\n",
      "Absolute Sum:\t4560.874884605697\t75.15917153300698\n",
      "--------------------------------------------------------------\n",
      "\n",
      "men\n",
      "\t\tOPT\t\t\tT5\n",
      "Simple Sum:\t350.4230886362493\t1.3921178152959328\n",
      "Absolute Sum:\t4849.990961801261\t65.31367816528655\n",
      "--------------------------------------------------------------\n",
      "\n"
     ]
    }
   ],
   "source": [
    "compare_mag(['man', 'men'])"
   ]
  },
  {
   "cell_type": "code",
   "execution_count": 31,
   "metadata": {},
   "outputs": [
    {
     "name": "stdout",
     "output_type": "stream",
     "text": [
      "potato\n",
      "\t\tOPT\t\t\tT5\n",
      "Simple Sum:\t64.03492702019982\t5.6283266042300095\n",
      "Absolute Sum:\t5585.827909953185\t79.78599001515003\n",
      "--------------------------------------------------------------\n",
      "\n",
      "potatoes\n",
      "\t\tOPT\t\t\tT5\n",
      "Simple Sum:\t74.99728013202548\t1.3456275260832626\n",
      "Absolute Sum:\t6114.515965376049\t79.54563826040248\n",
      "--------------------------------------------------------------\n",
      "\n"
     ]
    }
   ],
   "source": [
    "compare_mag(['potato', 'potatoes'])"
   ]
  },
  {
   "cell_type": "code",
   "execution_count": 32,
   "metadata": {},
   "outputs": [
    {
     "name": "stdout",
     "output_type": "stream",
     "text": [
      "mouse\n",
      "\t\tOPT\t\t\tT5\n",
      "Simple Sum:\t308.25568455636926\t4.008182686359796\n",
      "Absolute Sum:\t5297.888324492844\t76.77331981899576\n",
      "--------------------------------------------------------------\n",
      "\n",
      "mice\n",
      "\t\tOPT\t\t\tT5\n",
      "Simple Sum:\t170.4449357241392\t1.9463311054860242\n",
      "Absolute Sum:\t5303.439270243049\t79.76067198970122\n",
      "--------------------------------------------------------------\n",
      "\n"
     ]
    }
   ],
   "source": [
    "compare_mag(['mouse', 'mice'])"
   ]
  },
  {
   "cell_type": "code",
   "execution_count": 33,
   "metadata": {},
   "outputs": [
    {
     "name": "stdout",
     "output_type": "stream",
     "text": [
      "child\n",
      "\t\tOPT\t\t\tT5\n",
      "Simple Sum:\t306.13953408801046\t2.2092685180500005\n",
      "Absolute Sum:\t5538.062120305741\t70.42164477675006\n",
      "--------------------------------------------------------------\n",
      "\n",
      "children\n",
      "\t\tOPT\t\t\tT5\n",
      "Simple Sum:\t354.9066696125116\t1.9603387856999994\n",
      "Absolute Sum:\t5626.700549431012\t60.742690316960015\n",
      "--------------------------------------------------------------\n",
      "\n"
     ]
    }
   ],
   "source": [
    "compare_mag(['child', 'children'])"
   ]
  },
  {
   "cell_type": "code",
   "execution_count": 34,
   "metadata": {},
   "outputs": [
    {
     "name": "stdout",
     "output_type": "stream",
     "text": [
      "person\n",
      "\t\tOPT\t\t\tT5\n",
      "Simple Sum:\t314.2149102588799\t1.335161519619999\n",
      "Absolute Sum:\t5122.9394197871225\t54.808954973199995\n",
      "--------------------------------------------------------------\n",
      "\n",
      "persons\n",
      "\t\tOPT\t\t\tT5\n",
      "Simple Sum:\t69.06183918751776\t-0.9405621207552031\n",
      "Absolute Sum:\t6096.755954569206\t87.72749704623129\n",
      "--------------------------------------------------------------\n",
      "\n",
      "people\n",
      "\t\tOPT\t\t\tT5\n",
      "Simple Sum:\t335.7935029352963\t1.6479777115294982\n",
      "Absolute Sum:\t5634.969035942896\t47.6999503528295\n",
      "--------------------------------------------------------------\n",
      "\n"
     ]
    }
   ],
   "source": [
    "compare_mag(['person', 'persons', 'people'])"
   ]
  },
  {
   "cell_type": "code",
   "execution_count": 35,
   "metadata": {},
   "outputs": [
    {
     "name": "stdout",
     "output_type": "stream",
     "text": [
      "radius\n",
      "\t\tOPT\t\t\tT5\n",
      "Simple Sum:\t320.62547815591097\t3.6816566849374794\n",
      "Absolute Sum:\t5042.196805603802\t87.18898334286496\n",
      "--------------------------------------------------------------\n",
      "\n",
      "radii\n",
      "\t\tOPT\t\t\tT5\n",
      "Simple Sum:\t110.79604643583298\t0.10846690344624221\n",
      "Absolute Sum:\t4727.494894966483\t68.46984119503759\n",
      "--------------------------------------------------------------\n",
      "\n"
     ]
    }
   ],
   "source": [
    "compare_mag(['radius', 'radii'])"
   ]
  },
  {
   "cell_type": "code",
   "execution_count": 36,
   "metadata": {},
   "outputs": [
    {
     "name": "stdout",
     "output_type": "stream",
     "text": [
      "nucleus\n",
      "\t\tOPT\t\t\tT5\n",
      "Simple Sum:\t81.97950898387353\t9.317394081153907\n",
      "Absolute Sum:\t4498.999543369078\t94.05172843311448\n",
      "--------------------------------------------------------------\n",
      "\n",
      "nuclei\n",
      "\t\tOPT\t\t\tT5\n",
      "Simple Sum:\t62.058759771927726\t8.373262314125896\n",
      "Absolute Sum:\t5353.554880791053\t91.86660572700202\n",
      "--------------------------------------------------------------\n",
      "\n"
     ]
    }
   ],
   "source": [
    "compare_mag(['nucleus', 'nuclei'])"
   ]
  },
  {
   "cell_type": "code",
   "execution_count": 37,
   "metadata": {},
   "outputs": [
    {
     "name": "stdout",
     "output_type": "stream",
     "text": [
      "alumna\n",
      "\t\tOPT\t\t\tT5\n",
      "Simple Sum:\t35.37183149071643\t-0.6007070464620483\n",
      "Absolute Sum:\t5482.260316117608\t59.5615633796333\n",
      "--------------------------------------------------------------\n",
      "\n",
      "alumnae\n",
      "\t\tOPT\t\t\tT5\n",
      "Simple Sum:\t2.3414500430226326\t-1.0393320972007132\n",
      "Absolute Sum:\t6360.934125449508\t63.615699048407805\n",
      "--------------------------------------------------------------\n",
      "\n",
      "alumnus\n",
      "\t\tOPT\t\t\tT5\n",
      "Simple Sum:\t21.914447872928577\t-1.09685904185244\n",
      "Absolute Sum:\t6206.307869313838\t61.40292551125822\n",
      "--------------------------------------------------------------\n",
      "\n",
      "alumni\n",
      "\t\tOPT\t\t\tT5\n",
      "Simple Sum:\t106.63429469615221\t2.542709313100204\n",
      "Absolute Sum:\t5570.963578902185\t81.22423035465181\n",
      "--------------------------------------------------------------\n",
      "\n"
     ]
    }
   ],
   "source": [
    "compare_mag(['alumna', 'alumnae', 'alumnus', 'alumni'])"
   ]
  },
  {
   "cell_type": "code",
   "execution_count": 38,
   "metadata": {},
   "outputs": [
    {
     "name": "stdout",
     "output_type": "stream",
     "text": [
      "crisis\n",
      "\t\tOPT\t\t\tT5\n",
      "Simple Sum:\t134.29972921050037\t3.7444229248199994\n",
      "Absolute Sum:\t5006.8275523064885\t74.14165859276004\n",
      "--------------------------------------------------------------\n",
      "\n",
      "crises\n",
      "\t\tOPT\t\t\tT5\n",
      "Simple Sum:\t103.65266775339842\t1.4396686331820092\n",
      "Absolute Sum:\t6050.620089516044\t54.95354784004303\n",
      "--------------------------------------------------------------\n",
      "\n"
     ]
    }
   ],
   "source": [
    "compare_mag(['crisis', 'crises'])"
   ]
  },
  {
   "cell_type": "code",
   "execution_count": 39,
   "metadata": {},
   "outputs": [
    {
     "name": "stdout",
     "output_type": "stream",
     "text": [
      "thesis\n",
      "\t\tOPT\t\t\tT5\n",
      "Simple Sum:\t159.46576607211935\t5.860485378419996\n",
      "Absolute Sum:\t4494.805116135401\t84.59150061962004\n",
      "--------------------------------------------------------------\n",
      "\n",
      "theses\n",
      "\t\tOPT\t\t\tT5\n",
      "Simple Sum:\t132.70206608995795\t1.210016303753946\n",
      "Absolute Sum:\t5612.207344722003\t76.20478325890144\n",
      "--------------------------------------------------------------\n",
      "\n"
     ]
    }
   ],
   "source": [
    "compare_mag(['thesis', 'theses'])"
   ]
  },
  {
   "cell_type": "code",
   "execution_count": 40,
   "metadata": {},
   "outputs": [
    {
     "name": "stdout",
     "output_type": "stream",
     "text": [
      "phenomenon\n",
      "\t\tOPT\t\t\tT5\n",
      "Simple Sum:\t-0.051522275171009824\t1.6362359101767652\n",
      "Absolute Sum:\t6632.368065319286\t87.18831900012447\n",
      "--------------------------------------------------------------\n",
      "\n",
      "phenomena\n",
      "\t\tOPT\t\t\tT5\n",
      "Simple Sum:\t0.9066889215846459\t2.3911515647778288\n",
      "Absolute Sum:\t6320.593662376696\t90.55818265595008\n",
      "--------------------------------------------------------------\n",
      "\n"
     ]
    }
   ],
   "source": [
    "compare_mag(['phenomenon', 'phenomena'])"
   ]
  },
  {
   "cell_type": "code",
   "execution_count": 41,
   "metadata": {},
   "outputs": [
    {
     "name": "stdout",
     "output_type": "stream",
     "text": [
      "datum\n",
      "\t\tOPT\t\t\tT5\n",
      "Simple Sum:\t125.23364223912358\t1.4865362988930428\n",
      "Absolute Sum:\t4348.716451060027\t88.56829988630489\n",
      "--------------------------------------------------------------\n",
      "\n",
      "data\n",
      "\t\tOPT\t\t\tT5\n",
      "Simple Sum:\t335.8901131820401\t1.8557073578299983\n",
      "Absolute Sum:\t5341.810086429096\t65.53017413109004\n",
      "--------------------------------------------------------------\n",
      "\n"
     ]
    }
   ],
   "source": [
    "compare_mag(['datum', 'data'])"
   ]
  },
  {
   "cell_type": "code",
   "execution_count": 42,
   "metadata": {},
   "outputs": [
    {
     "name": "stdout",
     "output_type": "stream",
     "text": [
      "bacterium\n",
      "\t\tOPT\t\t\tT5\n",
      "Simple Sum:\t37.70757193741156\t-2.064069462940097\n",
      "Absolute Sum:\t5882.819221396057\t67.49540099408478\n",
      "--------------------------------------------------------------\n",
      "\n",
      "bacteria\n",
      "\t\tOPT\t\t\tT5\n",
      "Simple Sum:\t138.0673440480596\t3.0154716618699995\n",
      "Absolute Sum:\t5972.804402588456\t78.51342168415003\n",
      "--------------------------------------------------------------\n",
      "\n"
     ]
    }
   ],
   "source": [
    "compare_mag(['bacterium', 'bacteria'])"
   ]
  },
  {
   "cell_type": "code",
   "execution_count": 43,
   "metadata": {},
   "outputs": [
    {
     "name": "stdout",
     "output_type": "stream",
     "text": [
      "index\n",
      "\t\tOPT\t\t\tT5\n",
      "Simple Sum:\t349.4425496681178\t5.027137501717001\n",
      "Absolute Sum:\t5150.850585143679\t87.26000795448294\n",
      "--------------------------------------------------------------\n",
      "\n",
      "indicies\n",
      "\t\tOPT\t\t\tT5\n",
      "Simple Sum:\t27.59071893314831\t0.7541347524966113\n",
      "Absolute Sum:\t6035.135076975101\t86.84231742221164\n",
      "--------------------------------------------------------------\n",
      "\n"
     ]
    }
   ],
   "source": [
    "compare_mag(['index', 'indicies'])"
   ]
  },
  {
   "cell_type": "code",
   "execution_count": 44,
   "metadata": {},
   "outputs": [
    {
     "name": "stdout",
     "output_type": "stream",
     "text": [
      "appendix\n",
      "\t\tOPT\t\t\tT5\n",
      "Simple Sum:\t112.38159637525678\t10.650826580356807\n",
      "Absolute Sum:\t5119.090969827026\t86.39039552072063\n",
      "--------------------------------------------------------------\n",
      "\n",
      "appendices\n",
      "\t\tOPT\t\t\tT5\n",
      "Simple Sum:\t105.11740968748927\t5.9069801502046175\n",
      "Absolute Sum:\t6181.486154202372\t60.70206481887726\n",
      "--------------------------------------------------------------\n",
      "\n",
      "appendixes\n",
      "\t\tOPT\t\t\tT5\n",
      "Simple Sum:\t46.83365088677965\t2.4223258049496508\n",
      "Absolute Sum:\t6520.856200867449\t58.261959277751885\n",
      "--------------------------------------------------------------\n",
      "\n"
     ]
    }
   ],
   "source": [
    "compare_mag(['appendix', 'appendices', 'appendixes'])"
   ]
  },
  {
   "cell_type": "markdown",
   "metadata": {},
   "source": [
    "### Top 50, Bottom 50"
   ]
  },
  {
   "cell_type": "code",
   "execution_count": 45,
   "metadata": {},
   "outputs": [],
   "source": [
    "%matplotlib inline\n",
    "import matplotlib.pyplot as plt"
   ]
  },
  {
   "cell_type": "code",
   "execution_count": 46,
   "metadata": {},
   "outputs": [],
   "source": [
    "X = bottom_50 + top_50\n",
    "Y_opt = [sum_complexity(p) for p in X]\n",
    "Y_t5 = [sum_complexity(p, model='t5') for p in X]\n",
    "# red for bottom 50, blue for top\n",
    "colors = ['r' if x < 50 else 'b' for x in range(100)]"
   ]
  },
  {
   "cell_type": "code",
   "execution_count": 49,
   "metadata": {},
   "outputs": [
    {
     "data": {
      "image/png": "[encoded data removed]",
      "text/plain": [
       "<Figure size 1800x720 with 1 Axes>"
      ]
     },
     "metadata": {
      "needs_background": "light"
     },
     "output_type": "display_data"
    }
   ],
   "source": [
    "plt.figure(figsize=(25, 10))\n",
    "plt.title('Bottom 50 vs Top 50 most-used words (OP-13B)')\n",
    "plt.ylabel('Magnitude')\n",
    "plt.scatter(range(100), Y_opt, c=colors, marker='.')\n",
    "for i in range(0, 100):\n",
    "    if i < 48:\n",
    "        if i == 25:\n",
    "            plt.annotate(X[i], (i+0.25, Y_opt[i]-20))\n",
    "        elif Y_opt[i] > 6250:\n",
    "            plt.annotate(X[i], (i+0.25, Y_opt[i]+1))\n",
    "        elif Y_opt[i] < 4500:\n",
    "            plt.annotate(X[i], (i+0.25, Y_opt[i]+1))\n",
    "    elif i == 48:\n",
    "        plt.annotate(X[i], (i, Y_opt[i]+15))\n",
    "    elif i == 49:\n",
    "        plt.annotate(X[i], (i+0.25, Y_opt[i]-25))\n",
    "    else:\n",
    "        if Y_opt[i] < 4750:\n",
    "            plt.annotate(X[i], (i+0.25, Y_opt[i]+1))\n",
    "        elif Y_opt[i] > 5700:\n",
    "            plt.annotate(X[i], (i+0.25, Y_opt[i]+1))\n"
   ]
  },
  {
   "cell_type": "code",
   "execution_count": 48,
   "metadata": {},
   "outputs": [
    {
     "data": {
      "image/png": "[encoded data removed]",
      "text/plain": [
       "<Figure size 1800x1080 with 1 Axes>"
      ]
     },
     "metadata": {
      "needs_background": "light"
     },
     "output_type": "display_data"
    }
   ],
   "source": [
    "plt.figure(figsize=(25, 15))\n",
    "plt.title('Bottom 50 vs Top 50 most-used words (T5-3b)')\n",
    "plt.ylabel('Magnitude')\n",
    "plt.scatter(range(100), Y_t5, c=colors, marker='.')\n",
    "for i in range(0, 100):\n",
    "    plt.annotate(X[i], (i+0.25, Y_t5[i]))"
   ]
  }
 ],
 "metadata": {
  "interpreter": {
   "hash": "1a58f2b50cba0e3ef60ddaac0060fcc6c1f1afd3fbbcd44f07b68475f7ee4549"
  },
  "kernelspec": {
   "display_name": "Python 3.9.12 64-bit",
   "name": "python3"
  },
  "language_info": {
   "codemirror_mode": {
    "name": "ipython",
    "version": 3
   },
   "file_extension": ".py",
   "mimetype": "text/x-python",
   "name": "python",
   "nbconvert_exporter": "python",
   "pygments_lexer": "ipython3",
   "version": "3.9.12"
  },
  "orig_nbformat": 4
 },
 "nbformat": 4,
 "nbformat_minor": 2
}
