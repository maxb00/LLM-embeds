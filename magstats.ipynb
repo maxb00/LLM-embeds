{
 "cells": [
  {
   "attachments": {},
   "cell_type": "markdown",
   "metadata": {},
   "source": [
    "* Determine average vector magnitude of the supplied set\n",
    "* Divide that magnitude by the number of dimensions\n",
    "* Allow for arbitrary cutoff, at 1 or 10%\n",
    "* count the number of dimensions in a vector that is above/below the cutoff"
   ]
  },
  {
   "cell_type": "code",
   "execution_count": null,
   "metadata": {},
   "outputs": [],
   "source": [
    "import numpy as np\n",
    "\n",
    "# constants\n",
    "filename = u'./opt/1_3B.txt'\n",
    "cutoff = 0.1 \n",
    "\n",
    "# conditions\n",
    "assert cutoff > 0.0 and cutoff < 1.0, \"cutoff must be between 0 and 1\""
   ]
  },
  {
   "cell_type": "code",
   "execution_count": null,
   "metadata": {},
   "outputs": [],
   "source": [
    "# Determine average vector magnitude\n",
    "# we have magnitude for t5 and opt.\n",
    "totalmag = 0\n",
    "f = open(filename)\n",
    "n_embeds = len(f)\n",
    "n_dims = 0\n",
    "for line in f:\n",
    "    emb = [float(x) for x in line.strip().split()]\n",
    "    if n_dims == 0:\n",
    "        n_dims = len(emb)\n",
    "    mag = np.linalg.norm(emb)\n",
    "    totalmag += mag\n",
    "f.close()\n",
    "average_mag = totalmag / n_embeds\n",
    "average_dim = average_mag / n_dims\n",
    "threshold = average_dim * cutoff\n",
    "\n",
    "# defaults for later\n",
    "t = average_dim + threshold; b = average_dim - threshold\n",
    "\n",
    "print(\"Average magnitude: \", average_mag)\n",
    "print(\"Average dimension: \", average_dim)"
   ]
  },
  {
   "cell_type": "code",
   "execution_count": null,
   "metadata": {},
   "outputs": [],
   "source": [
    "# count the number of dimensions for some vector\n",
    "# that are outside the threshold\n",
    "def count_outside_cutoff(emb, high=t, low=b):\n",
    "    count = 0\n",
    "    for x in emb:\n",
    "        if x >= high or x <= low:\n",
    "            count += 1\n",
    "    return count"
   ]
  },
  {
   "cell_type": "markdown",
   "metadata": {},
   "source": [
    "## Memory heavy workspace\n",
    "\n",
    "I'm not including loading the model with Transformers in this section for the sake of brevity."
   ]
  },
  {
   "cell_type": "code",
   "execution_count": null,
   "metadata": {},
   "outputs": [],
   "source": [
    "# Make vector lookup dictionary\n",
    "vocab = []\n",
    "opt_embeds = []\n",
    "\n",
    "with open('./vocab/expanded_vocab.txt', 'r') as f:\n",
    "    for line in f:\n",
    "        vocab.append(line.strip())\n",
    "\n",
    "with open(u'./opt/1_3B.txt', 'r') as f:\n",
    "    for line in f:\n",
    "        opt_embeds.append([float(x) for x in line.strip().split()])\n",
    "model_opt = dict(zip(vocab, opt_embeds))"
   ]
  },
  {
   "cell_type": "code",
   "execution_count": null,
   "metadata": {},
   "outputs": [],
   "source": [
    "def positive(words):\n",
    "    if isinstance(words, str):\n",
    "        print(f\"You requested the positive of the string \\\"{words}\\\". Did you mean [\\\"{words}\\\"]?\")\n",
    "\n",
    "    out = 0\n",
    "    for token in words:\n",
    "        word = str(token)\n",
    "        if word in model_opt:\n",
    "            ex = model_opt[word]\n",
    "        else:\n",
    "            raise ValueError(f\"Word \\\"{word}\\\" not found in OPT-1.3b model. Please check spelling or try another model.\")\n",
    "\n",
    "        # construct positive\n",
    "        if isinstance(out, int):\n",
    "            out = np.array(ex).reshape(1, -1)\n",
    "        else:\n",
    "            out += np.array(ex).reshape(1, -1)\n",
    "            \n",
    "    return out if not isinstance(out, int) else np.array([])"
   ]
  },
  {
   "cell_type": "code",
   "execution_count": null,
   "metadata": {},
   "outputs": [],
   "source": [
    "def magnitudeCounts(words):\n",
    "    new = positive(words)\n",
    "    counts = count_outside_cutoff(new)\n",
    "    if len(words) > 1:\n",
    "        for word in words[:-1]:\n",
    "            print(f\"{word} +\", end=\" \")\n",
    "        print(f\"{words[-1]} -> {counts} dimensions outside cutoff\")\n",
    "    else:\n",
    "        print(f\"{words[0]} -> {counts} dimensions outside cutoff\")"
   ]
  },
  {
   "cell_type": "code",
   "execution_count": null,
   "metadata": {},
   "outputs": [],
   "source": [
    "magnitudeCounts(['unmarried', 'man'])"
   ]
  }
 ],
 "metadata": {
  "kernelspec": {
   "display_name": "aca",
   "language": "python",
   "name": "python3"
  },
  "language_info": {
   "name": "python",
   "version": "3.9.12"
  },
  "orig_nbformat": 4
 },
 "nbformat": 4,
 "nbformat_minor": 2
}
