{
 "cells": [
  {
   "cell_type": "markdown",
   "metadata": {},
   "source": [
    "# Revised Magnitude tests\n",
    "What exactly does magnitude correlate in word embeddings from Large Language Models? Can we find markers of complexity in differences between clearly defined groups of English language words?\n",
    "\n",
    "I will compare dialects (British-English, American-English), plurals (wife, wives), and Oxford Corpus frequencies as a part of attempting to investigate these issues."
   ]
  },
  {
   "cell_type": "code",
   "execution_count": 1,
   "metadata": {},
   "outputs": [],
   "source": [
    "import os\n",
    "import torch\n",
    "import openai\n",
    "import numpy as np\n",
    "\n",
    "import sentencepiece    # necessary for proper t5 init.\n",
    "from transformers import T5Tokenizer, T5EncoderModel, GPT2Tokenizer, OPTModel\n",
    "\n",
    "from sklearn.metrics.pairwise import cosine_similarity\n",
    "\n",
    "# api key set in conda env.\n",
    "openai.api_key = os.getenv('OPENAI_API_KEY')"
   ]
  },
  {
   "cell_type": "markdown",
   "metadata": {},
   "source": [
    "## Load Models"
   ]
  },
  {
   "cell_type": "markdown",
   "metadata": {},
   "source": [
    "### Vocab"
   ]
  },
  {
   "cell_type": "code",
   "execution_count": 2,
   "metadata": {},
   "outputs": [
    {
     "data": {
      "text/plain": [
       "5124"
      ]
     },
     "execution_count": 2,
     "metadata": {},
     "output_type": "execute_result"
    }
   ],
   "source": [
    "vocab = []\n",
    "with open('./vocab/expanded_vocab.txt', 'r') as f:\n",
    "    for line in f:\n",
    "        vocab.append(line.strip())\n",
    "\n",
    "len(vocab)"
   ]
  },
  {
   "cell_type": "code",
   "execution_count": 3,
   "metadata": {},
   "outputs": [],
   "source": [
    "top_50 = []\n",
    "with open('./vocab/top_50.txt', 'r') as f:\n",
    "    for line in f:\n",
    "        top_50.append(line.strip())\n",
    "\n",
    "bottom_50 = []\n",
    "with open('./vocab/bottom_50.txt', 'r') as f:\n",
    "    for line in f:\n",
    "        bottom_50.append(line.strip())"
   ]
  },
  {
   "cell_type": "markdown",
   "metadata": {},
   "source": [
    "### OPT-1.3b"
   ]
  },
  {
   "cell_type": "code",
   "execution_count": 4,
   "metadata": {},
   "outputs": [
    {
     "name": "stderr",
     "output_type": "stream",
     "text": [
      "Some weights of the model checkpoint at facebook/opt-1.3b were not used when initializing OPTModel: ['model.decoder.final_layer_norm.weight', 'model.decoder.final_layer_norm.bias', 'lm_head.weight']\n",
      "- This IS expected if you are initializing OPTModel from the checkpoint of a model trained on another task or with another architecture (e.g. initializing a BertForSequenceClassification model from a BertForPreTraining model).\n",
      "- This IS NOT expected if you are initializing OPTModel from the checkpoint of a model that you expect to be exactly identical (initializing a BertForSequenceClassification model from a BertForSequenceClassification model).\n"
     ]
    }
   ],
   "source": [
    "gpt2_tokenizer = GPT2Tokenizer.from_pretrained('facebook/opt-1.3b', cache_dir='/scratch/mbarlow6/.cache')\n",
    "model_opt_raw = OPTModel.from_pretrained('facebook/opt-1.3b', cache_dir='/scratch/mbarlow6/.cache')"
   ]
  },
  {
   "cell_type": "code",
   "execution_count": 5,
   "metadata": {},
   "outputs": [],
   "source": [
    "opt_embeds = []\n",
    "with open(u'./opt/1_3B.txt', 'r') as f:\n",
    "    for line in f:\n",
    "        opt_embeds.append([float(x) for x in line.strip().split()])\n",
    "model_opt = dict(zip(vocab, opt_embeds))"
   ]
  },
  {
   "cell_type": "code",
   "execution_count": 6,
   "metadata": {},
   "outputs": [],
   "source": [
    "def opt_embed(text, tokenizer=gpt2_tokenizer, model=model_opt_raw, debug=False):\n",
    "    inputs = tokenizer(text, return_tensors='pt')\n",
    "    if debug:\n",
    "        print('Tokens Requested:')\n",
    "        print(tokenizer.batch_decode(inputs.input_ids[0]))\n",
    "    with torch.no_grad():\n",
    "        outputs = model(**inputs)\n",
    "    embeddings = torch.squeeze(outputs.last_hidden_state, dim=0)\n",
    "    return np.array(torch.mean(embeddings[1:], dim=0))"
   ]
  },
  {
   "cell_type": "markdown",
   "metadata": {},
   "source": [
    "### T5"
   ]
  },
  {
   "cell_type": "code",
   "execution_count": 7,
   "metadata": {},
   "outputs": [
    {
     "name": "stderr",
     "output_type": "stream",
     "text": [
      "/home/mbarlow6/.local/lib/python3.9/site-packages/transformers/models/t5/tokenization_t5.py:163: FutureWarning: This tokenizer was incorrectly instantiated with a model max length of 512 which will be corrected in Transformers v5.\n",
      "For now, this behavior is kept to avoid breaking backwards compatibility when padding/encoding with `truncation is True`.\n",
      "- Be aware that you SHOULD NOT rely on t5-large automatically truncating your input to 512 when padding/encoding.\n",
      "- If you want to encode/pad to sequences longer than 512 you can either instantiate this tokenizer with `model_max_length` or pass `max_length` when encoding/padding.\n",
      "- To avoid this warning, please instantiate this tokenizer with `model_max_length` set to your preferred value.\n",
      "  warnings.warn(\n",
      "Some weights of the model checkpoint at t5-large were not used when initializing T5EncoderModel: ['decoder.block.7.layer.1.layer_norm.weight', 'decoder.block.9.layer.1.EncDecAttention.o.weight', 'decoder.block.1.layer.1.layer_norm.weight', 'decoder.block.0.layer.1.layer_norm.weight', 'decoder.block.22.layer.1.EncDecAttention.v.weight', 'decoder.block.11.layer.2.layer_norm.weight', 'decoder.block.17.layer.1.layer_norm.weight', 'decoder.block.21.layer.1.EncDecAttention.q.weight', 'decoder.block.23.layer.1.layer_norm.weight', 'decoder.block.10.layer.2.DenseReluDense.wi.weight', 'decoder.block.3.layer.0.SelfAttention.k.weight', 'decoder.block.8.layer.2.DenseReluDense.wo.weight', 'decoder.block.14.layer.1.EncDecAttention.v.weight', 'decoder.block.7.layer.0.SelfAttention.o.weight', 'decoder.block.19.layer.2.DenseReluDense.wi.weight', 'decoder.block.8.layer.0.SelfAttention.v.weight', 'decoder.block.7.layer.0.SelfAttention.v.weight', 'decoder.block.13.layer.0.SelfAttention.k.weight', 'decoder.block.6.layer.2.layer_norm.weight', 'decoder.block.20.layer.0.layer_norm.weight', 'decoder.block.7.layer.0.layer_norm.weight', 'decoder.block.19.layer.2.layer_norm.weight', 'decoder.block.7.layer.1.EncDecAttention.q.weight', 'decoder.block.3.layer.1.EncDecAttention.k.weight', 'decoder.block.18.layer.1.layer_norm.weight', 'decoder.block.13.layer.2.DenseReluDense.wi.weight', 'decoder.block.10.layer.1.EncDecAttention.v.weight', 'decoder.block.20.layer.0.SelfAttention.v.weight', 'decoder.block.11.layer.0.SelfAttention.v.weight', 'decoder.block.9.layer.0.SelfAttention.o.weight', 'decoder.block.22.layer.1.EncDecAttention.k.weight', 'decoder.block.20.layer.0.SelfAttention.q.weight', 'decoder.block.14.layer.1.EncDecAttention.o.weight', 'decoder.block.11.layer.1.EncDecAttention.q.weight', 'decoder.block.4.layer.1.EncDecAttention.q.weight', 'decoder.block.3.layer.1.EncDecAttention.o.weight', 'decoder.block.19.layer.0.SelfAttention.k.weight', 'decoder.block.22.layer.1.layer_norm.weight', 'decoder.block.12.layer.2.layer_norm.weight', 'decoder.block.15.layer.1.layer_norm.weight', 'decoder.block.15.layer.2.DenseReluDense.wo.weight', 'decoder.block.13.layer.0.SelfAttention.q.weight', 'decoder.block.3.layer.0.SelfAttention.o.weight', 'decoder.block.2.layer.1.EncDecAttention.k.weight', 'decoder.block.4.layer.2.DenseReluDense.wo.weight', 'decoder.block.1.layer.2.DenseReluDense.wo.weight', 'decoder.block.17.layer.0.SelfAttention.o.weight', 'decoder.block.8.layer.0.SelfAttention.k.weight', 'decoder.block.19.layer.1.EncDecAttention.k.weight', 'decoder.block.4.layer.1.EncDecAttention.o.weight', 'decoder.block.5.layer.1.EncDecAttention.k.weight', 'decoder.block.18.layer.2.layer_norm.weight', 'decoder.block.8.layer.0.SelfAttention.q.weight', 'decoder.block.11.layer.1.EncDecAttention.k.weight', 'decoder.block.4.layer.0.SelfAttention.v.weight', 'decoder.block.16.layer.2.layer_norm.weight', 'decoder.block.7.layer.1.EncDecAttention.o.weight', 'decoder.block.17.layer.0.layer_norm.weight', 'decoder.block.4.layer.1.EncDecAttention.v.weight', 'decoder.block.15.layer.1.EncDecAttention.o.weight', 'decoder.block.2.layer.0.SelfAttention.o.weight', 'decoder.block.5.layer.2.DenseReluDense.wo.weight', 'decoder.block.6.layer.0.layer_norm.weight', 'decoder.block.21.layer.0.SelfAttention.v.weight', 'decoder.block.22.layer.0.SelfAttention.v.weight', 'decoder.block.12.layer.1.EncDecAttention.q.weight', 'decoder.block.16.layer.1.EncDecAttention.o.weight', 'decoder.block.5.layer.0.SelfAttention.o.weight', 'decoder.block.18.layer.0.layer_norm.weight', 'decoder.block.4.layer.0.SelfAttention.q.weight', 'decoder.block.8.layer.2.DenseReluDense.wi.weight', 'decoder.block.5.layer.1.EncDecAttention.v.weight', 'decoder.block.19.layer.2.DenseReluDense.wo.weight', 'decoder.block.20.layer.0.SelfAttention.o.weight', 'decoder.block.19.layer.1.layer_norm.weight', 'decoder.block.23.layer.1.EncDecAttention.q.weight', 'decoder.block.20.layer.2.DenseReluDense.wi.weight', 'decoder.block.21.layer.2.DenseReluDense.wi.weight', 'decoder.block.10.layer.0.SelfAttention.q.weight', 'decoder.block.18.layer.0.SelfAttention.q.weight', 'decoder.block.12.layer.2.DenseReluDense.wi.weight', 'decoder.block.16.layer.0.SelfAttention.o.weight', 'decoder.block.5.layer.1.EncDecAttention.q.weight', 'decoder.block.17.layer.0.SelfAttention.q.weight', 'decoder.block.23.layer.1.EncDecAttention.o.weight', 'decoder.block.6.layer.1.EncDecAttention.o.weight', 'decoder.block.15.layer.2.layer_norm.weight', 'decoder.block.11.layer.0.layer_norm.weight', 'decoder.block.10.layer.0.layer_norm.weight', 'decoder.block.0.layer.0.SelfAttention.q.weight', 'decoder.block.2.layer.1.layer_norm.weight', 'decoder.block.22.layer.2.layer_norm.weight', 'decoder.block.20.layer.2.layer_norm.weight', 'decoder.block.15.layer.0.SelfAttention.q.weight', 'decoder.block.6.layer.0.SelfAttention.k.weight', 'decoder.block.9.layer.0.SelfAttention.v.weight', 'decoder.block.1.layer.1.EncDecAttention.v.weight', 'decoder.block.12.layer.0.layer_norm.weight', 'decoder.block.7.layer.2.DenseReluDense.wi.weight', 'decoder.block.3.layer.0.layer_norm.weight', 'decoder.block.11.layer.0.SelfAttention.k.weight', 'decoder.block.2.layer.0.layer_norm.weight', 'decoder.block.4.layer.2.layer_norm.weight', 'decoder.block.22.layer.1.EncDecAttention.q.weight', 'decoder.block.20.layer.1.EncDecAttention.o.weight', 'decoder.block.9.layer.0.SelfAttention.q.weight', 'decoder.block.22.layer.0.SelfAttention.k.weight', 'decoder.block.4.layer.0.SelfAttention.k.weight', 'decoder.block.16.layer.1.EncDecAttention.q.weight', 'decoder.block.12.layer.1.layer_norm.weight', 'decoder.block.13.layer.0.SelfAttention.o.weight', 'decoder.block.0.layer.1.EncDecAttention.k.weight', 'decoder.block.21.layer.2.DenseReluDense.wo.weight', 'decoder.block.14.layer.0.layer_norm.weight', 'decoder.block.15.layer.0.layer_norm.weight', 'decoder.block.16.layer.1.EncDecAttention.k.weight', 'decoder.block.10.layer.2.DenseReluDense.wo.weight', 'decoder.block.20.layer.0.SelfAttention.k.weight', 'decoder.block.3.layer.2.layer_norm.weight', 'decoder.block.9.layer.2.DenseReluDense.wo.weight', 'decoder.block.22.layer.1.EncDecAttention.o.weight', 'decoder.block.3.layer.1.EncDecAttention.q.weight', 'decoder.block.23.layer.0.SelfAttention.k.weight', 'decoder.block.18.layer.1.EncDecAttention.k.weight', 'decoder.block.13.layer.1.layer_norm.weight', 'decoder.block.21.layer.1.layer_norm.weight', 'decoder.block.9.layer.1.EncDecAttention.v.weight', 'decoder.block.6.layer.1.EncDecAttention.q.weight', 'decoder.block.10.layer.0.SelfAttention.k.weight', 'decoder.block.8.layer.1.EncDecAttention.k.weight', 'decoder.block.16.layer.0.SelfAttention.v.weight', 'decoder.block.9.layer.0.layer_norm.weight', 'decoder.block.15.layer.1.EncDecAttention.k.weight', 'decoder.block.5.layer.0.SelfAttention.q.weight', 'decoder.block.8.layer.1.EncDecAttention.v.weight', 'decoder.block.22.layer.2.DenseReluDense.wo.weight', 'decoder.block.6.layer.1.EncDecAttention.k.weight', 'decoder.block.16.layer.1.layer_norm.weight', 'decoder.block.1.layer.0.layer_norm.weight', 'decoder.block.21.layer.1.EncDecAttention.k.weight', 'decoder.block.14.layer.2.DenseReluDense.wo.weight', 'decoder.block.11.layer.1.EncDecAttention.v.weight', 'decoder.block.2.layer.0.SelfAttention.q.weight', 'decoder.block.18.layer.1.EncDecAttention.v.weight', 'decoder.block.16.layer.2.DenseReluDense.wi.weight', 'decoder.block.23.layer.2.DenseReluDense.wo.weight', 'decoder.block.15.layer.2.DenseReluDense.wi.weight', 'decoder.block.1.layer.2.layer_norm.weight', 'decoder.block.2.layer.2.DenseReluDense.wo.weight', 'decoder.block.1.layer.1.EncDecAttention.o.weight', 'decoder.block.0.layer.2.layer_norm.weight', 'decoder.block.5.layer.2.layer_norm.weight', 'decoder.block.17.layer.1.EncDecAttention.v.weight', 'decoder.block.6.layer.1.layer_norm.weight', 'decoder.block.10.layer.2.layer_norm.weight', 'decoder.block.23.layer.0.SelfAttention.v.weight', 'decoder.block.5.layer.1.EncDecAttention.o.weight', 'decoder.block.20.layer.1.layer_norm.weight', 'decoder.block.14.layer.0.SelfAttention.q.weight', 'decoder.block.7.layer.2.layer_norm.weight', 'decoder.block.3.layer.2.DenseReluDense.wo.weight', 'decoder.block.6.layer.2.DenseReluDense.wo.weight', 'decoder.block.8.layer.1.layer_norm.weight', 'decoder.block.14.layer.1.layer_norm.weight', 'decoder.block.16.layer.2.DenseReluDense.wo.weight', 'decoder.block.14.layer.0.SelfAttention.v.weight', 'decoder.block.16.layer.0.layer_norm.weight', 'decoder.block.11.layer.1.layer_norm.weight', 'decoder.block.20.layer.2.DenseReluDense.wo.weight', 'decoder.block.2.layer.1.EncDecAttention.q.weight', 'decoder.block.0.layer.0.SelfAttention.k.weight', 'decoder.block.7.layer.2.DenseReluDense.wo.weight', 'decoder.block.12.layer.0.SelfAttention.o.weight', 'decoder.block.4.layer.0.layer_norm.weight', 'decoder.block.19.layer.0.layer_norm.weight', 'decoder.block.23.layer.2.DenseReluDense.wi.weight', 'decoder.block.19.layer.0.SelfAttention.v.weight', 'decoder.block.5.layer.0.SelfAttention.k.weight', 'decoder.block.5.layer.0.layer_norm.weight', 'decoder.block.14.layer.0.SelfAttention.o.weight', 'decoder.block.19.layer.1.EncDecAttention.v.weight', 'decoder.block.1.layer.0.SelfAttention.v.weight', 'decoder.block.18.layer.2.DenseReluDense.wo.weight', 'decoder.block.20.layer.1.EncDecAttention.k.weight', 'decoder.block.14.layer.0.SelfAttention.k.weight', 'decoder.block.8.layer.0.SelfAttention.o.weight', 'decoder.block.0.layer.0.layer_norm.weight', 'decoder.block.10.layer.1.EncDecAttention.q.weight', 'decoder.block.8.layer.2.layer_norm.weight', 'decoder.block.22.layer.0.SelfAttention.q.weight', 'decoder.block.10.layer.1.EncDecAttention.k.weight', 'decoder.block.18.layer.0.SelfAttention.v.weight', 'decoder.final_layer_norm.weight', 'decoder.block.15.layer.0.SelfAttention.o.weight', 'decoder.block.20.layer.1.EncDecAttention.v.weight', 'decoder.block.4.layer.1.layer_norm.weight', 'decoder.block.9.layer.2.layer_norm.weight', 'decoder.block.0.layer.2.DenseReluDense.wi.weight', 'decoder.block.11.layer.2.DenseReluDense.wi.weight', 'decoder.block.19.layer.0.SelfAttention.o.weight', 'decoder.block.14.layer.2.layer_norm.weight', 'decoder.block.21.layer.0.SelfAttention.q.weight', 'decoder.block.15.layer.0.SelfAttention.v.weight', 'decoder.block.13.layer.2.DenseReluDense.wo.weight', 'decoder.block.3.layer.1.EncDecAttention.v.weight', 'decoder.block.4.layer.0.SelfAttention.o.weight', 'decoder.block.9.layer.1.EncDecAttention.k.weight', 'decoder.block.3.layer.0.SelfAttention.q.weight', 'decoder.block.3.layer.0.SelfAttention.v.weight', 'decoder.block.17.layer.2.layer_norm.weight', 'decoder.block.17.layer.1.EncDecAttention.q.weight', 'decoder.block.14.layer.1.EncDecAttention.q.weight', 'decoder.block.6.layer.0.SelfAttention.o.weight', 'decoder.block.13.layer.2.layer_norm.weight', 'decoder.block.10.layer.0.SelfAttention.v.weight', 'decoder.block.14.layer.2.DenseReluDense.wi.weight', 'decoder.block.21.layer.0.SelfAttention.o.weight', 'decoder.block.9.layer.2.DenseReluDense.wi.weight', 'decoder.block.20.layer.1.EncDecAttention.q.weight', 'decoder.block.12.layer.2.DenseReluDense.wo.weight', 'decoder.block.14.layer.1.EncDecAttention.k.weight', 'decoder.block.1.layer.1.EncDecAttention.q.weight', 'decoder.block.9.layer.1.EncDecAttention.q.weight', 'decoder.block.2.layer.0.SelfAttention.k.weight', 'decoder.block.8.layer.1.EncDecAttention.o.weight', 'decoder.block.23.layer.0.SelfAttention.o.weight', 'decoder.block.7.layer.0.SelfAttention.k.weight', 'decoder.block.13.layer.0.SelfAttention.v.weight', 'decoder.block.1.layer.2.DenseReluDense.wi.weight', 'decoder.block.13.layer.1.EncDecAttention.o.weight', 'decoder.block.16.layer.0.SelfAttention.q.weight', 'decoder.block.17.layer.2.DenseReluDense.wi.weight', 'decoder.block.17.layer.0.SelfAttention.v.weight', 'decoder.block.12.layer.1.EncDecAttention.o.weight', 'decoder.block.3.layer.2.DenseReluDense.wi.weight', 'decoder.block.2.layer.1.EncDecAttention.o.weight', 'decoder.block.6.layer.1.EncDecAttention.v.weight', 'decoder.block.10.layer.0.SelfAttention.o.weight', 'decoder.block.12.layer.1.EncDecAttention.k.weight', 'decoder.block.21.layer.2.layer_norm.weight', 'decoder.block.11.layer.0.SelfAttention.o.weight', 'decoder.block.19.layer.0.SelfAttention.q.weight', 'decoder.block.13.layer.1.EncDecAttention.v.weight', 'decoder.block.15.layer.1.EncDecAttention.q.weight', 'decoder.block.5.layer.1.layer_norm.weight', 'decoder.block.6.layer.0.SelfAttention.v.weight', 'decoder.block.8.layer.0.layer_norm.weight', 'decoder.block.0.layer.0.SelfAttention.v.weight', 'decoder.block.18.layer.2.DenseReluDense.wi.weight', 'decoder.block.12.layer.0.SelfAttention.k.weight', 'decoder.block.11.layer.0.SelfAttention.q.weight', 'decoder.block.13.layer.1.EncDecAttention.k.weight', 'decoder.block.23.layer.1.EncDecAttention.k.weight', 'decoder.block.13.layer.1.EncDecAttention.q.weight', 'decoder.block.15.layer.1.EncDecAttention.v.weight', 'decoder.block.9.layer.1.layer_norm.weight', 'decoder.block.12.layer.1.EncDecAttention.v.weight', 'decoder.block.11.layer.2.DenseReluDense.wo.weight', 'decoder.block.0.layer.0.SelfAttention.o.weight', 'decoder.block.0.layer.1.EncDecAttention.o.weight', 'decoder.block.0.layer.1.EncDecAttention.q.weight', 'decoder.block.0.layer.2.DenseReluDense.wo.weight', 'decoder.block.18.layer.1.EncDecAttention.q.weight', 'decoder.block.18.layer.1.EncDecAttention.o.weight', 'decoder.block.18.layer.0.SelfAttention.k.weight', 'decoder.block.12.layer.0.SelfAttention.q.weight', 'decoder.block.8.layer.1.EncDecAttention.q.weight', 'decoder.block.17.layer.1.EncDecAttention.o.weight', 'decoder.block.2.layer.0.SelfAttention.v.weight', 'decoder.block.0.layer.0.SelfAttention.relative_attention_bias.weight', 'decoder.block.1.layer.0.SelfAttention.q.weight', 'decoder.block.16.layer.0.SelfAttention.k.weight', 'decoder.block.5.layer.2.DenseReluDense.wi.weight', 'decoder.block.23.layer.1.EncDecAttention.v.weight', 'decoder.block.21.layer.1.EncDecAttention.v.weight', 'decoder.block.12.layer.0.SelfAttention.v.weight', 'decoder.block.10.layer.1.layer_norm.weight', 'decoder.block.2.layer.1.EncDecAttention.v.weight', 'decoder.block.0.layer.1.EncDecAttention.relative_attention_bias.weight', 'decoder.block.9.layer.0.SelfAttention.k.weight', 'decoder.block.22.layer.2.DenseReluDense.wi.weight', 'decoder.block.19.layer.1.EncDecAttention.q.weight', 'decoder.block.21.layer.1.EncDecAttention.o.weight', 'decoder.block.23.layer.0.SelfAttention.q.weight', 'decoder.block.7.layer.0.SelfAttention.q.weight', 'decoder.block.4.layer.1.EncDecAttention.k.weight', 'decoder.block.1.layer.1.EncDecAttention.k.weight', 'decoder.block.6.layer.2.DenseReluDense.wi.weight', 'decoder.block.11.layer.1.EncDecAttention.o.weight', 'decoder.block.0.layer.1.EncDecAttention.v.weight', 'decoder.block.23.layer.2.layer_norm.weight', 'decoder.block.2.layer.2.DenseReluDense.wi.weight', 'decoder.block.2.layer.2.layer_norm.weight', 'decoder.block.23.layer.0.layer_norm.weight', 'decoder.block.13.layer.0.layer_norm.weight', 'decoder.block.5.layer.0.SelfAttention.v.weight', 'decoder.block.3.layer.1.layer_norm.weight', 'decoder.block.10.layer.1.EncDecAttention.o.weight', 'decoder.block.17.layer.2.DenseReluDense.wo.weight', 'decoder.block.7.layer.1.EncDecAttention.v.weight', 'decoder.block.18.layer.0.SelfAttention.o.weight', 'decoder.block.1.layer.0.SelfAttention.o.weight', 'decoder.block.7.layer.1.EncDecAttention.k.weight', 'decoder.block.15.layer.0.SelfAttention.k.weight', 'decoder.block.21.layer.0.layer_norm.weight', 'decoder.block.17.layer.0.SelfAttention.k.weight', 'decoder.block.22.layer.0.layer_norm.weight', 'decoder.block.6.layer.0.SelfAttention.q.weight', 'decoder.block.1.layer.0.SelfAttention.k.weight', 'decoder.block.4.layer.2.DenseReluDense.wi.weight', 'decoder.block.19.layer.1.EncDecAttention.o.weight', 'decoder.block.21.layer.0.SelfAttention.k.weight', 'decoder.block.17.layer.1.EncDecAttention.k.weight', 'decoder.block.22.layer.0.SelfAttention.o.weight', 'decoder.block.16.layer.1.EncDecAttention.v.weight']\n",
      "- This IS expected if you are initializing T5EncoderModel from the checkpoint of a model trained on another task or with another architecture (e.g. initializing a BertForSequenceClassification model from a BertForPreTraining model).\n",
      "- This IS NOT expected if you are initializing T5EncoderModel from the checkpoint of a model that you expect to be exactly identical (initializing a BertForSequenceClassification model from a BertForSequenceClassification model).\n",
      "Some weights of T5EncoderModel were not initialized from the model checkpoint at t5-large and are newly initialized: ['encoder.embed_tokens.weight']\n",
      "You should probably TRAIN this model on a down-stream task to be able to use it for predictions and inference.\n"
     ]
    }
   ],
   "source": [
    "t5_tokenizer = T5Tokenizer.from_pretrained('t5-large', cache_dir='/scratch/mbarlow6/.cache')\n",
    "model_t5_raw = T5EncoderModel.from_pretrained('t5-large', cache_dir='/scratch/mbarlow6/.cache')"
   ]
  },
  {
   "cell_type": "code",
   "execution_count": 8,
   "metadata": {},
   "outputs": [],
   "source": [
    "t5_embeds = []\n",
    "with open('./t5/t5large.txt', 'r') as f:\n",
    "    for line in f:\n",
    "        t5_embeds.append([float(x) for x in line.strip().split()])\n",
    "model_t5 = dict(zip(vocab, t5_embeds))"
   ]
  },
  {
   "cell_type": "code",
   "execution_count": 9,
   "metadata": {},
   "outputs": [],
   "source": [
    "def t5_embed(text, tokenizer=t5_tokenizer, model=model_t5_raw, debug=False):\n",
    "    inputs = tokenizer(text, return_tensors='pt')\n",
    "    if debug:\n",
    "        print('Tokens Requested:')\n",
    "        print(tokenizer.batch_decode(inputs.input_ids[0]))\n",
    "    with torch.no_grad():\n",
    "        outputs = model(**inputs)\n",
    "    embeddings = torch.squeeze(outputs.last_hidden_state, dim=0)\n",
    "    return np.array(torch.mean(embeddings, dim=0))"
   ]
  },
  {
   "cell_type": "markdown",
   "metadata": {},
   "source": [
    "## Helper Functions"
   ]
  },
  {
   "cell_type": "code",
   "execution_count": 10,
   "metadata": {},
   "outputs": [],
   "source": [
    "def positive(words, model='opt'):\n",
    "    \"\"\"\n",
    "    Args:\n",
    "        words: iterable\n",
    "        model: 'opt' or 't5'\n",
    "    Returns:\n",
    "        Positive (summed vectors) of word embeddings of a given list of words from the specified model. Defaults to OPT-1.3b.\n",
    "    \"\"\"\n",
    "    if isinstance(words, str):\n",
    "        print(f\"You requested the positive of the string \\\"{words}\\\". Did you mean [\\\"{words}\\\"]?\")\n",
    "\n",
    "    out = 0\n",
    "    for token in words:\n",
    "        word = str(token)\n",
    "        if model.lower() == 'opt':\n",
    "            if word in model_opt:\n",
    "                ex = model_opt[word]\n",
    "            else:\n",
    "                ex = opt_embed(word)\n",
    "                model_opt[word] = ex\n",
    "        elif model.lower() == 't5':\n",
    "            if word in model_t5:\n",
    "                ex = model_t5[word]\n",
    "            else:\n",
    "                ex = t5_embed(word)\n",
    "                model_t5[word] = ex\n",
    "        else:\n",
    "            raise ValueError('Please provide either opt or t5 as a model choice.')\n",
    "\n",
    "        # construct positive\n",
    "        if isinstance(out, int):\n",
    "            out = np.array(ex).reshape(1, -1)\n",
    "        else:\n",
    "            out += np.array(ex).reshape(1, -1)\n",
    "            \n",
    "    return out if not isinstance(out, int) else np.array([])"
   ]
  },
  {
   "cell_type": "code",
   "execution_count": 11,
   "metadata": {},
   "outputs": [],
   "source": [
    "def sum_complexity(word, vec=False, model='opt'):\n",
    "    \"\"\"\n",
    "    Args:\n",
    "        word: iterable, string, or vector   -> embedding to be summed.\n",
    "        vec: bool                           -> True if word is already vector.\n",
    "        model: str                          -> 'opt' or 't5'\n",
    "    Returns:\n",
    "        Float score of the sum of the absolute value of each datapoint in the embedding.\n",
    "    \"\"\"\n",
    "    phrase = word\n",
    "    if not vec:\n",
    "        if isinstance(word, str):\n",
    "            phrase = positive([word], model=model)\n",
    "        else:\n",
    "            phrase = positive(word, model=model)\n",
    "    \n",
    "    modified = [abs(float(x)) for x in phrase[0]]\n",
    "    return sum(modified)\n",
    "    "
   ]
  },
  {
   "cell_type": "code",
   "execution_count": 12,
   "metadata": {},
   "outputs": [],
   "source": [
    "def simple_sum(word, vec=False, model='opt'):\n",
    "    \"\"\"\n",
    "    Args:\n",
    "        word: iterable, string, or vector   -> embedding to be summed.\n",
    "        vec: bool                           -> True if word is already vector.\n",
    "        model: str                          -> 'opt' or 't5'\n",
    "    Returns:\n",
    "        Float score of the simple sum of each datapoint in the embedding.\n",
    "    \"\"\"\n",
    "    phrase = word\n",
    "    if not vec:\n",
    "        if isinstance(word, str):\n",
    "            phrase = positive([word], model=model)\n",
    "        else:\n",
    "            phrase = positive(word, model=model)\n",
    "    \n",
    "    modified = [float(x) for x in phrase[0]]\n",
    "    return sum(modified)"
   ]
  },
  {
   "cell_type": "code",
   "execution_count": 13,
   "metadata": {},
   "outputs": [],
   "source": [
    "def similar_dims(w1, w2, n=10):\n",
    "    # performs dimension-wise comparison of two vectors of EQUAL size\n",
    "    # returns the top and bottom n scores.\n",
    "    sims = []\n",
    "    for i in range(w1.shape[1]):\n",
    "        x = w1[0][i]\n",
    "        y = w2[0][i]\n",
    "        sims.append((i, (x, y), abs(x-y)))\n",
    "    sims.sort(key=lambda x: x[2])\n",
    "    return sims[:n], sims[len(sims)-n:]"
   ]
  },
  {
   "cell_type": "code",
   "execution_count": 33,
   "metadata": {},
   "outputs": [],
   "source": [
    "def compare_mag(words):\n",
    "    \"\"\"\n",
    "    Wrapper for direct comparison using our magnitude tests\n",
    "    \"\"\"\n",
    "    if isinstance(words, str):\n",
    "        words = [words] \n",
    "    for word in words:\n",
    "        print(word)\n",
    "        print(f\"\\t\\tOPT\\t\\t\\tT5\")\n",
    "        print(f\"Simple Sum:\\t{simple_sum(word)}\\t{simple_sum(word, model='t5')}\")\n",
    "        print(f\"Absolute Sum:\\t{sum_complexity(word)}\\t{sum_complexity(word, model='t5')}\")\n",
    "        print('--------------------------------------------------------------\\n')\n",
    "        "
   ]
  },
  {
   "cell_type": "markdown",
   "metadata": {},
   "source": [
    "## Run Tests"
   ]
  },
  {
   "cell_type": "markdown",
   "metadata": {},
   "source": [
    "### American -> British English"
   ]
  },
  {
   "cell_type": "code",
   "execution_count": 34,
   "metadata": {},
   "outputs": [
    {
     "name": "stdout",
     "output_type": "stream",
     "text": [
      "color\n",
      "\t\tOPT\t\t\tT5\n",
      "Simple Sum:\t-24.199456945061684\t-4.4587583602406085\n",
      "Absolute Sum:\t3338.171229749918\t112.67953831842169\n",
      "--------------------------------------------------------------\n",
      "\n",
      "colour\n",
      "\t\tOPT\t\t\tT5\n",
      "Simple Sum:\t-22.662603956949933\t-0.01963315483000075\n",
      "Absolute Sum:\t3335.5094612935595\t102.75824530782984\n",
      "--------------------------------------------------------------\n",
      "\n"
     ]
    }
   ],
   "source": [
    "compare_mag(['color', 'colour'])"
   ]
  },
  {
   "cell_type": "code",
   "execution_count": 35,
   "metadata": {},
   "outputs": [
    {
     "name": "stdout",
     "output_type": "stream",
     "text": [
      "flavor\n",
      "\t\tOPT\t\t\tT5\n",
      "Simple Sum:\t-33.566729525104165\t-4.6213948333170265\n",
      "Absolute Sum:\t2553.7569937165827\t108.81001204042695\n",
      "--------------------------------------------------------------\n",
      "\n",
      "flavour\n",
      "\t\tOPT\t\t\tT5\n",
      "Simple Sum:\t-31.49281551646394\t0.8406818178199947\n",
      "Absolute Sum:\t2586.2954213954436\t93.8045069266\n",
      "--------------------------------------------------------------\n",
      "\n"
     ]
    }
   ],
   "source": [
    "compare_mag(['flavor', 'flavour'])"
   ]
  },
  {
   "cell_type": "code",
   "execution_count": 36,
   "metadata": {},
   "outputs": [
    {
     "name": "stdout",
     "output_type": "stream",
     "text": [
      "apologize\n",
      "\t\tOPT\t\t\tT5\n",
      "Simple Sum:\t-40.51664127009994\t1.131177949715998\n",
      "Absolute Sum:\t2996.214361116699\t120.69495491850398\n",
      "--------------------------------------------------------------\n",
      "\n",
      "apologise\n",
      "\t\tOPT\t\t\tT5\n",
      "Simple Sum:\t-36.695555716753006\t-2.0030089664433035\n",
      "Absolute Sum:\t2953.673937305808\t62.17443947496213\n",
      "--------------------------------------------------------------\n",
      "\n"
     ]
    }
   ],
   "source": [
    "compare_mag(['apologize', 'apologise'])"
   ]
  },
  {
   "cell_type": "code",
   "execution_count": 37,
   "metadata": {},
   "outputs": [
    {
     "name": "stdout",
     "output_type": "stream",
     "text": [
      "organize\n",
      "\t\tOPT\t\t\tT5\n",
      "Simple Sum:\t-48.99945621659992\t4.158821312727008\n",
      "Absolute Sum:\t2884.713562120402\t117.27759976698687\n",
      "--------------------------------------------------------------\n",
      "\n",
      "organise\n",
      "\t\tOPT\t\t\tT5\n",
      "Simple Sum:\t-43.70867237821221\t2.870686980546452\n",
      "Absolute Sum:\t2863.3498784564435\t93.91056684602518\n",
      "--------------------------------------------------------------\n",
      "\n"
     ]
    }
   ],
   "source": [
    "compare_mag(['organize', 'organise'])"
   ]
  },
  {
   "cell_type": "code",
   "execution_count": 38,
   "metadata": {},
   "outputs": [
    {
     "name": "stdout",
     "output_type": "stream",
     "text": [
      "analyze\n",
      "\t\tOPT\t\t\tT5\n",
      "Simple Sum:\t-37.04013854265213\t3.602266021305695\n",
      "Absolute Sum:\t2606.2433263212442\t119.0364482162986\n",
      "--------------------------------------------------------------\n",
      "\n",
      "analyse\n",
      "\t\tOPT\t\t\tT5\n",
      "Simple Sum:\t-30.81358285315035\t7.398864579660009\n",
      "Absolute Sum:\t2651.8206000805553\t113.73996778445986\n",
      "--------------------------------------------------------------\n",
      "\n"
     ]
    }
   ],
   "source": [
    "compare_mag(['analyze', 'analyse'])"
   ]
  },
  {
   "cell_type": "code",
   "execution_count": 39,
   "metadata": {},
   "outputs": [
    {
     "name": "stdout",
     "output_type": "stream",
     "text": [
      "traveled\n",
      "\t\tOPT\t\t\tT5\n",
      "Simple Sum:\t-23.362738974392414\t-0.5703872325830162\n",
      "Absolute Sum:\t3241.784173555672\t119.44546336261556\n",
      "--------------------------------------------------------------\n",
      "\n",
      "travelled\n",
      "\t\tOPT\t\t\tT5\n",
      "Simple Sum:\t-46.70141828793567\t2.2768816815223545\n",
      "Absolute Sum:\t2560.8489447111497\t96.65132482850458\n",
      "--------------------------------------------------------------\n",
      "\n"
     ]
    }
   ],
   "source": [
    "compare_mag(['traveled', 'travelled'])"
   ]
  },
  {
   "cell_type": "code",
   "execution_count": 40,
   "metadata": {},
   "outputs": [
    {
     "name": "stdout",
     "output_type": "stream",
     "text": [
      "maneuver\n",
      "\t\tOPT\t\t\tT5\n",
      "Simple Sum:\t-54.64741054340266\t6.0926067642867565\n",
      "Absolute Sum:\t2482.6454264416825\t117.19327442254871\n",
      "--------------------------------------------------------------\n",
      "\n",
      "manoeuvre\n",
      "\t\tOPT\t\t\tT5\n",
      "Simple Sum:\t-53.18171181541402\t2.052766346576391\n",
      "Absolute Sum:\t2764.0729985776125\t111.96922191584599\n",
      "--------------------------------------------------------------\n",
      "\n"
     ]
    }
   ],
   "source": [
    "compare_mag(['maneuver', 'manoeuvre'])"
   ]
  },
  {
   "cell_type": "code",
   "execution_count": 41,
   "metadata": {},
   "outputs": [
    {
     "name": "stdout",
     "output_type": "stream",
     "text": [
      "pediatric\n",
      "\t\tOPT\t\t\tT5\n",
      "Simple Sum:\t-42.69999048486352\t-5.073570327484049\n",
      "Absolute Sum:\t2622.081271354109\t132.95897158107255\n",
      "--------------------------------------------------------------\n",
      "\n",
      "paediatric\n",
      "\t\tOPT\t\t\tT5\n",
      "Simple Sum:\t-47.01118626992684\t5.113009257009253\n",
      "Absolute Sum:\t2472.705970560317\t87.10109771904536\n",
      "--------------------------------------------------------------\n",
      "\n"
     ]
    }
   ],
   "source": [
    "compare_mag(['pediatric', 'paediatric'])"
   ]
  },
  {
   "cell_type": "code",
   "execution_count": 42,
   "metadata": {},
   "outputs": [
    {
     "name": "stdout",
     "output_type": "stream",
     "text": [
      "license\n",
      "\t\tOPT\t\t\tT5\n",
      "Simple Sum:\t1.0644383036001321\t1.718059176934\n",
      "Absolute Sum:\t2643.3840186575994\t111.15593933449402\n",
      "--------------------------------------------------------------\n",
      "\n",
      "licence\n",
      "\t\tOPT\t\t\tT5\n",
      "Simple Sum:\t-31.660695239299926\t1.4107092056999957\n",
      "Absolute Sum:\t2489.0596044227\t74.78809330620007\n",
      "--------------------------------------------------------------\n",
      "\n"
     ]
    }
   ],
   "source": [
    "compare_mag(['license', 'licence'])"
   ]
  },
  {
   "cell_type": "code",
   "execution_count": 43,
   "metadata": {},
   "outputs": [
    {
     "name": "stdout",
     "output_type": "stream",
     "text": [
      "offence\n",
      "\t\tOPT\t\t\tT5\n",
      "Simple Sum:\t-44.55477309316994\t-2.84851692696\n",
      "Absolute Sum:\t2785.8218766989685\t119.99849496604003\n",
      "--------------------------------------------------------------\n",
      "\n",
      "offense\n",
      "\t\tOPT\t\t\tT5\n",
      "Simple Sum:\t-46.572157309499985\t2.984876640603298\n",
      "Absolute Sum:\t2836.9261814895026\t116.24461967640323\n",
      "--------------------------------------------------------------\n",
      "\n"
     ]
    }
   ],
   "source": [
    "compare_mag(['offence', 'offense'])"
   ]
  },
  {
   "cell_type": "code",
   "execution_count": 44,
   "metadata": {},
   "outputs": [
    {
     "name": "stdout",
     "output_type": "stream",
     "text": [
      "analog\n",
      "\t\tOPT\t\t\tT5\n",
      "Simple Sum:\t-76.26342221349478\t5.17538236733526\n",
      "Absolute Sum:\t3077.7593590542674\t118.81355411047116\n",
      "--------------------------------------------------------------\n",
      "\n",
      "analogue\n",
      "\t\tOPT\t\t\tT5\n",
      "Simple Sum:\t-77.15367209166288\t7.2690307177836075\n",
      "Absolute Sum:\t3010.94985435158\t93.6674624356674\n",
      "--------------------------------------------------------------\n",
      "\n"
     ]
    }
   ],
   "source": [
    "compare_mag(['analog', 'analogue'])"
   ]
  },
  {
   "cell_type": "code",
   "execution_count": 45,
   "metadata": {},
   "outputs": [
    {
     "name": "stdout",
     "output_type": "stream",
     "text": [
      "que\n",
      "\t\tOPT\t\t\tT5\n",
      "Simple Sum:\t-63.15537253394723\t5.086666775518097\n",
      "Absolute Sum:\t3409.3212755210698\t102.73635323217604\n",
      "--------------------------------------------------------------\n",
      "\n",
      "queue\n",
      "\t\tOPT\t\t\tT5\n",
      "Simple Sum:\t-39.35446859151125\t6.712363118305802\n",
      "Absolute Sum:\t3227.2890724763274\t101.52983825467527\n",
      "--------------------------------------------------------------\n",
      "\n"
     ]
    }
   ],
   "source": [
    "compare_mag(['que', 'queue'])"
   ]
  },
  {
   "cell_type": "markdown",
   "metadata": {},
   "source": [
    "### Simple plurals"
   ]
  },
  {
   "cell_type": "code",
   "execution_count": 46,
   "metadata": {},
   "outputs": [
    {
     "name": "stdout",
     "output_type": "stream",
     "text": [
      "wife\n",
      "\t\tOPT\t\t\tT5\n",
      "Simple Sum:\t5.2352011217000145\t2.3213250735199944\n",
      "Absolute Sum:\t3150.2644422225003\t120.24246082537995\n",
      "--------------------------------------------------------------\n",
      "\n",
      "wives\n",
      "\t\tOPT\t\t\tT5\n",
      "Simple Sum:\t-21.340956543600008\t3.684012345699996\n",
      "Absolute Sum:\t3327.6775250679984\t116.32066381949998\n",
      "--------------------------------------------------------------\n",
      "\n"
     ]
    }
   ],
   "source": [
    "compare_mag(['wife', 'wives'])"
   ]
  },
  {
   "cell_type": "code",
   "execution_count": 47,
   "metadata": {},
   "outputs": [
    {
     "name": "stdout",
     "output_type": "stream",
     "text": [
      "dog\n",
      "\t\tOPT\t\t\tT5\n",
      "Simple Sum:\t-47.83055397659989\t1.80793094441\n",
      "Absolute Sum:\t3529.7578563156044\t108.30607459486987\n",
      "--------------------------------------------------------------\n",
      "\n",
      "dogs\n",
      "\t\tOPT\t\t\tT5\n",
      "Simple Sum:\t-36.11718611419201\t4.376995865255594\n",
      "Absolute Sum:\t3880.2020541727543\t109.27549522183836\n",
      "--------------------------------------------------------------\n",
      "\n"
     ]
    }
   ],
   "source": [
    "compare_mag(['dog', 'dogs'])"
   ]
  },
  {
   "cell_type": "code",
   "execution_count": 48,
   "metadata": {},
   "outputs": [
    {
     "name": "stdout",
     "output_type": "stream",
     "text": [
      "tooth\n",
      "\t\tOPT\t\t\tT5\n",
      "Simple Sum:\t-44.58159053990502\t3.250715236772008\n",
      "Absolute Sum:\t2686.259456848905\t108.15213732227984\n",
      "--------------------------------------------------------------\n",
      "\n",
      "teeth\n",
      "\t\tOPT\t\t\tT5\n",
      "Simple Sum:\t-36.82766641676426\t-3.1485697282478213\n",
      "Absolute Sum:\t2646.0478629544377\t107.51873804815114\n",
      "--------------------------------------------------------------\n",
      "\n"
     ]
    }
   ],
   "source": [
    "compare_mag(['tooth', 'teeth'])"
   ]
  },
  {
   "cell_type": "code",
   "execution_count": 49,
   "metadata": {},
   "outputs": [
    {
     "name": "stdout",
     "output_type": "stream",
     "text": [
      "man\n",
      "\t\tOPT\t\t\tT5\n",
      "Simple Sum:\t-64.18488905360003\t7.315290854330005\n",
      "Absolute Sum:\t3869.585996808201\t111.46183970193012\n",
      "--------------------------------------------------------------\n",
      "\n",
      "men\n",
      "\t\tOPT\t\t\tT5\n",
      "Simple Sum:\t-45.58764132857323\t3.4247365419287235\n",
      "Absolute Sum:\t3482.785582691431\t114.117473177379\n",
      "--------------------------------------------------------------\n",
      "\n"
     ]
    }
   ],
   "source": [
    "compare_mag(['man', 'men'])"
   ]
  },
  {
   "cell_type": "code",
   "execution_count": 50,
   "metadata": {},
   "outputs": [
    {
     "name": "stdout",
     "output_type": "stream",
     "text": [
      "potato\n",
      "\t\tOPT\t\t\tT5\n",
      "Simple Sum:\t-53.60102776467992\t3.1250831901499976\n",
      "Absolute Sum:\t2793.429770354919\t81.86353979565003\n",
      "--------------------------------------------------------------\n",
      "\n",
      "potatoes\n",
      "\t\tOPT\t\t\tT5\n",
      "Simple Sum:\t-49.429247196763754\t3.0209543890086934\n",
      "Absolute Sum:\t2885.635482121259\t81.42252600681968\n",
      "--------------------------------------------------------------\n",
      "\n"
     ]
    }
   ],
   "source": [
    "compare_mag(['potato', 'potatoes'])"
   ]
  },
  {
   "cell_type": "code",
   "execution_count": 51,
   "metadata": {},
   "outputs": [
    {
     "name": "stdout",
     "output_type": "stream",
     "text": [
      "mouse\n",
      "\t\tOPT\t\t\tT5\n",
      "Simple Sum:\t-36.43019589219998\t1.0572799397300021\n",
      "Absolute Sum:\t3281.747351005595\t111.88106556272993\n",
      "--------------------------------------------------------------\n",
      "\n",
      "mice\n",
      "\t\tOPT\t\t\tT5\n",
      "Simple Sum:\t-40.35464038141072\t-3.4264453761279583\n",
      "Absolute Sum:\t2615.5033212844282\t123.51627621427178\n",
      "--------------------------------------------------------------\n",
      "\n"
     ]
    }
   ],
   "source": [
    "compare_mag(['mouse', 'mice'])"
   ]
  },
  {
   "cell_type": "code",
   "execution_count": 52,
   "metadata": {},
   "outputs": [
    {
     "name": "stdout",
     "output_type": "stream",
     "text": [
      "child\n",
      "\t\tOPT\t\t\tT5\n",
      "Simple Sum:\t-25.49193802570003\t3.2905308800700026\n",
      "Absolute Sum:\t3561.558583227292\t115.68451264926999\n",
      "--------------------------------------------------------------\n",
      "\n",
      "children\n",
      "\t\tOPT\t\t\tT5\n",
      "Simple Sum:\t6.657071084600037\t0.6771771735599993\n",
      "Absolute Sum:\t3853.2917559274088\t82.13431473671992\n",
      "--------------------------------------------------------------\n",
      "\n"
     ]
    }
   ],
   "source": [
    "compare_mag(['child', 'children'])"
   ]
  },
  {
   "cell_type": "code",
   "execution_count": 53,
   "metadata": {},
   "outputs": [
    {
     "name": "stdout",
     "output_type": "stream",
     "text": [
      "person\n",
      "\t\tOPT\t\t\tT5\n",
      "Simple Sum:\t-34.207746076799936\t0.9811889575899998\n",
      "Absolute Sum:\t3290.3820164716017\t107.8111367315703\n",
      "--------------------------------------------------------------\n",
      "\n",
      "persons\n",
      "\t\tOPT\t\t\tT5\n",
      "Simple Sum:\t-23.607827052474022\t1.4094845068175346\n",
      "Absolute Sum:\t2840.252486422658\t108.84014614089392\n",
      "--------------------------------------------------------------\n",
      "\n",
      "people\n",
      "\t\tOPT\t\t\tT5\n",
      "Simple Sum:\t-12.613742782499838\t3.2900320228299944\n",
      "Absolute Sum:\t3982.6095925145\t104.95029256862989\n",
      "--------------------------------------------------------------\n",
      "\n"
     ]
    }
   ],
   "source": [
    "compare_mag(['person', 'persons', 'people'])"
   ]
  },
  {
   "cell_type": "code",
   "execution_count": 54,
   "metadata": {},
   "outputs": [
    {
     "name": "stdout",
     "output_type": "stream",
     "text": [
      "radius\n",
      "\t\tOPT\t\t\tT5\n",
      "Simple Sum:\t-8.278491022996604\t5.3448941393289715\n",
      "Absolute Sum:\t2811.8561052503064\t116.98915689601563\n",
      "--------------------------------------------------------------\n",
      "\n",
      "radii\n",
      "\t\tOPT\t\t\tT5\n",
      "Simple Sum:\t-61.58824963495135\t-0.23381295055150986\n",
      "Absolute Sum:\t2652.7567174322903\t72.15897057577968\n",
      "--------------------------------------------------------------\n",
      "\n"
     ]
    }
   ],
   "source": [
    "compare_mag(['radius', 'radii'])"
   ]
  },
  {
   "cell_type": "code",
   "execution_count": 55,
   "metadata": {},
   "outputs": [
    {
     "name": "stdout",
     "output_type": "stream",
     "text": [
      "nucleus\n",
      "\t\tOPT\t\t\tT5\n",
      "Simple Sum:\t-20.07779145576933\t4.065568919526413\n",
      "Absolute Sum:\t2047.1543793298624\t91.8775368758943\n",
      "--------------------------------------------------------------\n",
      "\n",
      "nuclei\n",
      "\t\tOPT\t\t\tT5\n",
      "Simple Sum:\t-29.628134763799608\t3.789643097901717\n",
      "Absolute Sum:\t2384.7322511188686\t91.0936036661733\n",
      "--------------------------------------------------------------\n",
      "\n"
     ]
    }
   ],
   "source": [
    "compare_mag(['nucleus', 'nuclei'])"
   ]
  },
  {
   "cell_type": "code",
   "execution_count": 56,
   "metadata": {},
   "outputs": [
    {
     "name": "stdout",
     "output_type": "stream",
     "text": [
      "alumna\n",
      "\t\tOPT\t\t\tT5\n",
      "Simple Sum:\t-27.125099192431662\t3.5923549380822806\n",
      "Absolute Sum:\t2359.3590503762825\t82.85628350918705\n",
      "--------------------------------------------------------------\n",
      "\n",
      "alumnae\n",
      "\t\tOPT\t\t\tT5\n",
      "Simple Sum:\t-21.40043980255723\t3.5577552693284815\n",
      "Absolute Sum:\t2475.8629604168236\t60.907607917673886\n",
      "--------------------------------------------------------------\n",
      "\n",
      "alumnus\n",
      "\t\tOPT\t\t\tT5\n",
      "Simple Sum:\t-26.3416347593884\t2.398935267847264\n",
      "Absolute Sum:\t2610.168458725966\t68.47042606078321\n",
      "--------------------------------------------------------------\n",
      "\n",
      "alumni\n",
      "\t\tOPT\t\t\tT5\n",
      "Simple Sum:\t-28.768758110702038\t3.400506461970508\n",
      "Absolute Sum:\t2655.9378338456154\t117.26870074216276\n",
      "--------------------------------------------------------------\n",
      "\n"
     ]
    }
   ],
   "source": [
    "compare_mag(['alumna', 'alumnae', 'alumnus', 'alumni'])"
   ]
  },
  {
   "cell_type": "code",
   "execution_count": 57,
   "metadata": {},
   "outputs": [
    {
     "name": "stdout",
     "output_type": "stream",
     "text": [
      "crisis\n",
      "\t\tOPT\t\t\tT5\n",
      "Simple Sum:\t-25.404675625800024\t6.867345018429998\n",
      "Absolute Sum:\t2579.993355488804\t108.64256396909002\n",
      "--------------------------------------------------------------\n",
      "\n",
      "crises\n",
      "\t\tOPT\t\t\tT5\n",
      "Simple Sum:\t-28.352550711482763\t4.8642658572716755\n",
      "Absolute Sum:\t2781.3179795481265\t106.21351260926895\n",
      "--------------------------------------------------------------\n",
      "\n"
     ]
    }
   ],
   "source": [
    "compare_mag(['crisis', 'crises'])"
   ]
  },
  {
   "cell_type": "code",
   "execution_count": 58,
   "metadata": {},
   "outputs": [
    {
     "name": "stdout",
     "output_type": "stream",
     "text": [
      "thesis\n",
      "\t\tOPT\t\t\tT5\n",
      "Simple Sum:\t-38.45091626011496\t3.8622572925699994\n",
      "Absolute Sum:\t2783.1333081299103\t110.68575970296997\n",
      "--------------------------------------------------------------\n",
      "\n",
      "theses\n",
      "\t\tOPT\t\t\tT5\n",
      "Simple Sum:\t-59.284751288592815\t3.3588664353264903\n",
      "Absolute Sum:\t3059.0464252606034\t112.33099600310015\n",
      "--------------------------------------------------------------\n",
      "\n"
     ]
    }
   ],
   "source": [
    "compare_mag(['thesis', 'theses'])"
   ]
  },
  {
   "cell_type": "code",
   "execution_count": 59,
   "metadata": {},
   "outputs": [
    {
     "name": "stdout",
     "output_type": "stream",
     "text": [
      "phenomenon\n",
      "\t\tOPT\t\t\tT5\n",
      "Simple Sum:\t-30.24391970434226\t2.9884221760439686\n",
      "Absolute Sum:\t2341.13470050483\t111.42351524234982\n",
      "--------------------------------------------------------------\n",
      "\n",
      "phenomena\n",
      "\t\tOPT\t\t\tT5\n",
      "Simple Sum:\t-23.14230348158162\t3.5862355935387313\n",
      "Absolute Sum:\t2331.2056956771994\t112.380532420706\n",
      "--------------------------------------------------------------\n",
      "\n"
     ]
    }
   ],
   "source": [
    "compare_mag(['phenomenon', 'phenomena'])"
   ]
  },
  {
   "cell_type": "code",
   "execution_count": 60,
   "metadata": {},
   "outputs": [
    {
     "name": "stdout",
     "output_type": "stream",
     "text": [
      "datum\n",
      "\t\tOPT\t\t\tT5\n",
      "Simple Sum:\t-71.05764174833894\t6.543937445821939\n",
      "Absolute Sum:\t2672.8676150925457\t80.37114760113764\n",
      "--------------------------------------------------------------\n",
      "\n",
      "data\n",
      "\t\tOPT\t\t\tT5\n",
      "Simple Sum:\t-11.910216334939944\t4.078968599414705\n",
      "Absolute Sum:\t3412.7526203524567\t114.8487104715854\n",
      "--------------------------------------------------------------\n",
      "\n"
     ]
    }
   ],
   "source": [
    "compare_mag(['datum', 'data'])"
   ]
  },
  {
   "cell_type": "code",
   "execution_count": 61,
   "metadata": {},
   "outputs": [
    {
     "name": "stdout",
     "output_type": "stream",
     "text": [
      "bacterium\n",
      "\t\tOPT\t\t\tT5\n",
      "Simple Sum:\t-25.346489826450124\t-4.5271947521250695\n",
      "Absolute Sum:\t2271.9474991869647\t86.44896323629655\n",
      "--------------------------------------------------------------\n",
      "\n",
      "bacteria\n",
      "\t\tOPT\t\t\tT5\n",
      "Simple Sum:\t-9.363450242769947\t-0.6039788491399988\n",
      "Absolute Sum:\t2768.6694723976275\t120.52002842686001\n",
      "--------------------------------------------------------------\n",
      "\n"
     ]
    }
   ],
   "source": [
    "compare_mag(['bacterium', 'bacteria'])"
   ]
  },
  {
   "cell_type": "code",
   "execution_count": 62,
   "metadata": {},
   "outputs": [
    {
     "name": "stdout",
     "output_type": "stream",
     "text": [
      "index\n",
      "\t\tOPT\t\t\tT5\n",
      "Simple Sum:\t-13.098750994100023\t3.70770873129\n",
      "Absolute Sum:\t2599.4648161596997\t116.6417214493899\n",
      "--------------------------------------------------------------\n",
      "\n",
      "indicies\n",
      "\t\tOPT\t\t\tT5\n",
      "Simple Sum:\t-44.70684956526384\t-1.2387677724618698\n",
      "Absolute Sum:\t2340.2651076880284\t88.84923340844398\n",
      "--------------------------------------------------------------\n",
      "\n"
     ]
    }
   ],
   "source": [
    "compare_mag(['index', 'indicies'])"
   ]
  },
  {
   "cell_type": "code",
   "execution_count": 63,
   "metadata": {},
   "outputs": [
    {
     "name": "stdout",
     "output_type": "stream",
     "text": [
      "appendix\n",
      "\t\tOPT\t\t\tT5\n",
      "Simple Sum:\t-32.03058958798647\t2.0561420577578247\n",
      "Absolute Sum:\t2606.5007516369224\t89.41537901898846\n",
      "--------------------------------------------------------------\n",
      "\n",
      "appendices\n",
      "\t\tOPT\t\t\tT5\n",
      "Simple Sum:\t-27.090383108705282\t1.7053398891512188\n",
      "Absolute Sum:\t2682.1718791611493\t78.23491011918668\n",
      "--------------------------------------------------------------\n",
      "\n",
      "appendixes\n",
      "\t\tOPT\t\t\tT5\n",
      "Simple Sum:\t-27.89384383126162\t1.5155429612914304\n",
      "Absolute Sum:\t2674.339427118888\t67.41511475971674\n",
      "--------------------------------------------------------------\n",
      "\n"
     ]
    }
   ],
   "source": [
    "compare_mag(['appendix', 'appendices', 'appendixes'])"
   ]
  },
  {
   "cell_type": "markdown",
   "metadata": {},
   "source": [
    "### Top 50, Bottom 50"
   ]
  },
  {
   "cell_type": "code",
   "execution_count": 82,
   "metadata": {},
   "outputs": [],
   "source": [
    "%matplotlib inline\n",
    "import matplotlib.pyplot as plt"
   ]
  },
  {
   "cell_type": "code",
   "execution_count": 65,
   "metadata": {},
   "outputs": [],
   "source": [
    "X = bottom_50 + top_50\n",
    "Y_opt = [sum_complexity(p) for p in X]\n",
    "Y_t5 = [sum_complexity(p, model='t5') for p in X]\n",
    "# red for bottom 50, blue for top\n",
    "colors = ['r' if x < 50 else 'b' for x in range(100)]"
   ]
  },
  {
   "cell_type": "code",
   "execution_count": 117,
   "metadata": {},
   "outputs": [
    {
     "data": {
      "image/png": "[encoded data removed]",
      "text/plain": [
       "<Figure size 1800x720 with 1 Axes>"
      ]
     },
     "metadata": {
      "needs_background": "light"
     },
     "output_type": "display_data"
    }
   ],
   "source": [
    "plt.figure(figsize=(25, 10))\n",
    "plt.title('Bottom 50 vs Top 50 most-used words (OP-1.3B)')\n",
    "plt.ylabel('Magnitude')\n",
    "plt.scatter(range(100), Y_opt, c=colors, marker='.')\n",
    "for i in range(0, 100):\n",
    "    if i < 48:\n",
    "        if i == 25:\n",
    "            plt.annotate(X[i], (i+0.25, Y_opt[i]-20))\n",
    "        elif i == 39: continue\n",
    "        elif Y_opt[i] > 2700:\n",
    "            plt.annotate(X[i], (i+0.25, Y_opt[i]+1))\n",
    "        elif Y_opt[i] < 2000:\n",
    "            plt.annotate(X[i], (i+0.25, Y_opt[i]+1))\n",
    "    elif i == 48:\n",
    "        plt.annotate(X[i], (i, Y_opt[i]+15))\n",
    "    elif i == 49:\n",
    "        plt.annotate(X[i], (i+0.25, Y_opt[i]-25))\n",
    "    else:\n",
    "        if Y_opt[i] < 3300:\n",
    "            plt.annotate(X[i], (i+0.25, Y_opt[i]+1))\n",
    "        elif Y_opt[i] > 3800:\n",
    "            plt.annotate(X[i], (i+0.25, Y_opt[i]+1))\n"
   ]
  },
  {
   "cell_type": "code",
   "execution_count": 116,
   "metadata": {},
   "outputs": [
    {
     "data": {
      "image/png": "[encoded data removed]",
      "text/plain": [
       "<Figure size 1800x1080 with 1 Axes>"
      ]
     },
     "metadata": {
      "needs_background": "light"
     },
     "output_type": "display_data"
    }
   ],
   "source": [
    "plt.figure(figsize=(25, 15))\n",
    "plt.title('Bottom 50 vs Top 50 most-used words (T5-large)')\n",
    "plt.ylabel('Magnitude')\n",
    "plt.scatter(range(100), Y_t5, c=colors, marker='.')\n",
    "for i in range(0, 100):\n",
    "    plt.annotate(X[i], (i+0.25, Y_t5[i]))"
   ]
  }
 ],
 "metadata": {
  "interpreter": {
   "hash": "1a58f2b50cba0e3ef60ddaac0060fcc6c1f1afd3fbbcd44f07b68475f7ee4549"
  },
  "kernelspec": {
   "display_name": "Python 3.9.12 64-bit",
   "name": "python3"
  },
  "language_info": {
   "codemirror_mode": {
    "name": "ipython",
    "version": 3
   },
   "file_extension": ".py",
   "mimetype": "text/x-python",
   "name": "python",
   "nbconvert_exporter": "python",
   "pygments_lexer": "ipython3",
   "version": "3.9.12"
  },
  "orig_nbformat": 4
 },
 "nbformat": 4,
 "nbformat_minor": 2
}
