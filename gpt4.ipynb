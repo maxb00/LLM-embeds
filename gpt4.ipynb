{
 "cells": [
  {
   "cell_type": "markdown",
   "metadata": {},
   "source": [
    "# GPT Embeddings V2\n",
    "Running all of our important tests with the updated embeddings API."
   ]
  },
  {
   "cell_type": "code",
   "execution_count": 1,
   "metadata": {},
   "outputs": [],
   "source": [
    "import os\n",
    "import openai\n",
    "import inflect\n",
    "import numpy as np\n",
    "\n",
    "from sklearn.metrics.pairwise import cosine_similarity\n",
    "from tqdm.notebook import tqdm\n",
    "\n",
    "openai.api_key = os.getenv('OPENAI_API_KEY')\n",
    "en = inflect.engine()\n",
    "plural = en.plural"
   ]
  },
  {
   "cell_type": "code",
   "execution_count": 2,
   "metadata": {},
   "outputs": [],
   "source": [
    "vocab = [line.strip() for line in open('./vocab/expanded_vocab.txt', 'r')]\n",
    "gpt_embeds = [\n",
    "    [float(x) for x in line.strip().split()]\n",
    "    for line in open(f'./gpt/gpt_ada-v2.txt', 'r')\n",
    "]\n",
    "model_gpt = dict(zip(vocab, gpt_embeds))"
   ]
  },
  {
   "cell_type": "code",
   "execution_count": 12,
   "metadata": {},
   "outputs": [
    {
     "data": {
      "text/plain": [
       "43"
      ]
     },
     "execution_count": 12,
     "metadata": {},
     "output_type": "execute_result"
    }
   ],
   "source": [
    "#########################\n",
    "# Preprocess vocabulary #\n",
    "#########################\n",
    "\n",
    "helper = set(vocab)\n",
    "removed = set()\n",
    "for word in vocab:\n",
    "    # naively assume each word is singular, pluralize it\n",
    "    p = plural(word, count=2)\n",
    "    # then try and remove it from helper\n",
    "    comp = en.compare(word, p)\n",
    "    flag = str(comp)[0] != 'p' # this flags that word is a plural.\n",
    "    flag2 = p != word\n",
    "    if flag and flag2 and p in helper:\n",
    "        helper.remove(p)\n",
    "        removed.add(p)\n",
    "\n",
    "# a few words we want to keep:\n",
    "removed -= set(['her', 'his', 'media', 'offspring', 'our', 'some', 'them', 'us'])\n",
    "\n",
    "len(removed)"
   ]
  },
  {
   "cell_type": "code",
   "execution_count": 4,
   "metadata": {},
   "outputs": [],
   "source": [
    "# for getting new embeddings from OpenAI\n",
    "def gpt_embed(text, engine=f'text-embedding-ada-002'):\n",
    "    text = text.replace('\\n', ' ')\n",
    "    return openai.Embedding.create(input=[text], engine=engine)['data'][0]['embedding']"
   ]
  },
  {
   "cell_type": "code",
   "execution_count": 5,
   "metadata": {},
   "outputs": [],
   "source": [
    "def positive(words):\n",
    "    \"\"\"\n",
    "    Args:\n",
    "        words: iterable\n",
    "    Returns:\n",
    "        Positive (summed vectors) of word embeddings of a given list of words.\n",
    "    \"\"\"\n",
    "    if isinstance(words, str):\n",
    "        print(f\"You requested the positive of the string \\\"{words}\\\". Did you mean [\\\"{words}\\\"]?\")\n",
    "\n",
    "    out = 0\n",
    "    for token in words:\n",
    "        # convert token to string\n",
    "        word = str(token)        \n",
    "        # look for token in cached GPT embeds\n",
    "        if word in vocab:\n",
    "            ex = model_gpt[word]  # ex for \"extracted\"\n",
    "        # if not found, query API\n",
    "        else:\n",
    "            ex = gpt_embed(word)\n",
    "            model_gpt[word] = ex\n",
    "        \n",
    "\n",
    "        # construct positive\n",
    "        if isinstance(out, int):\n",
    "            out = np.array(ex).reshape(1, -1)\n",
    "        else:\n",
    "            out += np.array(ex).reshape(1, -1)\n",
    "            \n",
    "    return out if not isinstance(out, int) else np.array([])"
   ]
  },
  {
   "cell_type": "code",
   "execution_count": 6,
   "metadata": {},
   "outputs": [],
   "source": [
    "def define(word, top_n=10):\n",
    "    \"\"\"\n",
    "    Args:\n",
    "        word: str   -> Single word to define\n",
    "        top_n: int  -> Number of best solutions to return. Defualt 10.\n",
    "    Return:\n",
    "        N 2-word definition pairs, ordered by similarity to word.\n",
    "    \"\"\"\n",
    "    history = []\n",
    "    target = positive([word])\n",
    "    for i in tqdm(range(len(vocab))):\n",
    "        w1 = vocab[i]\n",
    "        if w1 == word:\n",
    "            continue\n",
    "        elif w1[:3] == word[:3]:\n",
    "            continue\n",
    "        elif w1 in removed:\n",
    "            continue\n",
    "        for j in range(i+1, len(vocab)):\n",
    "            w2 = vocab[j]\n",
    "            if w2 == word:\n",
    "                continue\n",
    "            elif word[:3] == w2[:3]:\n",
    "                continue\n",
    "            elif w1 in w2 or w2 in w1:\n",
    "                continue\n",
    "            elif w2 in removed:\n",
    "                continue\n",
    "            p = positive([w1, w2])\n",
    "            history.append(((w1, w2), cosine_similarity(target, p)[0][0]))\n",
    "    history.sort(key=lambda x: x[1], reverse=True)\n",
    "    return history[:top_n]\n"
   ]
  },
  {
   "cell_type": "markdown",
   "metadata": {},
   "source": [
    "## Testing"
   ]
  },
  {
   "cell_type": "code",
   "execution_count": 9,
   "metadata": {},
   "outputs": [
    {
     "data": {
      "application/vnd.jupyter.widget-view+json": {
       "model_id": "63f09a7dcf624b10a05639c976e6aae2",
       "version_major": 2,
       "version_minor": 0
      },
      "text/plain": [
       "  0%|          | 0/5124 [00:00<?, ?it/s]"
      ]
     },
     "metadata": {},
     "output_type": "display_data"
    },
    {
     "data": {
      "text/plain": [
       "[(('irrationals', 'morality'), 0.9356280789451286),\n",
       " (('irrationals', 'reasoning'), 0.9347081560220909),\n",
       " (('efficiency', 'irrationals'), 0.9293063899482503),\n",
       " (('fairness', 'irrationals'), 0.927988508275943),\n",
       " (('irrationals', 'philosophy'), 0.9277765042801438),\n",
       " (('honesty', 'irrationals'), 0.925764481603268),\n",
       " (('irrationals', 'validity'), 0.9256834967924541),\n",
       " (('consistency', 'irrationals'), 0.9249131123108179),\n",
       " (('irrationals', 'justification'), 0.9245339374402399),\n",
       " (('irrationals', 'reality'), 0.9242151602646193)]"
      ]
     },
     "execution_count": 9,
     "metadata": {},
     "output_type": "execute_result"
    }
   ],
   "source": [
    "define('rationality')"
   ]
  },
  {
   "cell_type": "code",
   "execution_count": 10,
   "metadata": {},
   "outputs": [
    {
     "data": {
      "application/vnd.jupyter.widget-view+json": {
       "model_id": "3523be00f06b40b8af893e7418535c64",
       "version_major": 2,
       "version_minor": 0
      },
      "text/plain": [
       "  0%|          | 0/5124 [00:00<?, ?it/s]"
      ]
     },
     "metadata": {},
     "output_type": "display_data"
    },
    {
     "data": {
      "text/plain": [
       "[(('irrationals', 'sensible'), 0.9277069902521244),\n",
       " (('irrationals', 'reasonable'), 0.925670801117447),\n",
       " (('irrationals', 'systematic'), 0.9244159000559811),\n",
       " (('intelligent', 'irrationals'), 0.9238142910927745),\n",
       " (('irrationals', 'strategic'), 0.9227910325796909),\n",
       " (('irrationals', 'reasonably'), 0.9224520029306923),\n",
       " (('irrationals', 'mathematical'), 0.9209309679891646),\n",
       " (('irrationals', 'sustainable'), 0.9199268929391387),\n",
       " (('irrationals', 'practical'), 0.9197665796309242),\n",
       " (('irrationals', 'realistic'), 0.9195964485472343)]"
      ]
     },
     "execution_count": 10,
     "metadata": {},
     "output_type": "execute_result"
    }
   ],
   "source": [
    "define('rational')"
   ]
  },
  {
   "cell_type": "code",
   "execution_count": 11,
   "metadata": {},
   "outputs": [
    {
     "data": {
      "application/vnd.jupyter.widget-view+json": {
       "model_id": "2071827f8a164e099836bd925e0380d8",
       "version_major": 2,
       "version_minor": 0
      },
      "text/plain": [
       "  0%|          | 0/5124 [00:00<?, ?it/s]"
      ]
     },
     "metadata": {},
     "output_type": "display_data"
    },
    {
     "data": {
      "text/plain": [
       "[(('independence', 'self-'), 0.9261642569480981),\n",
       " (('independence', 'sovereignty'), 0.9211605753016514),\n",
       " (('delegation', 'independence'), 0.9192051409308124),\n",
       " (('discretion', 'independence'), 0.9181560682023581),\n",
       " (('independence', 'regulation'), 0.9180977565700976),\n",
       " (('governance', 'independence'), 0.916559916775304),\n",
       " (('freedom', 'independence'), 0.9163873555172517),\n",
       " (('conscience', 'independence'), 0.9160796783428625),\n",
       " (('competence', 'independence'), 0.9156374336634822),\n",
       " (('independence', 'mobility'), 0.915520165103819)]"
      ]
     },
     "execution_count": 11,
     "metadata": {},
     "output_type": "execute_result"
    }
   ],
   "source": [
    "define('autonomy')"
   ]
  },
  {
   "cell_type": "code",
   "execution_count": 12,
   "metadata": {},
   "outputs": [
    {
     "data": {
      "application/vnd.jupyter.widget-view+json": {
       "model_id": "b59180ba35534218a979eda3e6327fc4",
       "version_major": 2,
       "version_minor": 0
      },
      "text/plain": [
       "  0%|          | 0/5124 [00:00<?, ?it/s]"
      ]
     },
     "metadata": {},
     "output_type": "display_data"
    },
    {
     "data": {
      "text/plain": [
       "[(('independent', 'self-'), 0.9281266729471076),\n",
       " (('independent', 'remote'), 0.9163785202828747),\n",
       " (('independent', 'voluntary'), 0.9157391088404636),\n",
       " (('independent', 'sovereignty'), 0.9146893504134022),\n",
       " (('independent', 'self'), 0.9131008346971894),\n",
       " (('arbitrary', 'independent'), 0.9120070176995727),\n",
       " (('independent', 'unconscious'), 0.9116049410651215),\n",
       " (('independent', 'tribal'), 0.9112728445005496),\n",
       " (('away', 'independent'), 0.9109394724222629),\n",
       " (('cognitive', 'independent'), 0.9109189768553579)]"
      ]
     },
     "execution_count": 12,
     "metadata": {},
     "output_type": "execute_result"
    }
   ],
   "source": [
    "define('autonomous')"
   ]
  },
  {
   "cell_type": "code",
   "execution_count": 13,
   "metadata": {},
   "outputs": [
    {
     "data": {
      "application/vnd.jupyter.widget-view+json": {
       "model_id": "a76648327b7b42ea898214bc7896ebe9",
       "version_major": 2,
       "version_minor": 0
      },
      "text/plain": [
       "  0%|          | 0/5124 [00:00<?, ?it/s]"
      ]
     },
     "metadata": {},
     "output_type": "display_data"
    },
    {
     "data": {
      "text/plain": [
       "[(('equality', 'jury'), 0.9422310302095009),\n",
       " (('equality', 'judge'), 0.9411374098278109),\n",
       " (('judge', 'peace'), 0.9395101971102455),\n",
       " (('injustice', 'jury'), 0.9383402584319603),\n",
       " (('jury', 'peace'), 0.936749065168257),\n",
       " (('injustice', 'judge'), 0.9364241110504062),\n",
       " (('crime', 'judge'), 0.9330705034720991),\n",
       " (('court', 'equality'), 0.9322483323672534),\n",
       " (('criminal', 'equality'), 0.9312407958228992),\n",
       " (('fairness', 'judge'), 0.9297664788515458)]"
      ]
     },
     "execution_count": 13,
     "metadata": {},
     "output_type": "execute_result"
    }
   ],
   "source": [
    "define('justice')"
   ]
  },
  {
   "cell_type": "code",
   "execution_count": 14,
   "metadata": {},
   "outputs": [
    {
     "data": {
      "application/vnd.jupyter.widget-view+json": {
       "model_id": "cdf712e9fba84fbda8bc14bcc721c99f",
       "version_major": 2,
       "version_minor": 0
      },
      "text/plain": [
       "  0%|          | 0/5124 [00:00<?, ?it/s]"
      ]
     },
     "metadata": {},
     "output_type": "display_data"
    },
    {
     "data": {
      "text/plain": [
       "[(('motivation', 'occurrence'), 0.8986991954265579),\n",
       " (('disease', 'motivation'), 0.8974797974009343),\n",
       " (('motive', 'occurrence'), 0.8970431879767996),\n",
       " (('disease', 'motive'), 0.8955580959048453),\n",
       " (('cancer', 'explanation'), 0.8951276047374175),\n",
       " (('circumstance', 'prevention'), 0.8950896114747728),\n",
       " (('disease', 'explanation'), 0.8948777670993283),\n",
       " (('correlation', 'motive'), 0.8947558823456806),\n",
       " (('occurrence', 'reason'), 0.8947392606371911),\n",
       " (('explanation', 'occurrence'), 0.8946736232608568)]"
      ]
     },
     "execution_count": 14,
     "metadata": {},
     "output_type": "execute_result"
    }
   ],
   "source": [
    "define('causation')"
   ]
  },
  {
   "cell_type": "code",
   "execution_count": 15,
   "metadata": {},
   "outputs": [
    {
     "data": {
      "application/vnd.jupyter.widget-view+json": {
       "model_id": "ccce62e5995a4c8989eb5ddbcc88aaa3",
       "version_major": 2,
       "version_minor": 0
      },
      "text/plain": [
       "  0%|          | 0/5124 [00:00<?, ?it/s]"
      ]
     },
     "metadata": {},
     "output_type": "display_data"
    },
    {
     "data": {
      "text/plain": [
       "[(('only', 'simply'), 0.9274664875331583),\n",
       " (('even', 'simply'), 0.9270587243298476),\n",
       " (('good', 'simply'), 0.9268796708939637),\n",
       " (('nothing', 'simply'), 0.9255343448414189),\n",
       " (('simply', 'some'), 0.9250766994479637),\n",
       " (('only', 'simple'), 0.9248864916142681),\n",
       " (('easy', 'only'), 0.9246930289802775),\n",
       " (('ordinary', 'simply'), 0.9235510079646936),\n",
       " (('normal', 'simply'), 0.923546047033715),\n",
       " (('perfect', 'simply'), 0.9223880224690186)]"
      ]
     },
     "execution_count": 15,
     "metadata": {},
     "output_type": "execute_result"
    }
   ],
   "source": [
    "define('just')"
   ]
  },
  {
   "cell_type": "code",
   "execution_count": 16,
   "metadata": {},
   "outputs": [
    {
     "data": {
      "application/vnd.jupyter.widget-view+json": {
       "model_id": "ad271b95153d4604804b0365d258aa24",
       "version_major": 2,
       "version_minor": 0
      },
      "text/plain": [
       "  0%|          | 0/5124 [00:00<?, ?it/s]"
      ]
     },
     "metadata": {},
     "output_type": "display_data"
    },
    {
     "data": {
      "text/plain": [
       "[(('effect', 'reason'), 0.9219296345968602),\n",
       " (('reason', 'trigger'), 0.9215008065690067),\n",
       " (('damage', 'reason'), 0.9197229554925813),\n",
       " (('prevent', 'reason'), 0.9191542232359007),\n",
       " (('reason', 'source'), 0.9185624692516703),\n",
       " (('reason', 'tribute'), 0.9184873438150174),\n",
       " (('incident', 'reason'), 0.917983998276873),\n",
       " (('produce', 'reason'), 0.9176565121928169),\n",
       " (('impact', 'reason'), 0.9173089755579764),\n",
       " (('fault', 'reason'), 0.9166898759223372)]"
      ]
     },
     "execution_count": 16,
     "metadata": {},
     "output_type": "execute_result"
    }
   ],
   "source": [
    "define('cause')"
   ]
  },
  {
   "cell_type": "code",
   "execution_count": 17,
   "metadata": {},
   "outputs": [
    {
     "data": {
      "application/vnd.jupyter.widget-view+json": {
       "model_id": "eac7f6a1c083469b99eb98dbcedaa1ac",
       "version_major": 2,
       "version_minor": 0
      },
      "text/plain": [
       "  0%|          | 0/5124 [00:00<?, ?it/s]"
      ]
     },
     "metadata": {},
     "output_type": "display_data"
    },
    {
     "data": {
      "text/plain": [
       "[(('cause', 'injustice'), 0.9056383087406858),\n",
       " (('cause', 'fairness'), 0.901420886407276),\n",
       " (('injustice', 'reason'), 0.9011520244498251),\n",
       " (('casual', 'injustice'), 0.8997933653985094),\n",
       " (('injustice', 'reasonable'), 0.8989476850934922),\n",
       " (('injustice', 'reasonably'), 0.8980958593600347),\n",
       " (('injustice', 'motive'), 0.8971636644035834),\n",
       " (('injustice', 'warrant'), 0.8949766946193844),\n",
       " (('circumstance', 'injustice'), 0.8949603813129504),\n",
       " (('cause', 'unreasonable'), 0.894480445436561)]"
      ]
     },
     "execution_count": 17,
     "metadata": {},
     "output_type": "execute_result"
    }
   ],
   "source": [
    "define('just cause')"
   ]
  },
  {
   "cell_type": "code",
   "execution_count": 18,
   "metadata": {},
   "outputs": [
    {
     "data": {
      "application/vnd.jupyter.widget-view+json": {
       "model_id": "805a72374fc24e83a9f1b57a89ede49e",
       "version_major": 2,
       "version_minor": 0
      },
      "text/plain": [
       "  0%|          | 0/5124 [00:00<?, ?it/s]"
      ]
     },
     "metadata": {},
     "output_type": "display_data"
    },
    {
     "data": {
      "text/plain": [
       "[(('affection', 'living'), 0.9239838467402999),\n",
       " (('affection', 'live'), 0.9233833542601877),\n",
       " (('beloved', 'living'), 0.9190889563061209),\n",
       " (('living', 'respect'), 0.9185684491491138),\n",
       " (('affection', 'life'), 0.916569080213714),\n",
       " (('live', 'respect'), 0.9162428553965376),\n",
       " (('beloved', 'life'), 0.9161431498238164),\n",
       " (('joy', 'living'), 0.9157949778569248),\n",
       " (('admiration', 'living'), 0.9149304124704185),\n",
       " (('beloved', 'respect'), 0.9143316220798012)]"
      ]
     },
     "execution_count": 18,
     "metadata": {},
     "output_type": "execute_result"
    }
   ],
   "source": [
    "define('love')"
   ]
  },
  {
   "cell_type": "code",
   "execution_count": 19,
   "metadata": {},
   "outputs": [
    {
     "data": {
      "application/vnd.jupyter.widget-view+json": {
       "model_id": "006c041dfc0c47098e2e542d4eeb2a91",
       "version_major": 2,
       "version_minor": 0
      },
      "text/plain": [
       "  0%|          | 0/5124 [00:00<?, ?it/s]"
      ]
     },
     "metadata": {},
     "output_type": "display_data"
    },
    {
     "data": {
      "text/plain": [
       "[(('instance', 'presence'), 0.929750479805159),\n",
       " (('fact', 'presence'), 0.9247571553141666),\n",
       " (('actually', 'presence'), 0.9235846714627041),\n",
       " (('presence', 'yet'), 0.9226900626079113),\n",
       " (('life', 'presence'), 0.9221891620922437),\n",
       " (('actual', 'presence'), 0.9221707043646821),\n",
       " (('presence', 'there'), 0.9215917808979428),\n",
       " (('economic', 'presence'), 0.9215434963252221),\n",
       " (('nature', 'presence'), 0.9212857275265357),\n",
       " (('alive', 'presence'), 0.9209193778354021)]"
      ]
     },
     "execution_count": 19,
     "metadata": {},
     "output_type": "execute_result"
    }
   ],
   "source": [
    "define('existence')"
   ]
  },
  {
   "cell_type": "code",
   "execution_count": 7,
   "metadata": {},
   "outputs": [
    {
     "data": {
      "application/vnd.jupyter.widget-view+json": {
       "model_id": "470553554c974ccf9bb00609601bb528",
       "version_major": 2,
       "version_minor": 0
      },
      "text/plain": [
       "  0%|          | 0/5124 [00:00<?, ?it/s]"
      ]
     },
     "metadata": {},
     "output_type": "display_data"
    },
    {
     "data": {
      "text/plain": [
       "[(('fact', 'false'), 0.9316007275804823),\n",
       " (('fact', 'honesty'), 0.9309292507175757),\n",
       " (('fact', 'honest'), 0.9295323643322959),\n",
       " (('fact', 'lie'), 0.9294164592354611),\n",
       " (('fact', 'right'), 0.928634696043201),\n",
       " (('fact', 'reality'), 0.927406354004658),\n",
       " (('accuracy', 'fact'), 0.9251109629372368),\n",
       " (('false', 'reality'), 0.9249732381246161),\n",
       " (('belief', 'false'), 0.9245865301411955),\n",
       " (('fact', 'honestly'), 0.9242958590828718)]"
      ]
     },
     "execution_count": 7,
     "metadata": {},
     "output_type": "execute_result"
    }
   ],
   "source": [
    "define('truth')"
   ]
  },
  {
   "cell_type": "code",
   "execution_count": 8,
   "metadata": {},
   "outputs": [
    {
     "data": {
      "application/vnd.jupyter.widget-view+json": {
       "model_id": "9d134f1e8ba3417c91fccd0737207546",
       "version_major": 2,
       "version_minor": 0
      },
      "text/plain": [
       "  0%|          | 0/5124 [00:00<?, ?it/s]"
      ]
     },
     "metadata": {},
     "output_type": "display_data"
    },
    {
     "data": {
      "text/plain": [
       "[(('honesty', 'injustice'), 0.9255450254208996),\n",
       " (('equality', 'honesty'), 0.9227899468232533),\n",
       " (('injustice', 'reliability'), 0.9214589545688299),\n",
       " (('injustice', 'transparency'), 0.921393576341635),\n",
       " (('consistency', 'injustice'), 0.9206956216744729),\n",
       " (('integrity', 'unfair'), 0.9201203260811956),\n",
       " (('honesty', 'inequality'), 0.9198550923682015),\n",
       " (('injustice', 'integrity'), 0.9192024187226966),\n",
       " (('credibility', 'injustice'), 0.9189997773193346),\n",
       " (('equality', 'injustice'), 0.9186572514665443)]"
      ]
     },
     "execution_count": 8,
     "metadata": {},
     "output_type": "execute_result"
    }
   ],
   "source": [
    "define('fairness')"
   ]
  },
  {
   "cell_type": "code",
   "execution_count": 9,
   "metadata": {},
   "outputs": [
    {
     "data": {
      "application/vnd.jupyter.widget-view+json": {
       "model_id": "8c68e627d2a848d4be71f78340fe23d2",
       "version_major": 2,
       "version_minor": 0
      },
      "text/plain": [
       "  0%|          | 0/5124 [00:00<?, ?it/s]"
      ]
     },
     "metadata": {},
     "output_type": "display_data"
    },
    {
     "data": {
      "text/plain": [
       "[(('dead', 'living'), 0.938973958792837),\n",
       " (('active', 'dead'), 0.9386226303096936),\n",
       " (('active', 'living'), 0.9383783324356018),\n",
       " (('active', 'death'), 0.9366785450943417),\n",
       " (('busy', 'living'), 0.9366712142226564),\n",
       " (('active', 'live'), 0.935941566468813),\n",
       " (('dead', 'live'), 0.9356847119955423),\n",
       " (('active', 'born'), 0.9355655609387856),\n",
       " (('able', 'living'), 0.934320938435825),\n",
       " (('alone', 'living'), 0.9341431954102374)]"
      ]
     },
     "execution_count": 9,
     "metadata": {},
     "output_type": "execute_result"
    }
   ],
   "source": [
    "define('alive')"
   ]
  },
  {
   "cell_type": "code",
   "execution_count": 10,
   "metadata": {},
   "outputs": [
    {
     "data": {
      "application/vnd.jupyter.widget-view+json": {
       "model_id": "f4e611277af548a5b4f28300e91229ef",
       "version_major": 2,
       "version_minor": 0
      },
      "text/plain": [
       "  0%|          | 0/5124 [00:00<?, ?it/s]"
      ]
     },
     "metadata": {},
     "output_type": "display_data"
    },
    {
     "data": {
      "text/plain": [
       "[(('delighted', 'healthy'), 0.9242524815951367),\n",
       " (('luck', 'satisfied'), 0.9235974589410217),\n",
       " (('holiday', 'satisfied'), 0.9227352936482455),\n",
       " (('healthy', 'pleased'), 0.921318589257293),\n",
       " (('fun', 'satisfied'), 0.9205655787285081),\n",
       " (('glad', 'healthy'), 0.9198661837689315),\n",
       " (('healthy', 'satisfied'), 0.9197794384539872),\n",
       " (('healthy', 'unhappy'), 0.919463466025601),\n",
       " (('delighted', 'luck'), 0.919437257445518),\n",
       " (('luck', 'unhappy'), 0.9193519907616582)]"
      ]
     },
     "execution_count": 10,
     "metadata": {},
     "output_type": "execute_result"
    }
   ],
   "source": [
    "define('happy')"
   ]
  },
  {
   "cell_type": "code",
   "execution_count": 11,
   "metadata": {},
   "outputs": [
    {
     "data": {
      "application/vnd.jupyter.widget-view+json": {
       "model_id": "c0be48bfb0694d72b19c6a94a0bd12d9",
       "version_major": 2,
       "version_minor": 0
      },
      "text/plain": [
       "  0%|          | 0/5124 [00:00<?, ?it/s]"
      ]
     },
     "metadata": {},
     "output_type": "display_data"
    },
    {
     "data": {
      "text/plain": [
       "[(('act', 'painting'), 0.9269632151880671),\n",
       " (('act', 'drawing'), 0.9246389069089864),\n",
       " (('craft', 'drawing'), 0.9240656356430315),\n",
       " (('drawing', 'sport'), 0.9233651896076635),\n",
       " (('act', 'craft'), 0.9232564379681216),\n",
       " (('painting', 'sport'), 0.9230250715159545),\n",
       " (('act', 'paint'), 0.923000600026521),\n",
       " (('paint', 'sport'), 0.9218951435054941),\n",
       " (('craft', 'painting'), 0.9212718542252519),\n",
       " (('drawing', 'science'), 0.9207351558409518)]"
      ]
     },
     "execution_count": 11,
     "metadata": {},
     "output_type": "execute_result"
    }
   ],
   "source": [
    "define('art')"
   ]
  }
 ],
 "metadata": {
  "interpreter": {
   "hash": "1a58f2b50cba0e3ef60ddaac0060fcc6c1f1afd3fbbcd44f07b68475f7ee4549"
  },
  "kernelspec": {
   "display_name": "Python 3.9.13 64-bit ('aca': conda)",
   "name": "python3"
  },
  "language_info": {
   "codemirror_mode": {
    "name": "ipython",
    "version": 3
   },
   "file_extension": ".py",
   "mimetype": "text/x-python",
   "name": "python",
   "nbconvert_exporter": "python",
   "pygments_lexer": "ipython3",
   "version": "3.9.13"
  },
  "orig_nbformat": 4
 },
 "nbformat": 4,
 "nbformat_minor": 2
}
